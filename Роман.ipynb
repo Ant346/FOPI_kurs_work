{
 "metadata": {
  "language_info": {
   "codemirror_mode": {
    "name": "ipython",
    "version": 3
   },
   "file_extension": ".py",
   "mimetype": "text/x-python",
   "name": "python",
   "nbconvert_exporter": "python",
   "pygments_lexer": "ipython3",
   "version": "3.9.2"
  },
  "orig_nbformat": 2,
  "kernelspec": {
   "name": "python392jvsc74a57bd0d20511710d0ef1b8f61e9561ea7a1dacb95f86736785c369355f9020fcd31a57",
   "display_name": "Python 3.9.2 64-bit"
  },
  "metadata": {
   "interpreter": {
    "hash": "d20511710d0ef1b8f61e9561ea7a1dacb95f86736785c369355f9020fcd31a57"
   }
  }
 },
 "nbformat": 4,
 "nbformat_minor": 2,
 "cells": [
  {
   "cell_type": "code",
   "execution_count": 65,
   "metadata": {},
   "outputs": [
    {
     "output_type": "stream",
     "name": "stdout",
     "text": [
      " Sm= 3.142e-04\n Sδ= 7.540e-04\n Sm/Sδ= 4.167e-01\n Bm= 1.248e+00\n\n Bm_Hm= 3.900e-05\n\n Lm= 1.492e-02\n Dm= 2.000e-02\n\n"
     ]
    }
   ],
   "source": [
    "import math as m\n",
    "###3.1.1\n",
    "#///условия////\n",
    "a=10*1e-3\n",
    "δ=1.5*1e-3\n",
    "Dδ=30*1e-3\n",
    "h=8*1e-3\n",
    "Bδ=0.4\n",
    "Dm=Dδ-a\n",
    "k=0.3\n",
    "μ0=m.pi*4*1e-7\n",
    "#///условия////\n",
    "\n",
    "###3.2.1\n",
    "\n",
    "Sm=m.pi*Dm**2/4\n",
    "Sδ=h*m.pi*Dδ\n",
    "Sm_Sδ=Sm/Sδ\n",
    "Bm=Bδ*1/Sm_Sδ*(1+k)\n",
    "print(' Sm= %.3e\\n' %Sm,'Sδ= %.3e\\n' %Sδ,'Sm/Sδ= %.3e\\n' %Sm_Sδ,'Bm= %.3e\\n' %Bm)\n",
    "\n",
    "Hm=32*1e3\n",
    "Bm_Hm=Bm/Hm\n",
    "print(' Bm_Hm= %.3e\\n' %Bm_Hm)\n",
    "Lm=Bm_Hm*(δ/(μ0*(1+k)))*Sm_Sδ\n",
    "#Lm=1.866*1e-2\n",
    "\n",
    "print(' Lm= %.3e\\n' %Lm,'Dm= %.3e\\n' %Dm)\n"
   ]
  },
  {
   "cell_type": "code",
   "execution_count": 58,
   "metadata": {},
   "outputs": [
    {
     "output_type": "stream",
     "name": "stdout",
     "text": [
      " Lm= 9.897e-03\n Dm= 1.800e-02\n Sm_Sδ= 3.375e-01\n\n"
     ]
    }
   ],
   "source": [
    "#Если не сошлось\n",
    "Bm=0.99 #вводим желаемое значение исходя из рабочей точки графика\n",
    "Hm=31e3 #эквивалентное ей значение напряженности\n",
    "Dm=m.sqrt((Bδ*4*Dδ*h*(1+k))/(Bm))\n",
    "Dm=18*1e-3 # округляем\n",
    "Sm=m.pi*Dm**2/4\n",
    "Sm_Sδ=Sm/Sδ\n",
    "Bm_Hm=Bm/Hm\n",
    "Lm=Bm_Hm*(δ/(μ0*(1+k)))*Sm_Sδ\n",
    "print(' Lm= %.3e\\n' %Lm,'Dm= %.3e\\n' %Dm,'Sm_Sδ= %.3e\\n' %Sm_Sδ)"
   ]
  },
  {
   "cell_type": "code",
   "execution_count": 66,
   "metadata": {},
   "outputs": [
    {
     "output_type": "stream",
     "name": "stdout",
     "text": [
      " Φm= 3.921e-04\n Φδ= 3.016e-04\n Bδ= 4.000e-01\n\n"
     ]
    }
   ],
   "source": [
    "###3.2.2 проверка \n",
    "Bm_Hm=μ0*(1+k)*Sδ/Sm*Lm/δ\n",
    "Hm2=31*1e3 #указываем значение точки по y через которую будем проводить прямую\n",
    "Bm2=Bm_Hm*Hm2\n",
    "#проводим прямую и смотрим значения пересечения\n",
    "Bm_izm=0.99\n",
    "Hm_izm=31*1e3\n",
    "Φm=Bm*Sm # ищем потоки и сравниваем с условием индукцию зазора\n",
    "Φδ=Bδ*Sδ\n",
    "Bδ=Φδ/Sδ\n",
    "print(' Φm= %.3e\\n' %Φm,'Φδ= %.3e\\n' %Φδ,'Bδ= %.3e\\n' %Bδ)\n"
   ]
  },
  {
   "cell_type": "code",
   "execution_count": 67,
   "metadata": {},
   "outputs": [],
   "source": [
    "import math as m\n",
    "###4.1.1\n",
    "#///условия////\n",
    "a=10\n",
    "b=10\n",
    "c=20\n",
    "dδ=0.25\n",
    "h=30\n",
    "S0=350\n",
    "Fizm=18\n",
    "f=a\n",
    "#///условия////\n",
    "d0=0.2\n",
    "d1=0.22\n",
    "lamb=1.5\n",
    "eps=3\n",
    "μ0=m.pi*4*1e-7"
   ]
  },
  {
   "source": [
    "f0_list=[0.6,0.55,0.5]\n",
    "f0=f0_list[0] # Выбираем сечение провода(у всех дефолтное)\n",
    "w=4*f0*(c-eps-lamb)*(h-2*lamb-f)/(m.pi*d1**2) #считаем количесвто витков, округляем до целого\n",
    "print('w= ','%.0f'%w)"
   ],
   "cell_type": "code",
   "metadata": {},
   "execution_count": 68,
   "outputs": [
    {
     "output_type": "stream",
     "name": "stdout",
     "text": [
      "w=  4159\n"
     ]
    }
   ]
  },
  {
   "cell_type": "code",
   "execution_count": 69,
   "metadata": {},
   "outputs": [
    {
     "output_type": "stream",
     "name": "stdout",
     "text": [
      "δ0min1= 1.25 \nδ0max1= 1.667\n\nδ0min2= 1.0 \nδ0max2= 2.0\n"
     ]
    }
   ],
   "source": [
    "δ0max1=dδ/0.15 #определяем границы начального зазора 1 соотношение\n",
    "δ0min1=dδ/0.2\n",
    "print('δ0min1=',δ0min1,'\\nδ0max1=','%.3f'%δ0max1)\n",
    "\n",
    "δ0min2=a*0.1 #определяем границы начального зазора 2  соотношение\n",
    "δ0max2=a*0.2\n",
    "print('\\nδ0min2=',δ0min2,'\\nδ0max2=',δ0max2)"
   ]
  },
  {
   "cell_type": "code",
   "execution_count": 70,
   "metadata": {},
   "outputs": [
    {
     "output_type": "stream",
     "name": "stdout",
     "text": [
      "δ0= 1.7\n"
     ]
    }
   ],
   "source": [
    "#Выбрать наименьшее значение, которые находится сразу в обоих множествах\n",
    "min = 1e10\n",
    "if δ0min1<δ0min2: \n",
    "    δ0=round(δ0min2,2)\n",
    "else:\n",
    "    δ0=round(δ0min1,2)\n",
    "    δ0=1.7\n",
    "print('δ0=',δ0)"
   ]
  },
  {
   "cell_type": "code",
   "execution_count": 71,
   "metadata": {},
   "outputs": [
    {
     "output_type": "stream",
     "name": "stdout",
     "text": [
      "δ0max= 1.95 \nδ0min= 1.45\n"
     ]
    }
   ],
   "source": [
    "δ0max=δ0+dδ # добавляем ход\n",
    "δ0min=δ0-dδ\n",
    "print('δ0max=',δ0max,'\\nδ0min=',δ0min)"
   ]
  },
  {
   "cell_type": "code",
   "execution_count": 72,
   "metadata": {},
   "outputs": [],
   "source": [
    "def p4_1_3_2():\n",
    "    global m1,m2\n",
    "    #4.1.3.2.\n",
    "    #Для расчета имеем п-образный сердечник. Для него следует выбирать      индукцию B=0.2\n",
    "    B=0.3 #0,3 для Ш-образного\n",
    "    #Построили схему замещения\n",
    "    #Определение магнитного сопротивления примаксимальном воздушном         зазоре\n",
    "    X_=c/2\n",
    "    print('X_=',X_)\n",
    "    #по рис. 7 по известной X'/δmax определяем Zb/δmax\n",
    "    print('X_/δ0max=',X_/δ0max) \n",
    "    #По графику ищем соответствие (для значений  <35 коэффициент 1.3)\n",
    "    Zb_δmax=X_/δ0max /1.3\n",
    "    print('Zb_δmax=',Zb_δmax) \n",
    "    Zb=Zb_δmax*δ0max\n",
    "    print('Zb=',Zb)\n",
    "    Z_a=a\n",
    "    print('Z_a=',Z_a)\n",
    "    Z__b=Z_a\n",
    "    print('Z__b=',Z__b)\n",
    "    x__δmax= Z__b/δ0max*1.3\n",
    "    x__=x__δmax*δ0max\n",
    "    print('x__=','%.3f'%x__)\n",
    "    # НОВЫЙ ШАГ\n",
    "    m1=(Z__b+(x__-δ0max/2))/2\n",
    "    m2=(Zb+(X_-δ0max))/2\n",
    "    print('m1=%.2f'%m1,'\\nm2=%.2f'%m2)"
   ]
  },
  {
   "cell_type": "code",
   "execution_count": 73,
   "metadata": {},
   "outputs": [
    {
     "output_type": "stream",
     "name": "stdout",
     "text": [
      "X_= 10.0\nX_/δ0max= 5.128205128205129\nZb_δmax= 3.9447731755424065\nZb= 7.6923076923076925\nZ_a= 10\nZ__b= 10\nx__= 13.000\nm1=11.01 \nm2=7.87\n"
     ]
    }
   ],
   "source": [
    "p4_1_3_2()"
   ]
  },
  {
   "cell_type": "code",
   "execution_count": 74,
   "metadata": {},
   "outputs": [],
   "source": [
    "def x_δ (δ0max,m1=m1,m2=m2,w=w,k1=1):\n",
    "    global Ze_max,Ze_min\n",
    "    B=0.3#0,3 для Ш-образного\n",
    "    #Построили схему замещения\n",
    "    G1=μ0*((2*b*1e-3)/(m.pi*((δ0max/m2)+0.5)))\n",
    "    print('m2=',m2,'\\n\\nG1=','%.3f e-9'%(G1*1e9))\n",
    "\n",
    "    G2=μ0*0.52*b*1e-3\n",
    "    G3=μ0*(a*b*1e-3/δ0max)\n",
    "    G4=μ0*0.26*b*1e-3\n",
    "    print('G2=','%.3f e-9'%(G2*1e9))\n",
    "    print('G3=','%.3f e-9'%(G3*1e9))\n",
    "    print('G4=','%.3f e-9'%(G4*1e9))\n",
    "\n",
    "    \n",
    "    G5=μ0*((2*b*1e-3)/(m.pi*((δ0max/m1)+1)))\n",
    "    print('m1=',m1,'\\n\\nG5=','%.3fe-9'%(G5*1e9))\n",
    "    #до зазора δ2\n",
    "\n",
    "    G6=μ0*0.077*δ0max*1e-3\n",
    "    G7=μ0*m1*1e-3/4\n",
    "    G8=2*G6+2*G7\n",
    "    print('G6=','%.3f e-9'%(G6*1e9))\n",
    "    print('G7=','%.3f e-9'%(G7*1e9))\n",
    "    print('G8=','%.3f e-9'%(G8*1e9))\n",
    "\n",
    "    Gb4=G1+G2+G3+3*(G4+G5)+2*(G6+G7+G8)\n",
    "    print('\\nGb4=','%.3f e-9'%(Gb4*1e9))\n",
    "\n",
    "    Rb4=1/Gb4\n",
    "    print('\\nRb4=','%.3f e6'%(Rb4*1e-6))\n",
    "\n",
    "    Gb2=G1+G2+G3+2*(G4+G5+G8)\n",
    "    print('\\nGb2=','%.3f e-9'%(Gb2*1e9))\n",
    "    Rb2=1/Gb2\n",
    "    print('\\nRb2=','%.3f e6'%(Rb2*1e-6))\n",
    "\n",
    "    R_ms=(Rb2+Rb4)/2\n",
    "\n",
    "    print('\\nR_ms','%.3f e6'%(R_ms*1e-6))\n",
    "    #4.1.3.3.\n",
    "    ro=0.0174\n",
    "    \n",
    "    lsr=2*(2*(c-eps-lamb)/k1+3*a+2*eps+4*lamb) #для Ш-образного\n",
    "    #lsr=4*(h+lamb)+2*eps  # Для П-образного\n",
    "\n",
    "    q=m.pi*d0**2/4\n",
    "    ow=2*m.pi*50\n",
    "    Ra_r=ro*lsr*1e-3*w/q\n",
    "    Ra_im=ow*w**2/R_ms\n",
    "    Ze=(Ra_r**2+Ra_im**2)**0.5\n",
    "    if δ0max==1.95:\n",
    "        Ze_min=(Ra_r**2+Ra_im**2)**0.5\n",
    "        print('\\nZe_min= %.2f e3 '%(Ze_min*1e-3))\n",
    "    else:\n",
    "        Ze_max=(Ra_r**2+Ra_im**2)**0.5\n",
    "        print('\\nZe_max= %.2f e3 '%(Ze_max*1e-3))\n",
    "    print('lsr=%.2f'%lsr)\n",
    "\n",
    "    print('\\nRa_r=%.2f'%Ra_r)\n",
    "    print('Ra_im=%.2f'%Ra_im)\n",
    "\n",
    "    \n",
    "    #4.1.3.4.\n",
    "    I=(B*2*a*b*R_ms*10**(-6))/(w*(2**0.5))\n",
    "    print('I= %.2f'%I)\n",
    "    j=I/q\n",
    "    print('j<=2..2.5 j= %.2f'%j)\n",
    "    U=I*Ze\n",
    "    print('U= %.2f'%U)\n",
    "    "
   ]
  },
  {
   "cell_type": "code",
   "execution_count": 75,
   "metadata": {},
   "outputs": [
    {
     "output_type": "stream",
     "name": "stdout",
     "text": [
      "m2= 7.871153846153847 \n\nG1= 10.699 e-9\nG2= 6.535 e-9\nG3= 64.443 e-9\nG4= 3.267 e-9\nm1= 11.012500000000001 \n\nG5= 6.797e-9\nG6= 0.189 e-9\nG7= 3.460 e-9\nG8= 7.297 e-9\n\nGb4= 133.758 e-9\n\nRb4= 7.476 e6\n\nGb2= 116.397 e-9\n\nRb2= 8.591 e6\n\nR_ms 8.034 e6\n\nZe_min= 0.76 e3 \nlsr=146.00\n\nRa_r=336.32\nRa_im=676.43\nI= 0.08\nj<=2..2.5 j= 2.61\nU= 61.91\n\n\n\n\n\n\nm2= 7.871153846153847 \n\nG1= 11.692 e-9\nG2= 6.535 e-9\nG3= 86.665 e-9\nG4= 3.267 e-9\nm1= 11.012500000000001 \n\nG5= 7.069e-9\nG6= 0.140 e-9\nG7= 3.460 e-9\nG8= 7.200 e-9\n\nGb4= 157.501 e-9\n\nRb4= 6.349 e6\n\nGb2= 139.964 e-9\n\nRb2= 7.145 e6\n\nR_ms 6.747 e6\n\nZe_max= 0.87 e3 \nlsr=146.00\n\nRa_r=336.32\nRa_im=805.45\nI= 0.07\nj<=2..2.5 j= 2.19\nU= 60.07\ndZe=117.41 \n"
     ]
    }
   ],
   "source": [
    "x_δ (δ0max)\n",
    "print('\\n\\n\\n\\n\\n')\n",
    "x_δ (δ0min)\n",
    "print('dZe=%.2f '%((Ze_max-Ze_min)))"
   ]
  },
  {
   "cell_type": "code",
   "execution_count": 76,
   "metadata": {},
   "outputs": [
    {
     "output_type": "stream",
     "name": "stdout",
     "text": [
      "dZe=1.174128e+02\nS=2.348257e+02\nS0=3.500000e+02\nk1=0.819103\nw_new=5077.592788\n"
     ]
    }
   ],
   "source": [
    "dZe=m.fabs(Ze_max-Ze_min)\n",
    "print('dZe=%e'%dZe)\n",
    "S=dZe/(2*dδ)\n",
    "print('S=%e'%S)\n",
    "print('S0=%e'%S0)\n",
    "k1=(S/S0)**0.5\n",
    "print('k1=%f'%k1)\n",
    "w_new=w/k1\n",
    "print('w_new=%f'%w_new)"
   ]
  },
  {
   "cell_type": "code",
   "execution_count": 77,
   "metadata": {},
   "outputs": [
    {
     "output_type": "execute_result",
     "data": {
      "text/plain": [
       "4159.073802120439"
      ]
     },
     "metadata": {},
     "execution_count": 77
    }
   ],
   "source": [
    "w"
   ]
  },
  {
   "cell_type": "code",
   "execution_count": 78,
   "metadata": {},
   "outputs": [
    {
     "output_type": "stream",
     "name": "stdout",
     "text": [
      "m2= 7.871153846153847 \n\nG1= 11.692 e-9\nG2= 6.535 e-9\nG3= 86.665 e-9\nG4= 3.267 e-9\nm1= 11.012500000000001 \n\nG5= 7.069e-9\nG6= 0.140 e-9\nG7= 3.460 e-9\nG8= 7.200 e-9\n\nGb4= 157.501 e-9\n\nRb4= 6.349 e6\n\nGb2= 139.964 e-9\n\nRb2= 7.145 e6\n\nR_ms 6.747 e6\n\nZe_max= 1.28 e3 \nlsr=159.69\n\nRa_r=449.13\nRa_im=1200.68\nI= 0.06\nj<=2..2.5 j= 1.79\nU= 72.26\nm2= 7.871153846153847 \n\nG1= 10.699 e-9\nG2= 6.535 e-9\nG3= 64.443 e-9\nG4= 3.267 e-9\nm1= 11.012500000000001 \n\nG5= 6.797e-9\nG6= 0.189 e-9\nG7= 3.460 e-9\nG8= 7.297 e-9\n\nGb4= 133.758 e-9\n\nRb4= 7.476 e6\n\nGb2= 116.397 e-9\n\nRb2= 8.591 e6\n\nR_ms 8.034 e6\n\nZe_min= 1.10 e3 \nlsr=159.69\n\nRa_r=449.13\nRa_im=1008.37\nI= 0.07\nj<=2..2.5 j= 2.14\nU= 74.09\n\n\n\n\n\n\ndZe=1.780703e+02\nS=3.561407e+02\nk1=1.008734\nw_new=5034.031675\n\n\n\n\n\n\nm2= 7.871153846153847 \n\nG1= 11.692 e-9\nG2= 6.535 e-9\nG3= 86.665 e-9\nG4= 3.267 e-9\nm1= 11.012500000000001 \n\nG5= 7.069e-9\nG6= 0.140 e-9\nG7= 3.460 e-9\nG8= 7.200 e-9\n\nGb4= 157.501 e-9\n\nRb4= 6.349 e6\n\nGb2= 139.964 e-9\n\nRb2= 7.145 e6\n\nR_ms 6.747 e6\n\nZe_max= 1.25 e3 \nlsr=145.46\n\nRa_r=405.57\nRa_im=1179.97\nI= 0.06\nj<=2..2.5 j= 1.81\nU= 70.95\nm2= 7.871153846153847 \n\nG1= 10.699 e-9\nG2= 6.535 e-9\nG3= 64.443 e-9\nG4= 3.267 e-9\nm1= 11.012500000000001 \n\nG5= 6.797e-9\nG6= 0.189 e-9\nG7= 3.460 e-9\nG8= 7.297 e-9\n\nGb4= 133.758 e-9\n\nRb4= 7.476 e6\n\nGb2= 116.397 e-9\n\nRb2= 8.591 e6\n\nR_ms 8.034 e6\n\nZe_min= 1.07 e3 \nlsr=145.46\n\nRa_r=405.57\nRa_im=990.97\nI= 0.07\nj<=2..2.5 j= 2.16\nU= 72.50\n\n\n\n\n\n\ndZe=1.769731e+02\nS=3.539461e+02\nk1=1.005622\nw_new=5005.859456\n\n\n\n\n\n\nm2= 7.871153846153847 \n\nG1= 11.692 e-9\nG2= 6.535 e-9\nG3= 86.665 e-9\nG4= 3.267 e-9\nm1= 11.012500000000001 \n\nG5= 7.069e-9\nG6= 0.140 e-9\nG7= 3.460 e-9\nG8= 7.200 e-9\n\nGb4= 157.501 e-9\n\nRb4= 6.349 e6\n\nGb2= 139.964 e-9\n\nRb2= 7.145 e6\n\nR_ms 6.747 e6\n\nZe_max= 1.23 e3 \nlsr=145.65\n\nRa_r=403.84\nRa_im=1166.88\nI= 0.06\nj<=2..2.5 j= 1.82\nU= 70.61\nm2= 7.871153846153847 \n\nG1= 10.699 e-9\nG2= 6.535 e-9\nG3= 64.443 e-9\nG4= 3.267 e-9\nm1= 11.012500000000001 \n\nG5= 6.797e-9\nG6= 0.189 e-9\nG7= 3.460 e-9\nG8= 7.297 e-9\n\nGb4= 133.758 e-9\n\nRb4= 7.476 e6\n\nGb2= 116.397 e-9\n\nRb2= 8.591 e6\n\nR_ms 8.034 e6\n\nZe_min= 1.06 e3 \nlsr=145.65\n\nRa_r=403.84\nRa_im=979.97\nI= 0.07\nj<=2..2.5 j= 2.17\nU= 72.17\n\n\n\n\n\n\ndZe=1.748606e+02\nS=3.497213e+02\nk1=0.999602\nw_new=5007.994330\n\n\n\n\n\n\nz=3\nw_new=5008.000000\n"
     ]
    }
   ],
   "source": [
    "z=0\n",
    "while m.fabs(S-S0)>1:\n",
    "    z=z+1\n",
    "    w_new=round(w_new)\n",
    "    x_δ (δ0max=δ0min,w=w_new,k1=k1)\n",
    "    x_δ (δ0max=δ0max,w=w_new,k1=k1)\n",
    "    print('\\n\\n\\n\\n\\n')\n",
    "    dZe=m.fabs(Ze_max-Ze_min)\n",
    "    print('dZe=%e'%dZe)\n",
    "    S=dZe/(2*dδ)\n",
    "    print('S=%e'%S)\n",
    "    k1=(S/S0)**0.5\n",
    "    print('k1=%f'%k1)\n",
    "    w_new=w_new/k1\n",
    "    print('w_new=%f'%w_new)\n",
    "    print('\\n\\n\\n\\n\\n')\n",
    "print('z=%d'%z)   \n",
    "m.fabs(S-S0)\n",
    "print('w_new=%f'%round(w_new))"
   ]
  },
  {
   "cell_type": "code",
   "execution_count": 55,
   "metadata": {},
   "outputs": [
    {
     "output_type": "stream",
     "name": "stdout",
     "text": [
      "Fsum=0.09\nFizm=18.00\nFizm>Fsum*5..10\n18.00>0.47..0.94\n"
     ]
    }
   ],
   "source": [
    "w_new=round(w_new)\n",
    "#4.1.3.7. Определение измерительного усилия\n",
    "Iδmax=0.0185\n",
    "Iδmin=0.0150\n",
    "Gb4_min= 162.985e-9\n",
    "Gb4_max= 134.279e-9\n",
    "Gb2_min= 145.334e-9\n",
    "Gb2_max= 116.943e-9\n",
    "\n",
    "Fsum=w_new**2*(Iδmin**2*(Gb4_min+Gb2_min)/(δ0min*1e-3)-Iδmax**2*(Gb4_max+Gb2_max)/(δ0max*1e-3))\n",
    "print('Fsum=%.2f'%Fsum)\n",
    "print('Fizm=%.2f'%Fizm)\n",
    "print('Fizm>Fsum*5..10')\n",
    "print('%.2f>%.2f..%.2f'%(Fizm,Fsum*5,Fsum*10))\n"
   ]
  },
  {
   "cell_type": "code",
   "execution_count": null,
   "metadata": {},
   "outputs": [],
   "source": []
  }
 ]
}