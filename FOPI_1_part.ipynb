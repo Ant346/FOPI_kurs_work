{
 "metadata": {
  "language_info": {
   "codemirror_mode": {
    "name": "ipython",
    "version": 3
   },
   "file_extension": ".py",
   "mimetype": "text/x-python",
   "name": "python",
   "nbconvert_exporter": "python",
   "pygments_lexer": "ipython3",
   "version": "3.8.5-final"
  },
  "orig_nbformat": 2,
  "kernelspec": {
   "name": "python3",
   "display_name": "Python 3.8.5 32-bit",
   "metadata": {
    "interpreter": {
     "hash": "da0ebdb0063591e8656be8f5d83dfb24c7440b18257da1d1e3ac92b19370ed5d"
    }
   }
  }
 },
 "nbformat": 4,
 "nbformat_minor": 2,
 "cells": [
  {
   "cell_type": "code",
   "execution_count": 4,
   "metadata": {},
   "outputs": [
    {
     "output_type": "stream",
     "name": "stdout",
     "text": [
      " Sm= 4.155e-04\n Sδ= 4.712e-04\n Sm/Sδ= 8.817e-01\n Bm= 5.898e-01\n\n Bm_Hm= 1.072e-05\n\n Lm= 8.681e-03\n Dm= 2.300e-02\n\n"
     ]
    }
   ],
   "source": [
    "import math as m\n",
    "###3.1.1\n",
    "#///условия////\n",
    "a=2*1e-3\n",
    "δ=1.5*1e-3\n",
    "Dδ=25*1e-3\n",
    "h=6*1e-3\n",
    "Bδ=0.4\n",
    "Dm=Dδ-a\n",
    "k=0.3\n",
    "μ0=m.pi*4*1e-7\n",
    "#///условия////\n",
    "\n",
    "###3.2.1\n",
    "\n",
    "Sm=m.pi*Dm**2/4\n",
    "Sδ=h*m.pi*Dδ\n",
    "Sm_Sδ=Sm/Sδ\n",
    "Bm=Bδ*1/Sm_Sδ*(1+k)\n",
    "print(' Sm= %.3e\\n' %Sm,'Sδ= %.3e\\n' %Sδ,'Sm/Sδ= %.3e\\n' %Sm_Sδ,'Bm= %.3e\\n' %Bm)\n",
    "\n",
    "Hm=55*1e3\n",
    "Bm_Hm=Bm/Hm\n",
    "print(' Bm_Hm= %.3e\\n' %Bm_Hm)\n",
    "Lm=Bm_Hm*(δ/(μ0*(1+k)))*Sm_Sδ\n",
    "\n",
    "print(' Lm= %.3e\\n' %Lm,'Dm= %.3e\\n' %Dm)\n"
   ]
  },
  {
   "cell_type": "code",
   "execution_count": 5,
   "metadata": {},
   "outputs": [
    {
     "output_type": "stream",
     "name": "stdout",
     "text": [
      " Lm= 1.472e-02\n Dm= 1.800e-02\n Sm_Sδ= 5.400e-01\n\n"
     ]
    }
   ],
   "source": [
    "#Если не сошлось\n",
    "Bm=0.95 #вводим желаемое значение исходя из рабочей точки графика\n",
    "Hm=32*1e3 #эквивалентное ей значение напряженности\n",
    "Dm=m.sqrt((Bδ*4*Dδ*h*(1+k))/(Bm))\n",
    "Dm=18*1e-3 # округляем\n",
    "Sm=m.pi*Dm**2/4\n",
    "Sm_Sδ=Sm/Sδ\n",
    "Bm_Hm=Bm/Hm\n",
    "Lm=Bm_Hm*(δ/(μ0*(1+k)))*Sm_Sδ\n",
    "print(' Lm= %.3e\\n' %Lm,'Dm= %.3e\\n' %Dm,'Sm_Sδ= %.3e\\n' %Sm_Sδ)"
   ]
  },
  {
   "cell_type": "code",
   "execution_count": 6,
   "metadata": {},
   "outputs": [
    {
     "output_type": "stream",
     "name": "stdout",
     "text": [
      " Φm= 2.417e-04\n Φδ= 1.885e-04\n Bδ= 4.000e-01\n\n"
     ]
    }
   ],
   "source": [
    "###3.2.2 проверка \n",
    "Bm_Hm=μ0*(1+k)*Sδ/Sm*Lm/δ\n",
    "Hm2=20*1e3 #указываем значение точки по y через которую будем проводить прямую\n",
    "Bm2=Bm_Hm*Hm2\n",
    "#проводим прямую и смотрим значения пересечения\n",
    "Bm_izm=0.97\n",
    "Hm_izm=31*1e3\n",
    "Φm=Bm*Sm # ищем потоки и сравниваем с условием индукцию зазора\n",
    "Φδ=Bδ*Sδ\n",
    "Bδ=Φδ/Sδ\n",
    "print(' Φm= %.3e\\n' %Φm,'Φδ= %.3e\\n' %Φδ,'Bδ= %.3e\\n' %Bδ)\n"
   ]
  },
  {
   "cell_type": "code",
   "execution_count": 82,
   "metadata": {},
   "outputs": [],
   "source": [
    "import math as m\n",
    "###4.1.1\n",
    "#///условия////\n",
    "a=10 \n",
    "b=10\n",
    "c=20\n",
    "dδ=0.2\n",
    "h=50\n",
    "S=1500\n",
    "Fizm=20\n",
    "f=a\n",
    "#///условия////\n",
    "d0=0.2\n",
    "d1=0.22\n",
    "lamb=1.5\n",
    "eps=3\n",
    "μ0=m.pi*4*1e-7"
   ]
  },
  {
   "cell_type": "code",
   "execution_count": 101,
   "metadata": {},
   "outputs": [
    {
     "output_type": "stream",
     "name": "stdout",
     "text": [
      "w=  8508\n"
     ]
    }
   ],
   "source": [
    "f0_list=[0.6,0.55,0.5]\n",
    "f0=f0_list[0] # Выбираем сечение провода(у всех дефолтное)\n",
    "w=4*f0*(c-eps-2*lamb)*(h-lamb-f)/(m.pi*d1**2) #считаем количесвто витков, округляем до целого\n",
    "print('w= ','%.0f'%w)"
   ]
  },
  {
   "cell_type": "code",
   "execution_count": 9,
   "metadata": {},
   "outputs": [
    {
     "output_type": "stream",
     "name": "stdout",
     "text": [
      "δ0min1= 1.0 \nδ0max1= 1.333\n\nδ0min2= 1.0 \nδ0max2= 2.0\n"
     ]
    }
   ],
   "source": [
    "δ0max1=dδ/0.15 #определяем границы начального зазора 1 соотношение\n",
    "δ0min1=dδ/0.2\n",
    "print('δ0min1=',δ0min1,'\\nδ0max1=','%.3f'%δ0max1)\n",
    "\n",
    "δ0min2=a*0.1 #определяем границы начального зазора 2  соотношение\n",
    "δ0max2=a*0.2\n",
    "print('\\nδ0min2=',δ0min2,'\\nδ0max2=',δ0max2)"
   ]
  },
  {
   "cell_type": "code",
   "execution_count": 10,
   "metadata": {},
   "outputs": [
    {
     "output_type": "stream",
     "name": "stdout",
     "text": [
      "δ0= 1.0\n"
     ]
    }
   ],
   "source": [
    "#Выбрать наименьшее значение, которые находится сразу в обоих множествах\n",
    "min = 1e10\n",
    "if δ0min1<δ0min2: \n",
    "    δ0=round(δ0min2,2)\n",
    "else:\n",
    "    δ0=round(δ0min1,2)\n",
    "print('δ0=',δ0)"
   ]
  },
  {
   "cell_type": "code",
   "execution_count": 11,
   "metadata": {},
   "outputs": [
    {
     "output_type": "stream",
     "name": "stdout",
     "text": [
      "δ0max= 1.2 \n",
      "δ0min= 0.8\n"
     ]
    }
   ],
   "source": [
    "δ0max=δ0+dδ # добавляем ход\n",
    "δ0min=δ0-dδ\n",
    "print('δ0max=',δ0max,'\\nδ0min=',δ0min)"
   ]
  },
  {
   "cell_type": "code",
   "execution_count": 111,
   "metadata": {},
   "outputs": [],
   "source": [
    "def x_δ (δ0max,w=w):\n",
    "    #4.1.3.2.\n",
    "    #Для расчета имеем п-образный сердечник. Для него следует выбирать      индукцию B=0.2\n",
    "    B=0.2#0,3 для Ш-образного\n",
    "    #Построили схему замещения\n",
    "    #Определение магнитного сопротивления примаксимальном воздушном         зазоре\n",
    "    X_=c/2\n",
    "    print('X_=',X_)\n",
    "    #по рис. 7 по известной X'/δmax определяем Zb/δmax\n",
    "    print('X_/δ0max=',X_/δ0max) \n",
    "\n",
    "    #По графику ищем соответствие (для значений  <35 коэффициент 1.3)\n",
    "    Zb_δmax=X_/δ0max /1.3\n",
    "    print('Zb_δmax=',Zb_δmax) \n",
    "\n",
    "    Zb=Zb_δmax/δ0max\n",
    "    print('Zb=',Zb)\n",
    "    Z_a=a\n",
    "    print('Z_a=',Z_a)\n",
    "\n",
    "    Z_b=Z_a/δ0max\n",
    "    print('Zb_δmax=',Zb_δmax)\n",
    "\n",
    "    x__δmax=Zb_δmax*1.3\n",
    "    print('x__δmax=','%.3f'%x__δmax)\n",
    "\n",
    "    \n",
    "    # НОВЫЙ ШАГ\n",
    "    m2=(Zb+(X_-δ0max))/2\n",
    "    G1=μ0*((2*b*1e-3)/(m.pi*((δ0max/m2)+0.5)))\n",
    "    print('m2=',m2,'\\n\\nG1=','%.3e'%G1)\n",
    "\n",
    "    G2=μ0*0.52*b*1e-3\n",
    "    G3=μ0*(a*b*1e-3/δ0max)\n",
    "    G4=μ0*0.26*b*1e-3\n",
    "    print('G2=','%.3e'%G2)\n",
    "    print('G3=','%.3e'%G3)\n",
    "    print('G4=','%.3e'%G4)\n",
    "\n",
    "    m1=(Zb_δmax+(x__δmax-δ0max/2))/2\n",
    "    G5=μ0*((2*b*1e-3)/(m.pi*((δ0max/m1)+1)))\n",
    "    print('m1=',m1,'\\n\\nG5=','%.3e'%G5)\n",
    "    #до зазора δ2\n",
    "\n",
    "    G6=μ0*0.077*δ0max*1e-3\n",
    "    G7=μ0*m1*1e-3/4\n",
    "    G8=2*G6+2*G7\n",
    "    print('G6=','%.3e'%G6)\n",
    "    print('G7=','%.3e'%G7)\n",
    "    print('G8=','%.3e'%G8)\n",
    "\n",
    "    Gb4=G1+G2+G3+3*(G4+G5)+2*(G6+G7+G8)\n",
    "    print('\\nGb4=','%.3e'%Gb4)\n",
    "\n",
    "    Rb4=1/Gb4\n",
    "    print('\\nRb4=','%.3e'%Rb4)\n",
    "\n",
    "    Gb2=G1+G2+G3+2*(G4+G5+G8)\n",
    "    # т.к. форма сердечника П-образная,то Rb2=Rb4 \n",
    "    Rb2=Rb4\n",
    "    print('\\nRb2=','%.3e'%Rb2)\n",
    "\n",
    "    R_ms=Rb4*2\n",
    "\n",
    "    print('\\nR_ms','%.3e'%R_ms)\n",
    "    #4.1.3.3.\n",
    "    ro=0.0174\n",
    "    # lsr=2*(2*(c-eps-lamb)+3*a+2*eps+4*lamb) для Ш-образного\n",
    "    lsr=4*(h+lamb)+2*eps  # Для П-образного\n",
    "    q=m.pi*d0**2/4\n",
    "    ow=2*m.pi*50\n",
    "    Ra_r=ro*lsr*1e-3*w/q\n",
    "    Ra_im=ow*w**2/R_ms\n",
    "    Ze=(Ra_r**2+Ra_im**2)**0.5\n",
    "    print('lsr=%.2f'%lsr)\n",
    "\n",
    "    print('\\nRa_r=%.2f'%Ra_r)\n",
    "    print('Ra_im=%.2f'%Ra_im)\n",
    "\n",
    "    print('\\nZe= %.2f '%(Ze))\n",
    "    #4.1.3.4.\n",
    "    I=(B*2*a*b*R_ms*10**(-6))/(w*(2**0.5))\n",
    "    print('I= %.2e'%I)\n",
    "    j=I/q\n",
    "    print('j<=2..2.5 j= %.2e'%j)\n",
    "    U=I*Ze\n",
    "    print('U= %.2e'%U)\n",
    "    \n",
    "\n",
    "    "
   ]
  },
  {
   "cell_type": "code",
   "execution_count": 112,
   "metadata": {},
   "outputs": [
    {
     "output_type": "stream",
     "name": "stdout",
     "text": [
      "X_= 10.0\nX_/δ0max= 8.333333333333334\nZb_δmax= 6.410256410256411\nZb= 5.341880341880342\nZ_a= 10\nZb_δmax= 6.410256410256411\nx__δmax= 8.333\nm2= 7.070940170940172 \n\nG1= 1.195e-08\nG2= 6.535e-09\nG3= 1.047e-07\nG4= 3.267e-09\nm1= 7.071794871794872 \n\nG5= 6.839e-09\nG6= 1.161e-10\nG7= 2.222e-09\nG8= 4.676e-09\n\nGb4= 1.675e-07\n\nRb4= 5.968e+06\n\nRb2= 5.968e+06\n\nR_ms 1.194e+07\nlsr=212.00\n\nRa_r=998.94\nRa_im=1904.87\n\nZe= 2150.91 \nI= 3.97e-02\nj<=2..2.5 j= 1.26e+00\nU= 8.54e+01\n"
     ]
    }
   ],
   "source": [
    "x_δ (δ0max)"
   ]
  },
  {
   "cell_type": "code",
   "execution_count": 113,
   "metadata": {},
   "outputs": [
    {
     "output_type": "stream",
     "name": "stdout",
     "text": [
      "X_= 10.0\nX_/δ0max= 12.5\nZb_δmax= 9.615384615384615\nZb= 12.019230769230768\nZ_a= 10\nZb_δmax= 9.615384615384615\nx__δmax= 12.500\nm2= 10.609615384615385 \n\nG1= 1.390e-08\nG2= 6.535e-09\nG3= 1.571e-07\nG4= 3.267e-09\nm1= 10.857692307692307 \n\nG5= 7.451e-09\nG6= 7.741e-11\nG7= 3.411e-09\nG8= 6.977e-09\n\nGb4= 2.306e-07\n\nRb4= 4.336e+06\n\nRb2= 4.336e+06\n\nR_ms 8.673e+06\nlsr=212.00\n\nRa_r=998.94\nRa_im=2621.77\n\nZe= 2805.63 \nI= 2.88e-02\nj<=2..2.5 j= 9.18e-01\nU= 8.09e+01\n"
     ]
    }
   ],
   "source": [
    "x_δ (δ0min)"
   ]
  },
  {
   "cell_type": "code",
   "execution_count": 128,
   "metadata": {},
   "outputs": [
    {
     "output_type": "stream",
     "name": "stdout",
     "text": [
      "k=1.04e+00\nw_new=8144\ndZэ=6.55e+02\nS0=1636.80\n"
     ]
    }
   ],
   "source": [
    "#4.1.3.7 Определение чувствительности, окончательное определение напряжения питания, максимального и минимального токов\n",
    "def task2 (Zэ_min,Zэ_max):\n",
    "    dZэ=Zэ_max-Zэ_min\n",
    "    print('dZэ=%.2e'%dZэ)\n",
    "    S0=dZэ/(2*dδ) # dδ 0.2 или 0.3\n",
    "    print('S0=%.2f'%S0)\n",
    "\n",
    "k=(S0/S)**0.5\n",
    "print('k=%.2e'%k)\n",
    "w_new=int(w/k)\n",
    "print('w_new=%d'%w_new)\n",
    "task2(2150.91,2805.63)"
   ]
  },
  {
   "cell_type": "code",
   "execution_count": 129,
   "metadata": {},
   "outputs": [
    {
     "output_type": "stream",
     "name": "stdout",
     "text": [
      "X_= 10.0\nX_/δ0max= 12.5\nZb_δmax= 9.615384615384615\nZb= 12.019230769230768\nZ_a= 10\nZb_δmax= 9.615384615384615\nx__δmax= 12.500\nm2= 10.609615384615385 \n\nG1= 1.390e-08\nG2= 6.535e-09\nG3= 1.571e-07\nG4= 3.267e-09\nm1= 10.857692307692307 \n\nG5= 7.451e-09\nG6= 7.741e-11\nG7= 3.411e-09\nG8= 6.977e-09\n\nGb4= 2.306e-07\n\nRb4= 4.336e+06\n\nRb2= 4.336e+06\n\nR_ms 8.673e+06\nlsr=212.00\n\nRa_r=956.25\nRa_im=2402.48\n\nZe= 2585.80 \nI= 3.01e-02\nj<=2..2.5 j= 9.59e-01\nU= 7.79e+01\n\n\n\n\n\nX_= 10.0\nX_/δ0max= 8.333333333333334\nZb_δmax= 6.410256410256411\nZb= 5.341880341880342\nZ_a= 10\nZb_δmax= 6.410256410256411\nx__δmax= 8.333\nm2= 7.070940170940172 \n\nG1= 1.195e-08\nG2= 6.535e-09\nG3= 1.047e-07\nG4= 3.267e-09\nm1= 7.071794871794872 \n\nG5= 6.839e-09\nG6= 1.161e-10\nG7= 2.222e-09\nG8= 4.676e-09\n\nGb4= 1.675e-07\n\nRb4= 5.968e+06\n\nRb2= 5.968e+06\n\nR_ms 1.194e+07\nlsr=212.00\n\nRa_r=956.25\nRa_im=1745.54\n\nZe= 1990.31 \nI= 4.15e-02\nj<=2..2.5 j= 1.32e+00\nU= 8.25e+01\n"
     ]
    }
   ],
   "source": [
    "x_δ (δ0min,w_new)\n",
    "print('\\n\\n\\n\\n')\n",
    "x_δ (δ0max,w_new)"
   ]
  },
  {
   "cell_type": "code",
   "execution_count": 130,
   "metadata": {},
   "outputs": [
    {
     "output_type": "stream",
     "name": "stdout",
     "text": [
      "dZэ=5.95e+02\nS0=1488.73\n"
     ]
    }
   ],
   "source": [
    "task2(1990.31,2585.80)"
   ]
  },
  {
   "cell_type": "code",
   "execution_count": 140,
   "metadata": {},
   "outputs": [
    {
     "output_type": "stream",
     "name": "stdout",
     "text": [
      "Fsum=1.50\nFizm=20.00\nFizm>Fsum*5..10\n20.00>7.51..15.03\n"
     ]
    }
   ],
   "source": [
    "#4.1.3.7. Определение измерительного усилия\n",
    "Iδmin=3.01e-02\n",
    "Gb4_max= 1.675e-07\n",
    "Gb4_min= 2.306e-07\n",
    "Iδmax=4.15e-02\n",
    "Fsum=w**2*(Iδmin**2*Gb4_min/(δ0min*1e-3)-Iδmax**2*Gb4_max/(δ0max*1e-3))\n",
    "print('Fsum=%.2f'%Fsum)\n",
    "print('Fizm=%.2f'%Fizm)\n",
    "print('Fizm>Fsum*5..10')\n",
    "print('%.2f>%.2f..%.2f'%(Fizm,Fsum*5,Fsum*10))\n"
   ]
  },
  {
   "cell_type": "code",
   "execution_count": null,
   "metadata": {},
   "outputs": [],
   "source": []
  }
 ]
}