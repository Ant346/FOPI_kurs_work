{
 "metadata": {
  "language_info": {
   "codemirror_mode": {
    "name": "ipython",
    "version": 3
   },
   "file_extension": ".py",
   "mimetype": "text/x-python",
   "name": "python",
   "nbconvert_exporter": "python",
   "pygments_lexer": "ipython3",
   "version": "3.8.5-final"
  },
  "orig_nbformat": 2,
  "kernelspec": {
   "name": "python3",
   "display_name": "Python 3.8.5 32-bit",
   "metadata": {
    "interpreter": {
     "hash": "da0ebdb0063591e8656be8f5d83dfb24c7440b18257da1d1e3ac92b19370ed5d"
    }
   }
  }
 },
 "nbformat": 4,
 "nbformat_minor": 2,
 "cells": [
  {
   "cell_type": "code",
   "execution_count": 53,
   "metadata": {},
   "outputs": [
    {
     "output_type": "stream",
     "name": "stdout",
     "text": [
      " Sm= 4.155e-04\n Sδ= 4.712e-04\n Sm/Sδ= 8.817e-01\n Bm= 5.898e-01\n\n Bm_Hm= 1.072e-05\n\n Lm= 8.681e-03\n Dm= 2.300e-02\n\n"
     ]
    }
   ],
   "source": [
    "import math as m\n",
    "###3.1.1\n",
    "#///условия////\n",
    "a=2*1e-3\n",
    "δ=1.5*1e-3\n",
    "Dδ=25*1e-3\n",
    "h=6*1e-3\n",
    "Bδ=0.4\n",
    "Dm=Dδ-a\n",
    "k=0.3\n",
    "μ0=m.pi*4*1e-7\n",
    "#///условия////\n",
    "\n",
    "###3.2.1\n",
    "\n",
    "Sm=m.pi*Dm**2/4\n",
    "Sδ=h*m.pi*Dδ\n",
    "Sm_Sδ=Sm/Sδ\n",
    "Bm=Bδ*1/Sm_Sδ*(1+k)\n",
    "print(' Sm= %.3e\\n' %Sm,'Sδ= %.3e\\n' %Sδ,'Sm/Sδ= %.3e\\n' %Sm_Sδ,'Bm= %.3e\\n' %Bm)\n",
    "\n",
    "Hm=55*1e3\n",
    "Bm_Hm=Bm/Hm\n",
    "print(' Bm_Hm= %.3e\\n' %Bm_Hm)\n",
    "Lm=Bm_Hm*(δ/(μ0*(1+k)))*Sm_Sδ\n",
    "\n",
    "print(' Lm= %.3e\\n' %Lm,'Dm= %.3e\\n' %Dm)\n"
   ]
  },
  {
   "cell_type": "code",
   "execution_count": 54,
   "metadata": {},
   "outputs": [
    {
     "output_type": "stream",
     "name": "stdout",
     "text": [
      " Lm= 1.472e-02\n Dm= 1.800e-02\n Sm_Sδ= 5.400e-01\n\n"
     ]
    }
   ],
   "source": [
    "#Если не сошлось\n",
    "Bm=0.95 #вводим желаемое значение исходя из рабочей точки графика\n",
    "Hm=32*1e3 #эквивалентное ей значение напряженности\n",
    "Dm=m.sqrt((Bδ*4*Dδ*h*(1+k))/(Bm))\n",
    "Dm=18*1e-3 # округляем\n",
    "Sm=m.pi*Dm**2/4\n",
    "Sm_Sδ=Sm/Sδ\n",
    "Bm_Hm=Bm/Hm\n",
    "Lm=Bm_Hm*(δ/(μ0*(1+k)))*Sm_Sδ\n",
    "print(' Lm= %.3e\\n' %Lm,'Dm= %.3e\\n' %Dm,'Sm_Sδ= %.3e\\n' %Sm_Sδ)"
   ]
  },
  {
   "cell_type": "code",
   "execution_count": 55,
   "metadata": {},
   "outputs": [
    {
     "output_type": "stream",
     "name": "stdout",
     "text": [
      " Φm= 2.417e-04\n Φδ= 1.885e-04\n Bδ= 4.000e-01\n\n"
     ]
    }
   ],
   "source": [
    "###3.2.2 проверка \n",
    "Bm_Hm=μ0*(1+k)*Sδ/Sm*Lm/δ\n",
    "Hm2=20*1e3 #указываем значение точки по y через которую будем проводить прямую\n",
    "Bm2=Bm_Hm*Hm2\n",
    "#проводим прямую и смотрим значения пересечения\n",
    "Bm_izm=0.97\n",
    "Hm_izm=31*1e3\n",
    "Φm=Bm*Sm # ищем потоки и сравниваем с условием индукцию зазора\n",
    "Φδ=Bδ*Sδ\n",
    "Bδ=Φδ/Sδ\n",
    "print(' Φm= %.3e\\n' %Φm,'Φδ= %.3e\\n' %Φδ,'Bδ= %.3e\\n' %Bδ)\n"
   ]
  },
  {
   "cell_type": "code",
   "execution_count": 32,
   "metadata": {},
   "outputs": [],
   "source": [
    "import math as m\n",
    "###4.1.1\n",
    "#///условия////\n",
    "a=10 \n",
    "b=10\n",
    "c=20\n",
    "dδ=0.2\n",
    "h=50\n",
    "S=1500\n",
    "Fizm=20\n",
    "f=a\n",
    "#///условия////\n",
    "d0=0.2\n",
    "d1=0.22\n",
    "lamb=1.5\n",
    "eps=3\n",
    "μ0=m.pi*4*1e-7"
   ]
  },
  {
   "cell_type": "code",
   "execution_count": 83,
   "metadata": {},
   "outputs": [
    {
     "output_type": "stream",
     "name": "stdout",
     "text": [
      "w=  8508\n"
     ]
    }
   ],
   "source": [
    "f0_list=[0.6,0.55,0.5]\n",
    "f0=f0_list[0] # Выбираем сечение провода(у всех дефолтное)\n",
    "w=4*f0*(c-eps-2*lamb)*(h-lamb-f)/(m.pi*d1**2) #считаем количесвто витков, округляем до целого\n",
    "print('w= ','%.0f'%w)"
   ]
  },
  {
   "cell_type": "code",
   "execution_count": 84,
   "metadata": {},
   "outputs": [
    {
     "output_type": "stream",
     "name": "stdout",
     "text": [
      "δ0min1= 1.0 \nδ0max1= 1.333\n\nδ0min2= 1.0 \nδ0max2= 2.0\n"
     ]
    }
   ],
   "source": [
    "δ0max1=dδ/0.15 #определяем границы начального зазора 1 соотношение\n",
    "δ0min1=dδ/0.2\n",
    "print('δ0min1=',δ0min1,'\\nδ0max1=','%.3f'%δ0max1)\n",
    "\n",
    "δ0min2=a*0.1 #определяем границы начального зазора 2  соотношение\n",
    "δ0max2=a*0.2\n",
    "print('\\nδ0min2=',δ0min2,'\\nδ0max2=',δ0max2)"
   ]
  },
  {
   "cell_type": "code",
   "execution_count": 85,
   "metadata": {},
   "outputs": [
    {
     "output_type": "stream",
     "name": "stdout",
     "text": [
      "δ0= 1.0\n"
     ]
    }
   ],
   "source": [
    "#Выбрать наименьшее значение, которые находится сразу в обоих множествах\n",
    "min = 1e10\n",
    "if δ0min1<δ0min2: \n",
    "    δ0=round(δ0min2,2)\n",
    "else:\n",
    "    δ0=round(δ0min1,2)\n",
    "print('δ0=',δ0)"
   ]
  },
  {
   "cell_type": "code",
   "execution_count": 86,
   "metadata": {},
   "outputs": [
    {
     "output_type": "stream",
     "name": "stdout",
     "text": [
      "δ0max= 1.2 \nδ0min= 0.8\n"
     ]
    }
   ],
   "source": [
    "δ0max=δ0+dδ # добавляем ход\n",
    "δ0min=δ0-dδ\n",
    "print('δ0max=',δ0max,'\\nδ0min=',δ0min)"
   ]
  },
  {
   "cell_type": "code",
   "execution_count": 88,
   "metadata": {},
   "outputs": [
    {
     "output_type": "stream",
     "name": "stdout",
     "text": [
      "X_= 10.0\nX_/δ0max= 8.333333333333334\n"
     ]
    }
   ],
   "source": [
    "#4.1.3.2.\n",
    "#Для расчета имеем п-образный сердечник. Для него следует выбирать индукцию B=0.2\n",
    "B=0.2#0,3 для Ш-образного\n",
    "#Построили схему замещения\n",
    "#Определение магнитного сопротивления примаксимальном воздушном зазоре\n",
    "X_=c/2\n",
    "print('X_=',X_)\n",
    "#по рис. 7 по известной X'/δmax определяем Zb/δmax\n",
    "print('X_/δ0max=',X_/δ0max) "
   ]
  },
  {
   "cell_type": "code",
   "execution_count": 89,
   "metadata": {},
   "outputs": [
    {
     "output_type": "stream",
     "name": "stdout",
     "text": [
      "Zb_δmax= 6.410256410256411\n"
     ]
    }
   ],
   "source": [
    "#По графику ищем соответствие (для значений  <35 коэффициент 1.3)\n",
    "Zb_δmax=X_/δ0max /1.3\n",
    "print('Zb_δmax=',Zb_δmax) "
   ]
  },
  {
   "cell_type": "code",
   "execution_count": 90,
   "metadata": {},
   "outputs": [
    {
     "output_type": "stream",
     "name": "stdout",
     "text": [
      "Zb= 5.341880341880342\nZ_a= 10\n"
     ]
    }
   ],
   "source": [
    "Zb=Zb_δmax/δ0max\n",
    "print('Zb=',Zb)\n",
    "Z_a=a\n",
    "print('Z_a=',Z_a)"
   ]
  },
  {
   "cell_type": "code",
   "execution_count": 91,
   "metadata": {},
   "outputs": [
    {
     "output_type": "stream",
     "name": "stdout",
     "text": [
      "Zb_δmax= 6.410256410256411\n"
     ]
    }
   ],
   "source": [
    "Z_b=Z_a/δ0max\n",
    "print('Zb_δmax=',Zb_δmax)"
   ]
  },
  {
   "cell_type": "code",
   "execution_count": 92,
   "metadata": {},
   "outputs": [
    {
     "output_type": "stream",
     "name": "stdout",
     "text": [
      "x__δmax= 8.333\n"
     ]
    }
   ],
   "source": [
    "x__δmax=Zb_δmax*1.3\n",
    "print('x__δmax=','%.3f'%x__δmax)"
   ]
  },
  {
   "cell_type": "code",
   "execution_count": 93,
   "metadata": {},
   "outputs": [
    {
     "output_type": "stream",
     "name": "stdout",
     "text": [
      "m2= 7.070940170940172 \n\nG1= 1.195e-08\nG2= 6.535e-09\nG2= 1.047e-07\nG2= 3.267e-09\n"
     ]
    }
   ],
   "source": [
    "m2=(Zb+(X_-δ0max))/2\n",
    "G1=μ0*((2*b*1e-3)/(m.pi*((δ0max/m2)+0.5)))\n",
    "print('m2=',m2,'\\n\\nG1=','%.3e'%G1)\n",
    "\n",
    "G2=μ0*0.52*b*1e-3\n",
    "G3=μ0*(a*b*1e-3/δ0max)\n",
    "G4=μ0*0.26*b*1e-3\n",
    "print('G2=','%.3e'%G2)\n",
    "print('G2=','%.3e'%G3)\n",
    "print('G2=','%.3e'%G4)"
   ]
  },
  {
   "cell_type": "code",
   "execution_count": 38,
   "metadata": {},
   "outputs": [
    {
     "output_type": "stream",
     "name": "stdout",
     "text": [
      "G2= 6.535e-09\nG2= 1.047e-07\nG2= 3.267e-09\n"
     ]
    }
   ],
   "source": []
  },
  {
   "cell_type": "code",
   "execution_count": 94,
   "metadata": {},
   "outputs": [
    {
     "output_type": "stream",
     "name": "stdout",
     "text": [
      "m1= 7.071794871794872 \n\nG5= 6.839e-09\nG6= 1.161e-10\nG7= 2.222e-09\nG8= 4.676e-09\n\nGb4= 1.675e-07\n\nRb4= 5.968e+06\n\nRb2= 6.546e+06\n\nR_ms 1.251e+07\n"
     ]
    }
   ],
   "source": [
    "m1=(Zb_δmax+(x__δmax-δ0max/2))/2\n",
    "G5=μ0*((2*b*1e-3)/(m.pi*((δ0max/m1)+1)))\n",
    "print('m1=',m1,'\\n\\nG5=','%.3e'%G5)\n",
    "#до зазора δ2\n",
    "\n",
    "G6=μ0*0.077*δ0max*1e-3\n",
    "G7=μ0*m1*1e-3/4\n",
    "G8=2*G6+2*G7\n",
    "print('G6=','%.3e'%G6)\n",
    "print('G7=','%.3e'%G7)\n",
    "print('G8=','%.3e'%G8)\n",
    "\n",
    "Gb4=G1+G2+G3+3*(G4+G5)+2*(G6+G7+G8)\n",
    "print('\\nGb4=','%.3e'%Gb4)\n",
    "\n",
    "Rb4=1/Gb4\n",
    "print('\\nRb4=','%.3e'%Rb4)\n",
    "\n",
    "Gb2=G1+G2+G3+2*(G4+G5+G8)\n",
    "Rb2=1/Gb2\n",
    "print('\\nRb2=','%.3e'%Rb2)\n",
    "\n",
    "R_ms=Rb2+Rb4\n",
    "\n",
    "print('\\nR_ms','%.3e'%R_ms)\n"
   ]
  },
  {
   "cell_type": "code",
   "execution_count": 95,
   "metadata": {},
   "outputs": [
    {
     "output_type": "stream",
     "name": "stdout",
     "text": [
      "Ze= 2106.03 \n"
     ]
    }
   ],
   "source": [
    "#4.1.3.3.\n",
    "ro=0.0174\n",
    "lsr=226\n",
    "q=m.pi*d0**2/4\n",
    "ow=2*m.pi*50\n",
    "Ra_r=ro*lsr*1e-3*w/q\n",
    "Ra_im=ow*w**2/R_ms\n",
    "Ze=(Ra_r**2+Ra_im**2)**0.5\n",
    "print('Ze= %.2f '%(Ze))"
   ]
  },
  {
   "cell_type": "code",
   "execution_count": 96,
   "metadata": {},
   "outputs": [
    {
     "output_type": "stream",
     "name": "stdout",
     "text": [
      "I= 3.32e-03\nj<=2..2.5 j= 1.06e-01\nU= 7.00e+00\n"
     ]
    }
   ],
   "source": [
    "#4.1.3.4.\n",
    "I=B*2*a*b/w/(2**0.5)\n",
    "print('I= %.2e'%I)\n",
    "j=I/q\n",
    "print('j<=2..2.5 j= %.2e'%j)\n",
    "U=I*Ze\n",
    "print('U= %.2e'%U)"
   ]
  },
  {
   "cell_type": "code",
   "execution_count": null,
   "metadata": {},
   "outputs": [],
   "source": []
  }
 ]
}