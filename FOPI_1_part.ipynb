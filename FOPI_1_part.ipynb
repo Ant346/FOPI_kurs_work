{
 "metadata": {
  "language_info": {
   "codemirror_mode": {
    "name": "ipython",
    "version": 3
   },
   "file_extension": ".py",
   "mimetype": "text/x-python",
   "name": "python",
   "nbconvert_exporter": "python",
   "pygments_lexer": "ipython3",
   "version": "3.8.5-final"
  },
  "orig_nbformat": 2,
  "kernelspec": {
   "name": "python3",
   "display_name": "Python 3.8.5 32-bit",
   "metadata": {
    "interpreter": {
     "hash": "da0ebdb0063591e8656be8f5d83dfb24c7440b18257da1d1e3ac92b19370ed5d"
    }
   }
  }
 },
 "nbformat": 4,
 "nbformat_minor": 2,
 "cells": [
  {
   "cell_type": "code",
   "execution_count": 1,
   "metadata": {},
   "outputs": [
    {
     "output_type": "stream",
     "name": "stdout",
     "text": [
      " Sm= 4.155e-04\n Sδ= 4.712e-04\n Sm/Sδ= 8.817e-01\n Bm= 5.898e-01\n\n Bm_Hm= 1.072e-05\n\n Lm= 8.681e-03\n Dm= 2.300e-02\n\n"
     ]
    }
   ],
   "source": [
    "import math as m\n",
    "###3.1.1\n",
    "#///условия////\n",
    "a=2*1e-3\n",
    "δ=1.5*1e-3\n",
    "Dδ=25*1e-3\n",
    "h=6*1e-3\n",
    "Bδ=0.4\n",
    "Dm=Dδ-a\n",
    "k=0.3\n",
    "μ0=m.pi*4*1e-7\n",
    "#///условия////\n",
    "\n",
    "###3.2.1\n",
    "\n",
    "Sm=m.pi*Dm**2/4\n",
    "Sδ=h*m.pi*Dδ\n",
    "Sm_Sδ=Sm/Sδ\n",
    "Bm=Bδ*1/Sm_Sδ*(1+k)\n",
    "print(' Sm= %.3e\\n' %Sm,'Sδ= %.3e\\n' %Sδ,'Sm/Sδ= %.3e\\n' %Sm_Sδ,'Bm= %.3e\\n' %Bm)\n",
    "\n",
    "Hm=55*1e3\n",
    "Bm_Hm=Bm/Hm\n",
    "print(' Bm_Hm= %.3e\\n' %Bm_Hm)\n",
    "Lm=Bm_Hm*(δ/(μ0*(1+k)))*Sm_Sδ\n",
    "\n",
    "print(' Lm= %.3e\\n' %Lm,'Dm= %.3e\\n' %Dm)\n"
   ]
  },
  {
   "cell_type": "code",
   "execution_count": 2,
   "metadata": {},
   "outputs": [
    {
     "output_type": "stream",
     "name": "stdout",
     "text": [
      " Lm= 1.472e-02\n Dm= 1.800e-02\n Sm_Sδ= 5.400e-01\n\n"
     ]
    }
   ],
   "source": [
    "#Если не сошлось\n",
    "Bm=0.95 #вводим желаемое значение исходя из рабочей точки графика\n",
    "Hm=32*1e3 #эквивалентное ей значение напряженности\n",
    "Dm=m.sqrt((Bδ*4*Dδ*h*(1+k))/(Bm))\n",
    "Dm=18*1e-3 # округляем\n",
    "Sm=m.pi*Dm**2/4\n",
    "Sm_Sδ=Sm/Sδ\n",
    "Bm_Hm=Bm/Hm\n",
    "Lm=Bm_Hm*(δ/(μ0*(1+k)))*Sm_Sδ\n",
    "print(' Lm= %.3e\\n' %Lm,'Dm= %.3e\\n' %Dm,'Sm_Sδ= %.3e\\n' %Sm_Sδ)"
   ]
  },
  {
   "cell_type": "code",
   "execution_count": 3,
   "metadata": {},
   "outputs": [
    {
     "output_type": "stream",
     "name": "stdout",
     "text": [
      " Φm= 2.417e-04\n Φδ= 1.885e-04\n Bδ= 4.000e-01\n\n"
     ]
    }
   ],
   "source": [
    "###3.2.2 проверка \n",
    "Bm_Hm=μ0*(1+k)*Sδ/Sm*Lm/δ\n",
    "Hm2=20*1e3 #указываем значение точки по y через которую будем проводить прямую\n",
    "Bm2=Bm_Hm*Hm2\n",
    "#проводим прямую и смотрим значения пересечения\n",
    "Bm_izm=0.97\n",
    "Hm_izm=31*1e3\n",
    "Φm=Bm*Sm # ищем потоки и сравниваем с условием индукцию зазора\n",
    "Φδ=Bδ*Sδ\n",
    "Bδ=Φδ/Sδ\n",
    "print(' Φm= %.3e\\n' %Φm,'Φδ= %.3e\\n' %Φδ,'Bδ= %.3e\\n' %Bδ)\n"
   ]
  },
  {
   "cell_type": "code",
   "execution_count": 24,
   "metadata": {},
   "outputs": [],
   "source": [
    "###4.1.1\n",
    "#///условия////\n",
    "a=10 \n",
    "c=20\n",
    "dδ=0.2\n",
    "h=50\n",
    "S=1500\n",
    "Fizm=20\n",
    "f=a\n",
    "#///условия////\n",
    "d0=0.2\n",
    "d1=0.22\n",
    "lamb=1.5\n",
    "eps=3"
   ]
  },
  {
   "cell_type": "code",
   "execution_count": 26,
   "metadata": {},
   "outputs": [
    {
     "output_type": "execute_result",
     "data": {
      "text/plain": [
       "9052.101804615071"
      ]
     },
     "metadata": {},
     "execution_count": 26
    }
   ],
   "source": [
    "f0_list=[0.6,0.55,0.5]\n",
    "f0=f0_list[0]\n",
    "w=4*f0*(c-eps-lamb)*(h-2*lamb-f)/(m.pi*d1**2)\n",
    "w\n",
    "\n",
    "\n",
    "\n"
   ]
  },
  {
   "cell_type": "code",
   "execution_count": null,
   "metadata": {},
   "outputs": [],
   "source": [
    "δ0min=dδ/0.15"
   ]
  }
 ]
}