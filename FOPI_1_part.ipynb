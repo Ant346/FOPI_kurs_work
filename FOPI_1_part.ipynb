{
 "metadata": {
  "language_info": {
   "codemirror_mode": {
    "name": "ipython",
    "version": 3
   },
   "file_extension": ".py",
   "mimetype": "text/x-python",
   "name": "python",
   "nbconvert_exporter": "python",
   "pygments_lexer": "ipython3",
   "version": "3.8.5-final"
  },
  "orig_nbformat": 2,
  "kernelspec": {
   "name": "python3",
   "display_name": "Python 3.8.5 32-bit",
   "metadata": {
    "interpreter": {
     "hash": "da0ebdb0063591e8656be8f5d83dfb24c7440b18257da1d1e3ac92b19370ed5d"
    }
   }
  }
 },
 "nbformat": 4,
 "nbformat_minor": 2,
 "cells": [
  {
   "cell_type": "code",
   "execution_count": 34,
   "metadata": {},
   "outputs": [
    {
     "output_type": "stream",
     "name": "stdout",
     "text": [
      " Sm= 4.155e-04\n Sδ= 4.712e-04\n Sm/Sδ= 8.817e-01\n Bm= 4.585e-01\n\n Lm= 4.949e-03\n Dm= 2.300e-02\n\n"
     ]
    }
   ],
   "source": [
    "import math as m\n",
    "\n",
    "a=2*1e-3\n",
    "δ=1.5*1e-3\n",
    "Dδ=25*1e-3\n",
    "h=6*1e-3\n",
    "Bδ=0.4\n",
    "Dm=Dδ-a\n",
    "k=0.3\n",
    "μ0=m.pi*4*1e-7\n",
    "\n",
    "Sm=m.pi*Dm**2/4\n",
    "Sδ=h*m.pi*Dδ\n",
    "Sm_Sδ=Sm/Sδ\n",
    "Bm=Bδ*Sm_Sδ*(1+k)\n",
    "print(' Sm= %.3e\\n' %Sm,'Sδ= %.3e\\n' %Sδ,'Sm/Sδ= %.3e\\n' %Sm_Sδ,'Bm= %.3e\\n' %Bm)\n",
    "\n",
    "Hm=75*1e3\n",
    "Bm_Hm=Bm/Hm\n",
    "Lm=Bm_Hm*(δ/(μ0*(1+k)))*Sm_Sδ\n",
    "\n",
    "print(' Lm= %.3e\\n' %Lm,'Dm= %.3e\\n' %Dm)\n"
   ]
  },
  {
   "cell_type": "code",
   "execution_count": 52,
   "metadata": {},
   "outputs": [
    {
     "output_type": "stream",
     "name": "stdout",
     "text": [
      "Dm_opt= 4.678e-02\n\n"
     ]
    }
   ],
   "source": [
    "koeff=Bm/0.45\n",
    "Dm_opt=Dm/koeff\n",
    "print('Dm_opt= %.3e\\n' %Dm_opt)"
   ]
  },
  {
   "cell_type": "code",
   "execution_count": 53,
   "metadata": {},
   "outputs": [
    {
     "output_type": "stream",
     "name": "stdout",
     "text": [
      " Sm= 1.719e-03\n Sδ= 4.712e-04\n Sm/Sδ= 3.647e+00\n Bm= 1.896e+00\n\n Lm= 6.685e-02\n Dm= 4.678e-02\n\n"
     ]
    }
   ],
   "source": [
    "Dm=Dm_opt\n",
    "\n",
    "Sm=m.pi*Dm**2/4\n",
    "Sδ=h*m.pi*Dδ\n",
    "Sm_Sδ=Sm/Sδ\n",
    "Bm=Bδ*Sm_Sδ*(1+k)\n",
    "print(' Sm= %.3e\\n' %Sm,'Sδ= %.3e\\n' %Sδ,'Sm/Sδ= %.3e\\n' %Sm_Sδ,'Bm= %.3e\\n' %Bm)\n",
    "\n",
    "Hm=95*1e3\n",
    "Bm_Hm=Bm/Hm\n",
    "Lm=Bm_Hm*(δ/(μ0*(1+k)))*Sm_Sδ\n",
    "\n",
    "print(' Lm= %.3e\\n' %Lm,'Dm= %.3e\\n' %Dm)"
   ]
  },
  {
   "cell_type": "code",
   "execution_count": null,
   "metadata": {},
   "outputs": [],
   "source": []
  }
 ]
}