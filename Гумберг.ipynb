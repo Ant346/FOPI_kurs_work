{
 "metadata": {
  "language_info": {
   "codemirror_mode": {
    "name": "ipython",
    "version": 3
   },
   "file_extension": ".py",
   "mimetype": "text/x-python",
   "name": "python",
   "nbconvert_exporter": "python",
   "pygments_lexer": "ipython3",
   "version": "3.9.2"
  },
  "orig_nbformat": 2,
  "kernelspec": {
   "name": "python392jvsc74a57bd0d20511710d0ef1b8f61e9561ea7a1dacb95f86736785c369355f9020fcd31a57",
   "display_name": "Python 3.9.2 64-bit"
  },
  "metadata": {
   "interpreter": {
    "hash": "d20511710d0ef1b8f61e9561ea7a1dacb95f86736785c369355f9020fcd31a57"
   }
  }
 },
 "nbformat": 4,
 "nbformat_minor": 2,
 "cells": [
  {
   "cell_type": "code",
   "execution_count": 3,
   "metadata": {},
   "outputs": [
    {
     "output_type": "stream",
     "name": "stdout",
     "text": [
      " Sm= 6.158e-04\n Sδ= 9.425e-04\n Sm/Sδ= 6.533e-01\n Bm= 7.959e-01\n\n Bm_Hm= 2.487e-05\n\n Lm= 1.293e-02\n Dm= 2.800e-02\n\n"
     ]
    }
   ],
   "source": [
    "import math as m\n",
    "###3.1.1\n",
    "#///условия////\n",
    "a=2*1e-3\n",
    "δ=1.3*1e-3\n",
    "Dδ=30*1e-3\n",
    "h=10*1e-3\n",
    "Bδ=0.4\n",
    "Dm=Dδ-a\n",
    "k=0.3\n",
    "μ0=m.pi*4*1e-7\n",
    "#///условия////\n",
    "\n",
    "###3.2.1\n",
    "\n",
    "Sm=m.pi*Dm**2/4\n",
    "Sδ=h*m.pi*Dδ\n",
    "Sm_Sδ=Sm/Sδ\n",
    "Bm=Bδ*1/Sm_Sδ*(1+k)\n",
    "print(' Sm= %.3e\\n' %Sm,'Sδ= %.3e\\n' %Sδ,'Sm/Sδ= %.3e\\n' %Sm_Sδ,'Bm= %.3e\\n' %Bm)\n",
    "\n",
    "Hm=32*1e3\n",
    "Bm_Hm=Bm/Hm\n",
    "print(' Bm_Hm= %.3e\\n' %Bm_Hm)\n",
    "Lm=Bm_Hm*(δ/(μ0*(1+k)))*Sm_Sδ\n",
    "\n",
    "print(' Lm= %.3e\\n' %Lm,'Dm= %.3e\\n' %Dm)\n"
   ]
  },
  {
   "cell_type": "code",
   "execution_count": 22,
   "metadata": {},
   "outputs": [
    {
     "output_type": "stream",
     "name": "stdout",
     "text": [
      " Lm= 9.117e-03\n Dm= 1.800e-02\n Sm_Sδ= 4.050e-01\n\n"
     ]
    }
   ],
   "source": [
    "#Если не сошлось\n",
    "Bm=0.95 #вводим желаемое значение исходя из рабочей точки графика\n",
    "Hm=31*1e3 #эквивалентное ей значение напряженности\n",
    "Dm=m.sqrt((Bδ*4*Dδ*h*(1+k))/(Bm))\n",
    "Dm=18*1e-3 # округляем\n",
    "Sm=m.pi*Dm**2/4\n",
    "Sm_Sδ=Sm/Sδ\n",
    "Bm_Hm=Bm/Hm\n",
    "Lm=Bm_Hm*(δ/(μ0*(1+k)))*Sm_Sδ\n",
    "print(' Lm= %.3e\\n' %Lm,'Dm= %.3e\\n' %Dm,'Sm_Sδ= %.3e\\n' %Sm_Sδ)"
   ]
  },
  {
   "cell_type": "code",
   "execution_count": 44,
   "metadata": {},
   "outputs": [
    {
     "output_type": "stream",
     "name": "stdout",
     "text": [
      " Φm= 4.084e-04\n Φδ= 3.142e-04\n Bδ= 5.000e-01\n\n"
     ]
    }
   ],
   "source": [
    "###3.2.2 проверка \n",
    "Bm_Hm=μ0*(1+k)*Sδ/Sm*Lm/δ\n",
    "Hm2=20*1e3 #указываем значение точки по y через которую будем проводить прямую\n",
    "Bm2=Bm_Hm*Hm2\n",
    "#проводим прямую и смотрим значения пересечения\n",
    "Bm_izm=0.97\n",
    "Hm_izm=31*1e3\n",
    "Φm=Bm*Sm # ищем потоки и сравниваем с условием индукцию зазора\n",
    "Φδ=Bδ*Sδ\n",
    "Bδ=Φδ/Sδ\n",
    "print(' Φm= %.3e\\n' %Φm,'Φδ= %.3e\\n' %Φδ,'Bδ= %.3e\\n' %Bδ)\n"
   ]
  },
  {
   "cell_type": "code",
   "execution_count": 45,
   "metadata": {},
   "outputs": [],
   "source": [
    "import math as m\n",
    "###4.1.1\n",
    "#///условия////\n",
    "a=9\n",
    "b=9\n",
    "c=25\n",
    "dδ=0.2\n",
    "h=45\n",
    "S0=1500\n",
    "Fizm=15\n",
    "f=a\n",
    "#///условия////\n",
    "d0=0.2\n",
    "d1=0.22\n",
    "lamb=1.5\n",
    "eps=3\n",
    "μ0=m.pi*4*1e-7"
   ]
  },
  {
   "source": [
    "f0_list=[0.6,0.55,0.5]\n",
    "f0=f0_list[0] # Выбираем сечение провода(у всех дефолтное)\n",
    "w=4*f0*(c-eps-2*lamb)*(h-lamb-f)/(m.pi*d1**2) #считаем количесвто витков, округляем до целого\n",
    "print('w= ','%.0f'%w)"
   ],
   "cell_type": "code",
   "metadata": {},
   "execution_count": 46,
   "outputs": [
    {
     "output_type": "stream",
     "name": "stdout",
     "text": [
      "w=  10346\n"
     ]
    }
   ]
  },
  {
   "cell_type": "code",
   "execution_count": 47,
   "metadata": {},
   "outputs": [
    {
     "output_type": "stream",
     "name": "stdout",
     "text": [
      "δ0min1= 1.0 \nδ0max1= 1.333\n\nδ0min2= 0.9 \nδ0max2= 1.8\n"
     ]
    }
   ],
   "source": [
    "δ0max1=dδ/0.15 #определяем границы начального зазора 1 соотношение\n",
    "δ0min1=dδ/0.2\n",
    "print('δ0min1=',δ0min1,'\\nδ0max1=','%.3f'%δ0max1)\n",
    "\n",
    "δ0min2=a*0.1 #определяем границы начального зазора 2  соотношение\n",
    "δ0max2=a*0.2\n",
    "print('\\nδ0min2=',δ0min2,'\\nδ0max2=',δ0max2)"
   ]
  },
  {
   "cell_type": "code",
   "execution_count": 48,
   "metadata": {},
   "outputs": [
    {
     "output_type": "stream",
     "name": "stdout",
     "text": [
      "δ0= 1.0\n"
     ]
    }
   ],
   "source": [
    "#Выбрать наименьшее значение, которые находится сразу в обоих множествах\n",
    "min = 1e10\n",
    "if δ0min1<δ0min2: \n",
    "    δ0=round(δ0min2,2)\n",
    "else:\n",
    "    δ0=round(δ0min1,2)\n",
    "print('δ0=',δ0)"
   ]
  },
  {
   "cell_type": "code",
   "execution_count": 49,
   "metadata": {},
   "outputs": [
    {
     "output_type": "stream",
     "name": "stdout",
     "text": [
      "δ0max= 1.2 \nδ0min= 0.8\n"
     ]
    }
   ],
   "source": [
    "δ0max=δ0+dδ # добавляем ход\n",
    "δ0min=δ0-dδ\n",
    "print('δ0max=',δ0max,'\\nδ0min=',δ0min)"
   ]
  },
  {
   "cell_type": "code",
   "execution_count": 50,
   "metadata": {},
   "outputs": [],
   "source": [
    "def x_δ (δ0max,w=w):\n",
    "    global Ze_max,Ze_min\n",
    "    #4.1.3.2.\n",
    "    #Для расчета имеем п-образный сердечник. Для него следует выбирать      индукцию B=0.2\n",
    "    B=0.2#0,3 для Ш-образного\n",
    "    #Построили схему замещения\n",
    "    #Определение магнитного сопротивления примаксимальном воздушном         зазоре\n",
    "    X_=c/2\n",
    "    print('X_=',X_)\n",
    "    #по рис. 7 по известной X'/δmax определяем Zb/δmax\n",
    "    print('X_/δ0max=',X_/δ0max) \n",
    "\n",
    "    #По графику ищем соответствие (для значений  <35 коэффициент 1.3)\n",
    "    Zb_δmax=X_/δ0max /1.3\n",
    "    print('Zb_δmax=',Zb_δmax) \n",
    "\n",
    "    Zb=Zb_δmax/δ0max\n",
    "    print('Zb=',Zb)\n",
    "    Z_a=a\n",
    "    print('Z_a=',Z_a)\n",
    "\n",
    "    Z_b=Z_a/δ0max\n",
    "    print('Zb_δmax=',Zb_δmax)\n",
    "\n",
    "    x__δmax=Zb_δmax*1.3\n",
    "    print('x__δmax=','%.3f'%x__δmax)\n",
    "\n",
    "    \n",
    "    # НОВЫЙ ШАГ\n",
    "    m2=(Zb+(X_-δ0max))/2\n",
    "    G1=μ0*((2*b*1e-3)/(m.pi*((δ0max/m2)+0.5)))\n",
    "    print('m2=',m2,'\\n\\nG1=','%.3e'%G1)\n",
    "\n",
    "    G2=μ0*0.52*b*1e-3\n",
    "    G3=μ0*(a*b*1e-3/δ0max)\n",
    "    G4=μ0*0.26*b*1e-3\n",
    "    print('G2=','%.3e'%G2)\n",
    "    print('G3=','%.3e'%G3)\n",
    "    print('G4=','%.3e'%G4)\n",
    "\n",
    "    m1=(Zb_δmax+(x__δmax-δ0max/2))/2\n",
    "    G5=μ0*((2*b*1e-3)/(m.pi*((δ0max/m1)+1)))\n",
    "    print('m1=',m1,'\\n\\nG5=','%.3e'%G5)\n",
    "    #до зазора δ2\n",
    "\n",
    "    G6=μ0*0.077*δ0max*1e-3\n",
    "    G7=μ0*m1*1e-3/4\n",
    "    G8=2*G6+2*G7\n",
    "    print('G6=','%.3e'%G6)\n",
    "    print('G7=','%.3e'%G7)\n",
    "    print('G8=','%.3e'%G8)\n",
    "\n",
    "    Gb4=G1+G2+G3+3*(G4+G5)+2*(G6+G7+G8)\n",
    "    print('\\nGb4=','%.3e'%Gb4)\n",
    "\n",
    "    Rb4=1/Gb4\n",
    "    print('\\nRb4=','%.3e'%Rb4)\n",
    "\n",
    "    Gb2=G1+G2+G3+2*(G4+G5+G8)\n",
    "    # т.к. форма сердечника П-образная,то Rb2=Rb4 \n",
    "    Rb2=Rb4\n",
    "    print('\\nRb2=','%.3e'%Rb2)\n",
    "\n",
    "    R_ms=Rb4*2\n",
    "\n",
    "    print('\\nR_ms','%.3e'%R_ms)\n",
    "    #4.1.3.3.\n",
    "    ro=0.0174\n",
    "    # lsr=2*(2*(c-eps-lamb)+3*a+2*eps+4*lamb) для Ш-образного\n",
    "    lsr=4*(h+lamb)+2*eps  # Для П-образного\n",
    "    q=m.pi*d0**2/4\n",
    "    ow=2*m.pi*50\n",
    "    Ra_r=ro*lsr*1e-3*w/q\n",
    "    Ra_im=ow*w**2/R_ms\n",
    "    Ze=(Ra_r**2+Ra_im**2)**0.5\n",
    "    if δ0max==1.2:\n",
    "        Ze_min=(Ra_r**2+Ra_im**2)**0.5\n",
    "        print('\\nZe_min= %.2f '%(Ze))\n",
    "    else:\n",
    "        Ze_max=(Ra_r**2+Ra_im**2)**0.5\n",
    "        print('\\nZe_max= %.2f '%(Ze))\n",
    "    print('lsr=%.2f'%lsr)\n",
    "\n",
    "    print('\\nRa_r=%.2f'%Ra_r)\n",
    "    print('Ra_im=%.2f'%Ra_im)\n",
    "\n",
    "    \n",
    "    #4.1.3.4.\n",
    "    I=(B*2*a*b*R_ms*10**(-6))/(w*(2**0.5))\n",
    "    print('I= %.2e'%I)\n",
    "    j=I/q\n",
    "    print('j<=2..2.5 j= %.2e'%j)\n",
    "    U=I*Ze\n",
    "    print('U= %.2e'%U)\n",
    "\n",
    "def x_δ2 (δ0max,w=w):\n",
    "    global Ze_max,Ze_min\n",
    "    #4.1.3.2.\n",
    "    #Для расчета имеем п-образный сердечник. Для него следует выбирать      индукцию B=0.2\n",
    "    B=0.2#0,3 для Ш-образного\n",
    "    #Построили схему замещения\n",
    "    #Определение магнитного сопротивления примаксимальном воздушном         зазоре\n",
    "    X_=c/2\n",
    "    print('X_=',X_)\n",
    "    #по рис. 7 по известной X'/δmax определяем Zb/δmax\n",
    "    print('X_/δ0max=',X_/δ0max) \n",
    "\n",
    "    #По графику ищем соответствие (для значений  <35 коэффициент 1.3)\n",
    "    Zb_δmax=X_/δ0max /1.3\n",
    "    print('Zb_δmax=',Zb_δmax) \n",
    "\n",
    "    Zb=Zb_δmax/δ0max\n",
    "    print('Zb=',Zb)\n",
    "    Z_a=a\n",
    "    print('Z_a=',Z_a)\n",
    "\n",
    "    Z_b=Z_a/δ0max\n",
    "    print('Zb_δmax=',Zb_δmax)\n",
    "\n",
    "    x__δmax=Zb_δmax*1.3\n",
    "    print('x__δmax=','%.3f'%x__δmax)\n",
    "\n",
    "    \n",
    "    # НОВЫЙ ШАГ\n",
    "    m2=(Zb+(X_-δ0max))/2\n",
    "    G1=μ0*((2*b*1e-3)/(m.pi*((δ0max/m2)+0.5)))\n",
    "    print('m2=',m2,'\\n\\nG1=','%.3e'%G1)\n",
    "\n",
    "    G2=μ0*0.52*b*1e-3\n",
    "    G3=μ0*(a*b*1e-3/δ0max)\n",
    "    G4=μ0*0.26*b*1e-3\n",
    "    print('G2=','%.3e'%G2)\n",
    "    print('G3=','%.3e'%G3)\n",
    "    print('G4=','%.3e'%G4)\n",
    "\n",
    "    m1=(Zb_δmax+(x__δmax-δ0max/2))/2\n",
    "    G5=μ0*((2*b*1e-3)/(m.pi*((δ0max/m1)+1)))\n",
    "    print('m1=',m1,'\\n\\nG5=','%.3e'%G5)\n",
    "    #до зазора δ2\n",
    "\n",
    "    G6=μ0*0.077*δ0max*1e-3\n",
    "    G7=μ0*m1*1e-3/4\n",
    "    G8=2*G6+2*G7\n",
    "    print('G6=','%.3e'%G6)\n",
    "    print('G7=','%.3e'%G7)\n",
    "    print('G8=','%.3e'%G8)\n",
    "\n",
    "    Gb4=G1+G2+G3+3*(G4+G5)+2*(G6+G7+G8)\n",
    "    print('\\nGb4=','%.3e'%Gb4)\n",
    "\n",
    "    Rb4=1/Gb4\n",
    "    print('\\nRb4=','%.3e'%Rb4)\n",
    "\n",
    "    Gb2=G1+G2+G3+2*(G4+G5+G8)\n",
    "    # т.к. форма сердечника П-образная,то Rb2=Rb4 \n",
    "    Rb2=Rb4\n",
    "    print('\\nRb2=','%.3e'%Rb2)\n",
    "\n",
    "    R_ms=Rb4*2\n",
    "\n",
    "    print('\\nR_ms','%.3e'%R_ms)\n",
    "    #4.1.3.3.\n",
    "    ro=0.0174\n",
    "    # lsr=2*(2*(c-eps-lamb)+3*a+2*eps+4*lamb) для Ш-образного\n",
    "    lsr=4*(h-a-lamb)/k1+8*lamb+2*eps+4*a  # Для П-образного\n",
    "    q=m.pi*d0**2/4\n",
    "    ow=2*m.pi*50\n",
    "    Ra_r=ro*lsr*1e-3*w/q\n",
    "    Ra_im=ow*w**2/R_ms\n",
    "    Ze=(Ra_r**2+Ra_im**2)**0.5\n",
    "    if δ0max==1.2:\n",
    "        Ze_min=(Ra_r**2+Ra_im**2)**0.5\n",
    "        print('\\nZe_min= %.2f '%(Ze))\n",
    "    else:\n",
    "        Ze_max=(Ra_r**2+Ra_im**2)**0.5\n",
    "        print('\\nZe_max= %.2f '%(Ze))\n",
    "    print('lsr=%.2f'%lsr)\n",
    "\n",
    "    print('\\nRa_r=%.2f'%Ra_r)\n",
    "    print('Ra_im=%.2f'%Ra_im)\n",
    "\n",
    "    \n",
    "    #4.1.3.4.\n",
    "    I=(B*2*a*b*R_ms*10**(-6))/(w*(2**0.5))\n",
    "    print('I= %.2e'%I)\n",
    "    j=I/q\n",
    "    print('j<=2..2.5 j= %.2e'%j)\n",
    "    U=I*Ze\n",
    "    print('U= %.2e'%U)\n",
    "    "
   ]
  },
  {
   "cell_type": "code",
   "execution_count": 51,
   "metadata": {},
   "outputs": [
    {
     "output_type": "stream",
     "name": "stdout",
     "text": [
      "X_= 12.5\nX_/δ0max= 10.416666666666668\nZb_δmax= 8.012820512820513\nZb= 6.677350427350428\nZ_a= 9\nZb_δmax= 8.012820512820513\nx__δmax= 10.417\nm2= 8.988675213675215 \n\nG1= 1.137e-08\nG2= 5.881e-09\nG3= 8.482e-08\nG4= 2.941e-09\nm1= 8.91474358974359 \n\nG5= 6.346e-09\nG6= 1.161e-10\nG7= 2.801e-09\nG8= 5.834e-09\n\nGb4= 1.474e-07\n\nRb4= 6.783e+06\n\nRb2= 6.783e+06\n\nR_ms 1.357e+07\n\nZe_min= 2712.21 \nlsr=192.00\n\nRa_r=1100.24\nRa_im=2479.02\nI= 3.00e-02\nj<=2..2.5 j= 9.56e-01\nU= 8.15e+01\n\n\n\n\n\n\nX_= 12.5\nX_/δ0max= 15.625\nZb_δmax= 12.019230769230768\nZb= 15.02403846153846\nZ_a= 9\nZb_δmax= 12.019230769230768\nx__δmax= 15.625\nm2= 13.36201923076923 \n\nG1= 1.286e-08\nG2= 5.881e-09\nG3= 1.272e-07\nG4= 2.941e-09\nm1= 13.622115384615384 \n\nG5= 6.801e-09\nG6= 7.741e-11\nG7= 4.280e-09\nG8= 8.714e-09\n\nGb4= 2.013e-07\n\nRb4= 4.967e+06\n\nRb2= 4.967e+06\n\nR_ms 9.933e+06\n\nZe_max= 3559.84 \nlsr=192.00\n\nRa_r=1100.24\nRa_im=3385.55\nI= 2.20e-02\nj<=2..2.5 j= 7.00e-01\nU= 7.83e+01\ndZe=8.48e+02\n"
     ]
    }
   ],
   "source": [
    "x_δ (δ0max)\n",
    "print('\\n\\n\\n\\n\\n')\n",
    "x_δ (δ0min)\n",
    "print('dZe=%.2e'%(Ze_max-Ze_min))"
   ]
  },
  {
   "cell_type": "code",
   "execution_count": 52,
   "metadata": {},
   "outputs": [
    {
     "output_type": "stream",
     "name": "stdout",
     "text": [
      "dZe=8.476291e+02\nS=2.119073e+03\nS0=1.500000e+03\nk1=1.188577\nw_new=8704.851917\n"
     ]
    }
   ],
   "source": [
    "\n",
    "\n",
    "dZe=Ze_max-Ze_min\n",
    "print('dZe=%e'%dZe)\n",
    "S=dZe/(2*dδ)\n",
    "print('S=%e'%S)\n",
    "print('S0=%e'%S0)\n",
    "k1=(S/S0)**0.5\n",
    "print('k1=%f'%k1)\n",
    "w_new=w/k1\n",
    "print('w_new=%f'%w_new)"
   ]
  },
  {
   "cell_type": "code",
   "execution_count": 53,
   "metadata": {},
   "outputs": [
    {
     "output_type": "execute_result",
     "data": {
      "text/plain": [
       "1641.5347139577589"
      ]
     },
     "metadata": {},
     "execution_count": 53
    }
   ],
   "source": [
    "w-w_new"
   ]
  },
  {
   "cell_type": "code",
   "execution_count": 54,
   "metadata": {},
   "outputs": [
    {
     "output_type": "stream",
     "name": "stdout",
     "text": [
      "X_= 12.5\nX_/δ0max= 15.625\nZb_δmax= 12.019230769230768\nZb= 15.02403846153846\nZ_a= 9\nZb_δmax= 12.019230769230768\nx__δmax= 15.625\nm2= 13.36201923076923 \n\nG1= 1.286e-08\nG2= 5.881e-09\nG3= 1.272e-07\nG4= 2.941e-09\nm1= 13.622115384615384 \n\nG5= 6.801e-09\nG6= 7.741e-11\nG7= 4.280e-09\nG8= 8.714e-09\n\nGb4= 2.013e-07\n\nRb4= 4.967e+06\n\nRb2= 4.967e+06\n\nR_ms 9.933e+06\n\nZe_max= 2533.01 \nlsr=170.11\n\nRa_r=820.14\nRa_im=2396.56\nI= 2.61e-02\nj<=2..2.5 j= 8.32e-01\nU= 6.62e+01\nX_= 12.5\nX_/δ0max= 10.416666666666668\nZb_δmax= 8.012820512820513\nZb= 6.677350427350428\nZ_a= 9\nZb_δmax= 8.012820512820513\nx__δmax= 10.417\nm2= 8.988675213675215 \n\nG1= 1.137e-08\nG2= 5.881e-09\nG3= 8.482e-08\nG4= 2.941e-09\nm1= 8.91474358974359 \n\nG5= 6.346e-09\nG6= 1.161e-10\nG7= 2.801e-09\nG8= 5.834e-09\n\nGb4= 1.474e-07\n\nRb4= 6.783e+06\n\nRb2= 6.783e+06\n\nR_ms 1.357e+07\n\nZe_min= 1937.04 \nlsr=170.11\n\nRa_r=820.14\nRa_im=1754.85\nI= 3.57e-02\nj<=2..2.5 j= 1.14e+00\nU= 6.92e+01\n\n\n\n\n\n\ndZe=5.959685e+02\nS=1.489921e+03\nk1=0.996635\nw_new=8734.393568\n\n\n\n\n\n\nX_= 12.5\nX_/δ0max= 15.625\nZb_δmax= 12.019230769230768\nZb= 15.02403846153846\nZ_a= 9\nZb_δmax= 12.019230769230768\nx__δmax= 15.625\nm2= 13.36201923076923 \n\nG1= 1.286e-08\nG2= 5.881e-09\nG3= 1.272e-07\nG4= 2.941e-09\nm1= 13.622115384615384 \n\nG5= 6.801e-09\nG6= 7.741e-11\nG7= 4.280e-09\nG8= 8.714e-09\n\nGb4= 2.013e-07\n\nRb4= 4.967e+06\n\nRb2= 4.967e+06\n\nR_ms 9.933e+06\n\nZe_max= 2585.97 \nlsr=192.47\n\nRa_r=931.04\nRa_im=2412.56\nI= 2.61e-02\nj<=2..2.5 j= 8.29e-01\nU= 6.74e+01\nX_= 12.5\nX_/δ0max= 10.416666666666668\nZb_δmax= 8.012820512820513\nZb= 6.677350427350428\nZ_a= 9\nZb_δmax= 8.012820512820513\nx__δmax= 10.417\nm2= 8.988675213675215 \n\nG1= 1.137e-08\nG2= 5.881e-09\nG3= 8.482e-08\nG4= 2.941e-09\nm1= 8.91474358974359 \n\nG5= 6.346e-09\nG6= 1.161e-10\nG7= 2.801e-09\nG8= 5.834e-09\n\nGb4= 1.474e-07\n\nRb4= 6.783e+06\n\nRb2= 6.783e+06\n\nR_ms 1.357e+07\n\nZe_min= 1996.89 \nlsr=192.47\n\nRa_r=931.04\nRa_im=1766.56\nI= 3.56e-02\nj<=2..2.5 j= 1.13e+00\nU= 7.11e+01\n\n\n\n\n\n\ndZe=5.890827e+02\nS=1.472707e+03\nk1=0.990860\nw_new=8814.560956\n\n\n\n\n\n\nX_= 12.5\nX_/δ0max= 15.625\nZb_δmax= 12.019230769230768\nZb= 15.02403846153846\nZ_a= 9\nZb_δmax= 12.019230769230768\nx__δmax= 15.625\nm2= 13.36201923076923 \n\nG1= 1.286e-08\nG2= 5.881e-09\nG3= 1.272e-07\nG4= 2.941e-09\nm1= 13.622115384615384 \n\nG5= 6.801e-09\nG6= 7.741e-11\nG7= 4.280e-09\nG8= 8.714e-09\n\nGb4= 2.013e-07\n\nRb4= 4.967e+06\n\nRb2= 4.967e+06\n\nR_ms 9.933e+06\n\nZe_max= 2632.45 \nlsr=193.27\n\nRa_r=943.61\nRa_im=2457.51\nI= 2.58e-02\nj<=2..2.5 j= 8.22e-01\nU= 6.80e+01\nX_= 12.5\nX_/δ0max= 10.416666666666668\nZb_δmax= 8.012820512820513\nZb= 6.677350427350428\nZ_a= 9\nZb_δmax= 8.012820512820513\nx__δmax= 10.417\nm2= 8.988675213675215 \n\nG1= 1.137e-08\nG2= 5.881e-09\nG3= 8.482e-08\nG4= 2.941e-09\nm1= 8.91474358974359 \n\nG5= 6.346e-09\nG6= 1.161e-10\nG7= 2.801e-09\nG8= 5.834e-09\n\nGb4= 1.474e-07\n\nRb4= 6.783e+06\n\nRb2= 6.783e+06\n\nR_ms 1.357e+07\n\nZe_min= 2031.88 \nlsr=193.27\n\nRa_r=943.61\nRa_im=1799.48\nI= 3.53e-02\nj<=2..2.5 j= 1.12e+00\nU= 7.16e+01\n\n\n\n\n\n\ndZe=6.005663e+02\nS=1.501416e+03\nk1=1.000472\nw_new=8810.842961\n\n\n\n\n\n\nX_= 12.5\nX_/δ0max= 15.625\nZb_δmax= 12.019230769230768\nZb= 15.02403846153846\nZ_a= 9\nZb_δmax= 12.019230769230768\nx__δmax= 15.625\nm2= 13.36201923076923 \n\nG1= 1.286e-08\nG2= 5.881e-09\nG3= 1.272e-07\nG4= 2.941e-09\nm1= 13.622115384615384 \n\nG5= 6.801e-09\nG6= 7.741e-11\nG7= 4.280e-09\nG8= 8.714e-09\n\nGb4= 2.013e-07\n\nRb4= 4.967e+06\n\nRb2= 4.967e+06\n\nR_ms 9.933e+06\n\nZe_max= 2627.88 \nlsr=191.93\n\nRa_r=936.65\nRa_im=2455.28\nI= 2.58e-02\nj<=2..2.5 j= 8.22e-01\nU= 6.79e+01\nX_= 12.5\nX_/δ0max= 10.416666666666668\nZb_δmax= 8.012820512820513\nZb= 6.677350427350428\nZ_a= 9\nZb_δmax= 8.012820512820513\nx__δmax= 10.417\nm2= 8.988675213675215 \n\nG1= 1.137e-08\nG2= 5.881e-09\nG3= 8.482e-08\nG4= 2.941e-09\nm1= 8.91474358974359 \n\nG5= 6.346e-09\nG6= 1.161e-10\nG7= 2.801e-09\nG8= 5.834e-09\n\nGb4= 1.474e-07\n\nRb4= 6.783e+06\n\nRb2= 6.783e+06\n\nR_ms 1.357e+07\n\nZe_min= 2027.21 \nlsr=191.93\n\nRa_r=936.65\nRa_im=1797.85\nI= 3.53e-02\nj<=2..2.5 j= 1.12e+00\nU= 7.15e+01\n\n\n\n\n\n\ndZe=6.006668e+02\nS=1.501667e+03\nk1=1.000556\nw_new=8806.108157\n\n\n\n\n\n\nX_= 12.5\nX_/δ0max= 15.625\nZb_δmax= 12.019230769230768\nZb= 15.02403846153846\nZ_a= 9\nZb_δmax= 12.019230769230768\nx__δmax= 15.625\nm2= 13.36201923076923 \n\nG1= 1.286e-08\nG2= 5.881e-09\nG3= 1.272e-07\nG4= 2.941e-09\nm1= 13.622115384615384 \n\nG5= 6.801e-09\nG6= 7.741e-11\nG7= 4.280e-09\nG8= 8.714e-09\n\nGb4= 2.013e-07\n\nRb4= 4.967e+06\n\nRb2= 4.967e+06\n\nR_ms 9.933e+06\n\nZe_max= 2625.06 \nlsr=191.92\n\nRa_r=936.06\nRa_im=2452.50\nI= 2.58e-02\nj<=2..2.5 j= 8.23e-01\nU= 6.78e+01\nX_= 12.5\nX_/δ0max= 10.416666666666668\nZb_δmax= 8.012820512820513\nZb= 6.677350427350428\nZ_a= 9\nZb_δmax= 8.012820512820513\nx__δmax= 10.417\nm2= 8.988675213675215 \n\nG1= 1.137e-08\nG2= 5.881e-09\nG3= 8.482e-08\nG4= 2.941e-09\nm1= 8.91474358974359 \n\nG5= 6.346e-09\nG6= 1.161e-10\nG7= 2.801e-09\nG8= 5.834e-09\n\nGb4= 1.474e-07\n\nRb4= 6.783e+06\n\nRb2= 6.783e+06\n\nR_ms 1.357e+07\n\nZe_min= 2025.13 \nlsr=191.92\n\nRa_r=936.06\nRa_im=1795.81\nI= 3.53e-02\nj<=2..2.5 j= 1.12e+00\nU= 7.15e+01\n\n\n\n\n\n\ndZe=5.999351e+02\nS=1.499838e+03\nk1=0.999946\nw_new=8806.476328\n\n\n\n\n\n\nz=5\nw_new=8806.000000\n"
     ]
    }
   ],
   "source": [
    "z=0\n",
    "while m.fabs(S-S0)>1:\n",
    "    z=z+1\n",
    "    w_new=round(w_new)\n",
    "    x_δ2 (δ0min,w_new)\n",
    "    x_δ2 (δ0max,w_new)\n",
    "    print('\\n\\n\\n\\n\\n')\n",
    "    dZe=Ze_max-Ze_min\n",
    "    print('dZe=%e'%dZe)\n",
    "    S=dZe/(2*dδ)\n",
    "    print('S=%e'%S)\n",
    "    k1=(S/S0)**0.5\n",
    "    print('k1=%f'%k1)\n",
    "    w_new=w_new/k1\n",
    "    print('w_new=%f'%w_new)\n",
    "    print('\\n\\n\\n\\n\\n')\n",
    "print('z=%d'%z)   \n",
    "m.fabs(S-S0)\n",
    "print('w_new=%f'%round(w_new))"
   ]
  },
  {
   "cell_type": "code",
   "execution_count": 55,
   "metadata": {},
   "outputs": [
    {
     "output_type": "execute_result",
     "data": {
      "text/plain": [
       "0.16226067462639548"
      ]
     },
     "metadata": {},
     "execution_count": 55
    }
   ],
   "source": [
    "m.fabs(S-S0)"
   ]
  },
  {
   "cell_type": "code",
   "execution_count": 56,
   "metadata": {},
   "outputs": [
    {
     "output_type": "stream",
     "name": "stdout",
     "text": [
      "Fsum=1.61\nFizm=15.00\nFizm>Fsum*5..10\n15.00>8.05..16.10\n"
     ]
    }
   ],
   "source": [
    "w_new=round(w_new)\n",
    "#4.1.3.7. Определение измерительного усилия\n",
    "Iδmin=3.01e-02\n",
    "Gb4_max= 1.675e-07\n",
    "Gb4_min= 2.306e-07\n",
    "Iδmax=4.15e-02\n",
    "Fsum=w_new**2*(Iδmin**2*Gb4_min/(δ0min*1e-3)-Iδmax**2*Gb4_max/(δ0max*1e-3))\n",
    "print('Fsum=%.2f'%Fsum)\n",
    "print('Fizm=%.2f'%Fizm)\n",
    "print('Fizm>Fsum*5..10')\n",
    "print('%.2f>%.2f..%.2f'%(Fizm,Fsum*5,Fsum*10))\n"
   ]
  }
 ]
}