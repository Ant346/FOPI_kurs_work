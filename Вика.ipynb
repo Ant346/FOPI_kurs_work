{
 "metadata": {
  "language_info": {
   "codemirror_mode": {
    "name": "ipython",
    "version": 3
   },
   "file_extension": ".py",
   "mimetype": "text/x-python",
   "name": "python",
   "nbconvert_exporter": "python",
   "pygments_lexer": "ipython3",
   "version": "3.9.2"
  },
  "orig_nbformat": 2,
  "kernelspec": {
   "name": "python392jvsc74a57bd0d20511710d0ef1b8f61e9561ea7a1dacb95f86736785c369355f9020fcd31a57",
   "display_name": "Python 3.9.2 64-bit"
  },
  "metadata": {
   "interpreter": {
    "hash": "d20511710d0ef1b8f61e9561ea7a1dacb95f86736785c369355f9020fcd31a57"
   }
  }
 },
 "nbformat": 4,
 "nbformat_minor": 2,
 "cells": [
  {
   "cell_type": "code",
   "execution_count": 1,
   "metadata": {},
   "outputs": [
    {
     "output_type": "stream",
     "name": "stdout",
     "text": [
      " Sm= 6.158e-04\n Sδ= 9.425e-04\n Sm/Sδ= 6.533e-01\n Bm= 9.949e-01\n\n Bm_Hm= 3.109e-05\n\n Lm= 2.114e-02\n Dm= 2.800e-02\n\n"
     ]
    }
   ],
   "source": [
    "import math as m\n",
    "###3.1.1\n",
    "#///условия////\n",
    "a=2*1e-3\n",
    "δ=1.7*1e-3\n",
    "Dδ=30*1e-3\n",
    "h=10*1e-3\n",
    "Bδ=0.5\n",
    "Dm=Dδ-a\n",
    "k=0.3\n",
    "μ0=m.pi*4*1e-7\n",
    "#///условия////\n",
    "\n",
    "###3.2.1\n",
    "\n",
    "Sm=m.pi*Dm**2/4\n",
    "Sδ=h*m.pi*Dδ\n",
    "Sm_Sδ=Sm/Sδ\n",
    "Bm=Bδ*1/Sm_Sδ*(1+k)\n",
    "print(' Sm= %.3e\\n' %Sm,'Sδ= %.3e\\n' %Sδ,'Sm/Sδ= %.3e\\n' %Sm_Sδ,'Bm= %.3e\\n' %Bm)\n",
    "\n",
    "Hm=32*1e3\n",
    "Bm_Hm=Bm/Hm\n",
    "print(' Bm_Hm= %.3e\\n' %Bm_Hm)\n",
    "Lm=Bm_Hm*(δ/(μ0*(1+k)))*Sm_Sδ\n",
    "\n",
    "print(' Lm= %.3e\\n' %Lm,'Dm= %.3e\\n' %Dm)\n"
   ]
  },
  {
   "cell_type": "code",
   "execution_count": null,
   "metadata": {},
   "outputs": [],
   "source": []
  },
  {
   "cell_type": "code",
   "execution_count": 2,
   "metadata": {},
   "outputs": [
    {
     "output_type": "stream",
     "name": "stdout",
     "text": [
      " Lm= 1.472e-02\n Dm= 1.800e-02\n Sm_Sδ= 5.400e-01\n\n"
     ]
    }
   ],
   "source": [
    "#Если не сошлось\n",
    "Bm=0.95 #вводим желаемое значение исходя из рабочей точки графика\n",
    "Hm=32*1e3 #эквивалентное ей значение напряженности\n",
    "Dm=m.sqrt((Bδ*4*Dδ*h*(1+k))/(Bm))\n",
    "Dm=18*1e-3 # округляем\n",
    "Sm=m.pi*Dm**2/4\n",
    "Sm_Sδ=Sm/Sδ\n",
    "Bm_Hm=Bm/Hm\n",
    "Lm=Bm_Hm*(δ/(μ0*(1+k)))*Sm_Sδ\n",
    "print(' Lm= %.3e\\n' %Lm,'Dm= %.3e\\n' %Dm,'Sm_Sδ= %.3e\\n' %Sm_Sδ)"
   ]
  },
  {
   "cell_type": "code",
   "execution_count": 6,
   "metadata": {},
   "outputs": [
    {
     "output_type": "stream",
     "name": "stdout",
     "text": [
      " Φm= 6.126e-04\n Φδ= 4.712e-04\n Bδ= 5.000e-01\n\n"
     ]
    }
   ],
   "source": [
    "###3.2.2 проверка \n",
    "Bm_Hm=μ0*(1+k)*Sδ/Sm*Lm/δ\n",
    "Hm2=20*1e3 #указываем значение точки по y через которую будем проводить прямую\n",
    "Bm2=Bm_Hm*Hm2\n",
    "#проводим прямую и смотрим значения пересечения\n",
    "Bm_izm=0.97\n",
    "Hm_izm=31*1e3\n",
    "Φm=Bm*Sm # ищем потоки и сравниваем с условием индукцию зазора\n",
    "Φδ=Bδ*Sδ\n",
    "Bδ=Φδ/Sδ\n",
    "print(' Φm= %.3e\\n' %Φm,'Φδ= %.3e\\n' %Φδ,'Bδ= %.3e\\n' %Bδ)\n"
   ]
  },
  {
   "cell_type": "code",
   "execution_count": 7,
   "metadata": {},
   "outputs": [],
   "source": [
    "import math as m\n",
    "###4.1.1\n",
    "#///условия////\n",
    "a=7 \n",
    "b=7\n",
    "c=30\n",
    "dδ=0.2\n",
    "h=50\n",
    "S0=2500\n",
    "Fizm=10\n",
    "f=a\n",
    "#///условия////\n",
    "d0=0.2\n",
    "d1=0.22\n",
    "lamb=1.5\n",
    "eps=3\n",
    "μ0=m.pi*4*1e-7"
   ]
  },
  {
   "source": [
    "f0_list=[0.6,0.55,0.5]\n",
    "f0=f0_list[0] # Выбираем сечение провода(у всех дефолтное)\n",
    "w=4*f0*(c-eps-2*lamb)*(h-lamb-f)/(m.pi*d1**2) #считаем количесвто витков, округляем до целого\n",
    "print('w= ','%.0f'%w)"
   ],
   "cell_type": "code",
   "metadata": {},
   "execution_count": null,
   "outputs": []
  },
  {
   "cell_type": "code",
   "execution_count": 6,
   "metadata": {},
   "outputs": [
    {
     "output_type": "execute_result",
     "data": {
      "text/plain": [
       "42.72344373373544"
      ]
     },
     "metadata": {},
     "execution_count": 6
    }
   ],
   "source": [
    "qq=(365.502+(133591+(181184-0.04*(1.636802e+03)**2))**0.5)/19.22\n",
    "qq\n"
   ]
  },
  {
   "cell_type": "code",
   "execution_count": 7,
   "metadata": {},
   "outputs": [
    {
     "output_type": "execute_result",
     "data": {
      "text/plain": [
       "310488.4067404736"
      ]
     },
     "metadata": {},
     "execution_count": 7
    }
   ],
   "source": [
    "133591+(181184-(1.636802e+03*0.04)**2)"
   ]
  },
  {
   "cell_type": "code",
   "execution_count": 11,
   "metadata": {},
   "outputs": [
    {
     "output_type": "stream",
     "name": "stdout",
     "text": [
      "δ0min1= 1.0 \nδ0max1= 1.333\n\nδ0min2= 0.7000000000000001 \nδ0max2= 1.4000000000000001\n"
     ]
    }
   ],
   "source": [
    "δ0max1=dδ/0.15 #определяем границы начального зазора 1 соотношение\n",
    "δ0min1=dδ/0.2\n",
    "print('δ0min1=',δ0min1,'\\nδ0max1=','%.3f'%δ0max1)\n",
    "\n",
    "δ0min2=a*0.1 #определяем границы начального зазора 2  соотношение\n",
    "δ0max2=a*0.2\n",
    "print('\\nδ0min2=',δ0min2,'\\nδ0max2=',δ0max2)"
   ]
  },
  {
   "cell_type": "code",
   "execution_count": 12,
   "metadata": {},
   "outputs": [
    {
     "output_type": "stream",
     "name": "stdout",
     "text": [
      "δ0= 1.0\n"
     ]
    }
   ],
   "source": [
    "#Выбрать наименьшее значение, которые находится сразу в обоих множествах\n",
    "min = 1e10\n",
    "if δ0min1<δ0min2: \n",
    "    δ0=round(δ0min2,2)\n",
    "else:\n",
    "    δ0=round(δ0min1,2)\n",
    "print('δ0=',δ0)"
   ]
  },
  {
   "cell_type": "code",
   "execution_count": 13,
   "metadata": {},
   "outputs": [
    {
     "output_type": "stream",
     "name": "stdout",
     "text": [
      "δ0max= 1.2 \nδ0min= 0.8\n"
     ]
    }
   ],
   "source": [
    "δ0max=δ0+dδ # добавляем ход\n",
    "δ0min=δ0-dδ\n",
    "print('δ0max=',δ0max,'\\nδ0min=',δ0min)"
   ]
  },
  {
   "cell_type": "code",
   "execution_count": 14,
   "metadata": {},
   "outputs": [],
   "source": [
    "def x_δ (δ0max,w=w):\n",
    "    global Ze_max,Ze_min\n",
    "    #4.1.3.2.\n",
    "    #Для расчета имеем п-образный сердечник. Для него следует выбирать      индукцию B=0.2\n",
    "    B=0.2#0,3 для Ш-образного\n",
    "    #Построили схему замещения\n",
    "    #Определение магнитного сопротивления примаксимальном воздушном         зазоре\n",
    "    X_=c/2\n",
    "    print('X_=',X_)\n",
    "    #по рис. 7 по известной X'/δmax определяем Zb/δmax\n",
    "    print('X_/δ0max=',X_/δ0max) \n",
    "\n",
    "    #По графику ищем соответствие (для значений  <35 коэффициент 1.3)\n",
    "    Zb_δmax=X_/δ0max /1.3\n",
    "    print('Zb_δmax=',Zb_δmax) \n",
    "\n",
    "    Zb=Zb_δmax/δ0max\n",
    "    print('Zb=',Zb)\n",
    "    Z_a=a\n",
    "    print('Z_a=',Z_a)\n",
    "\n",
    "    Z_b=Z_a/δ0max\n",
    "    print('Zb_δmax=',Zb_δmax)\n",
    "\n",
    "    x__δmax=Zb_δmax*1.3\n",
    "    print('x__δmax=','%.3f'%x__δmax)\n",
    "\n",
    "    \n",
    "    # НОВЫЙ ШАГ\n",
    "    m2=(Zb+(X_-δ0max))/2\n",
    "    G1=μ0*((2*b*1e-3)/(m.pi*((δ0max/m2)+0.5)))\n",
    "    print('m2=',m2,'\\n\\nG1=','%.3e'%G1)\n",
    "\n",
    "    G2=μ0*0.52*b*1e-3\n",
    "    G3=μ0*(a*b*1e-3/δ0max)\n",
    "    G4=μ0*0.26*b*1e-3\n",
    "    print('G2=','%.3e'%G2)\n",
    "    print('G3=','%.3e'%G3)\n",
    "    print('G4=','%.3e'%G4)\n",
    "\n",
    "    m1=(Zb_δmax+(x__δmax-δ0max/2))/2\n",
    "    G5=μ0*((2*b*1e-3)/(m.pi*((δ0max/m1)+1)))\n",
    "    print('m1=',m1,'\\n\\nG5=','%.3e'%G5)\n",
    "    #до зазора δ2\n",
    "\n",
    "    G6=μ0*0.077*δ0max*1e-3\n",
    "    G7=μ0*m1*1e-3/4\n",
    "    G8=2*G6+2*G7\n",
    "    print('G6=','%.3e'%G6)\n",
    "    print('G7=','%.3e'%G7)\n",
    "    print('G8=','%.3e'%G8)\n",
    "\n",
    "    Gb4=G1+G2+G3+3*(G4+G5)+2*(G6+G7+G8)\n",
    "    print('\\nGb4=','%.3e'%Gb4)\n",
    "\n",
    "    Rb4=1/Gb4\n",
    "    print('\\nRb4=','%.3e'%Rb4)\n",
    "\n",
    "    Gb2=G1+G2+G3+2*(G4+G5+G8)\n",
    "    # т.к. форма сердечника П-образная,то Rb2=Rb4 \n",
    "    Rb2=Rb4\n",
    "    print('\\nRb2=','%.3e'%Rb2)\n",
    "\n",
    "    R_ms=Rb4*2\n",
    "\n",
    "    print('\\nR_ms','%.3e'%R_ms)\n",
    "    #4.1.3.3.\n",
    "    ro=0.0174\n",
    "    # lsr=2*(2*(c-eps-lamb)+3*a+2*eps+4*lamb) для Ш-образного\n",
    "    lsr=4*(h+lamb)+2*eps  # Для П-образного\n",
    "    q=m.pi*d0**2/4\n",
    "    ow=2*m.pi*50\n",
    "    Ra_r=ro*lsr*1e-3*w/q\n",
    "    Ra_im=ow*w**2/R_ms\n",
    "    Ze=(Ra_r**2+Ra_im**2)**0.5\n",
    "    if δ0max==1.2:\n",
    "        Ze_min=(Ra_r**2+Ra_im**2)**0.5\n",
    "        print('\\nZe_min= %.2f '%(Ze))\n",
    "    else:\n",
    "        Ze_max=(Ra_r**2+Ra_im**2)**0.5\n",
    "        print('\\nZe_max= %.2f '%(Ze))\n",
    "    print('lsr=%.2f'%lsr)\n",
    "\n",
    "    print('\\nRa_r=%.2f'%Ra_r)\n",
    "    print('Ra_im=%.2f'%Ra_im)\n",
    "\n",
    "    \n",
    "    #4.1.3.4.\n",
    "    I=(B*2*a*b*R_ms*10**(-6))/(w*(2**0.5))\n",
    "    print('I= %.2e'%I)\n",
    "    j=I/q\n",
    "    print('j<=2..2.5 j= %.2e'%j)\n",
    "    U=I*Ze\n",
    "    print('U= %.2e'%U)\n",
    "\n",
    "def x_δ2 (δ0max,w=w):\n",
    "    global Ze_max,Ze_min\n",
    "    #4.1.3.2.\n",
    "    #Для расчета имеем п-образный сердечник. Для него следует выбирать      индукцию B=0.2\n",
    "    B=0.2#0,3 для Ш-образного\n",
    "    #Построили схему замещения\n",
    "    #Определение магнитного сопротивления примаксимальном воздушном         зазоре\n",
    "    X_=c/2\n",
    "    print('X_=',X_)\n",
    "    #по рис. 7 по известной X'/δmax определяем Zb/δmax\n",
    "    print('X_/δ0max=',X_/δ0max) \n",
    "\n",
    "    #По графику ищем соответствие (для значений  <35 коэффициент 1.3)\n",
    "    Zb_δmax=X_/δ0max /1.3\n",
    "    print('Zb_δmax=',Zb_δmax) \n",
    "\n",
    "    Zb=Zb_δmax/δ0max\n",
    "    print('Zb=',Zb)\n",
    "    Z_a=a\n",
    "    print('Z_a=',Z_a)\n",
    "\n",
    "    Z_b=Z_a/δ0max\n",
    "    print('Zb_δmax=',Zb_δmax)\n",
    "\n",
    "    x__δmax=Zb_δmax*1.3\n",
    "    print('x__δmax=','%.3f'%x__δmax)\n",
    "\n",
    "    \n",
    "    # НОВЫЙ ШАГ\n",
    "    m2=(Zb+(X_-δ0max))/2\n",
    "    G1=μ0*((2*b*1e-3)/(m.pi*((δ0max/m2)+0.5)))\n",
    "    print('m2=',m2,'\\n\\nG1=','%.3e'%G1)\n",
    "\n",
    "    G2=μ0*0.52*b*1e-3\n",
    "    G3=μ0*(a*b*1e-3/δ0max)\n",
    "    G4=μ0*0.26*b*1e-3\n",
    "    print('G2=','%.3e'%G2)\n",
    "    print('G3=','%.3e'%G3)\n",
    "    print('G4=','%.3e'%G4)\n",
    "\n",
    "    m1=(Zb_δmax+(x__δmax-δ0max/2))/2\n",
    "    G5=μ0*((2*b*1e-3)/(m.pi*((δ0max/m1)+1)))\n",
    "    print('m1=',m1,'\\n\\nG5=','%.3e'%G5)\n",
    "    #до зазора δ2\n",
    "\n",
    "    G6=μ0*0.077*δ0max*1e-3\n",
    "    G7=μ0*m1*1e-3/4\n",
    "    G8=2*G6+2*G7\n",
    "    print('G6=','%.3e'%G6)\n",
    "    print('G7=','%.3e'%G7)\n",
    "    print('G8=','%.3e'%G8)\n",
    "\n",
    "    Gb4=G1+G2+G3+3*(G4+G5)+2*(G6+G7+G8)\n",
    "    print('\\nGb4=','%.3e'%Gb4)\n",
    "\n",
    "    Rb4=1/Gb4\n",
    "    print('\\nRb4=','%.3e'%Rb4)\n",
    "\n",
    "    Gb2=G1+G2+G3+2*(G4+G5+G8)\n",
    "    # т.к. форма сердечника П-образная,то Rb2=Rb4 \n",
    "    Rb2=Rb4\n",
    "    print('\\nRb2=','%.3e'%Rb2)\n",
    "\n",
    "    R_ms=Rb4*2\n",
    "\n",
    "    print('\\nR_ms','%.3e'%R_ms)\n",
    "    #4.1.3.3.\n",
    "    ro=0.0174\n",
    "    # lsr=2*(2*(c-eps-lamb)+3*a+2*eps+4*lamb) для Ш-образного\n",
    "    lsr=4*(h-a-lamb)/k1+8*lamb+2*eps+4*a  # Для П-образного\n",
    "    q=m.pi*d0**2/4\n",
    "    ow=2*m.pi*50\n",
    "    Ra_r=ro*lsr*1e-3*w/q\n",
    "    Ra_im=ow*w**2/R_ms\n",
    "    Ze=(Ra_r**2+Ra_im**2)**0.5\n",
    "    if δ0max==1.2:\n",
    "        Ze_min=(Ra_r**2+Ra_im**2)**0.5\n",
    "        print('\\nZe_min= %.2f '%(Ze))\n",
    "    else:\n",
    "        Ze_max=(Ra_r**2+Ra_im**2)**0.5\n",
    "        print('\\nZe_max= %.2f '%(Ze))\n",
    "    print('lsr=%.2f'%lsr)\n",
    "\n",
    "    print('\\nRa_r=%.2f'%Ra_r)\n",
    "    print('Ra_im=%.2f'%Ra_im)\n",
    "\n",
    "    \n",
    "    #4.1.3.4.\n",
    "    I=(B*2*a*b*R_ms*10**(-6))/(w*(2**0.5))\n",
    "    print('I= %.2e'%I)\n",
    "    j=I/q\n",
    "    print('j<=2..2.5 j= %.2e'%j)\n",
    "    U=I*Ze\n",
    "    print('U= %.2e'%U)\n",
    "    "
   ]
  },
  {
   "cell_type": "code",
   "execution_count": 15,
   "metadata": {},
   "outputs": [
    {
     "output_type": "stream",
     "name": "stdout",
     "text": [
      "X_= 15.0\nX_/δ0max= 12.5\nZb_δmax= 9.615384615384615\nZb= 8.012820512820513\nZ_a= 7\nZb_δmax= 9.615384615384615\nx__δmax= 12.500\nm2= 10.906410256410258 \n\nG1= 9.180e-09\nG2= 4.574e-09\nG3= 5.131e-08\nG4= 2.287e-09\nm1= 10.757692307692308 \n\nG5= 5.038e-09\nG6= 1.161e-10\nG7= 3.380e-09\nG8= 6.991e-09\n\nGb4= 1.080e-07\n\nRb4= 9.258e+06\n\nRb2= 9.258e+06\n\nR_ms 1.852e+07\n\nZe_min= 4581.65 \nlsr=212.00\n\nRa_r=1845.91\nRa_im=4193.35\nI= 1.63e-02\nj<=2..2.5 j= 5.20e-01\nU= 7.48e+01\n\n\n\n\n\n\nX_= 15.0\nX_/δ0max= 18.75\nZb_δmax= 14.423076923076923\nZb= 18.028846153846153\nZ_a= 7\nZb_δmax= 14.423076923076923\nx__δmax= 18.750\nm2= 16.114423076923075 \n\nG1= 1.019e-08\nG2= 4.574e-09\nG3= 7.697e-08\nG4= 2.287e-09\nm1= 16.386538461538464 \n\nG5= 5.339e-09\nG6= 7.741e-11\nG7= 5.148e-09\nG8= 1.045e-08\n\nGb4= 1.460e-07\n\nRb4= 6.851e+06\n\nRb2= 6.851e+06\n\nR_ms 1.370e+07\n\nZe_max= 5959.57 \nlsr=212.00\n\nRa_r=1845.91\nRa_im=5666.49\nI= 1.21e-02\nj<=2..2.5 j= 3.85e-01\nU= 7.20e+01\ndZe=1.38e+03\n"
     ]
    }
   ],
   "source": [
    "x_δ (δ0max)\n",
    "print('\\n\\n\\n\\n\\n')\n",
    "x_δ (δ0min)\n",
    "print('dZe=%.2e'%(Ze_max-Ze_min))"
   ]
  },
  {
   "cell_type": "code",
   "execution_count": 16,
   "metadata": {},
   "outputs": [
    {
     "output_type": "stream",
     "name": "stdout",
     "text": [
      "dZe=1.377916e+03\nS=3.444789e+03\nS0=2.500000e+03\nk1=1.173847\nw_new=13392.573042\n"
     ]
    }
   ],
   "source": [
    "\n",
    "\n",
    "dZe=Ze_max-Ze_min\n",
    "print('dZe=%e'%dZe)\n",
    "S=dZe/(2*dδ)\n",
    "print('S=%e'%S)\n",
    "print('S0=%e'%S0)\n",
    "k1=(S/S0)**0.5\n",
    "print('k1=%f'%k1)\n",
    "w_new=w/k1\n",
    "print('w_new=%f'%w_new)"
   ]
  },
  {
   "cell_type": "code",
   "execution_count": 19,
   "metadata": {},
   "outputs": [
    {
     "output_type": "execute_result",
     "data": {
      "text/plain": [
       "2185.3295291749073"
      ]
     },
     "metadata": {},
     "execution_count": 19
    }
   ],
   "source": [
    "w-w_new"
   ]
  },
  {
   "cell_type": "code",
   "execution_count": 18,
   "metadata": {},
   "outputs": [
    {
     "output_type": "stream",
     "name": "stdout",
     "text": [
      "X_= 15.0\nX_/δ0max= 18.75\nZb_δmax= 14.423076923076923\nZb= 18.028846153846153\nZ_a= 7\nZb_δmax= 14.423076923076923\nx__δmax= 18.750\nm2= 16.114423076923075 \n\nG1= 1.019e-08\nG2= 4.574e-09\nG3= 7.697e-08\nG4= 2.287e-09\nm1= 16.386538461538464 \n\nG5= 5.339e-09\nG6= 7.741e-11\nG7= 5.148e-09\nG8= 1.045e-08\n\nGb4= 1.460e-07\n\nRb4= 6.851e+06\n\nRb2= 6.851e+06\n\nR_ms 1.370e+07\n\nZe_max= 4341.24 \nlsr=187.42\n\nRa_r=1390.22\nRa_im=4112.62\nI= 1.42e-02\nj<=2..2.5 j= 4.51e-01\nU= 6.16e+01\nX_= 15.0\nX_/δ0max= 12.5\nZb_δmax= 9.615384615384615\nZb= 8.012820512820513\nZ_a= 7\nZb_δmax= 9.615384615384615\nx__δmax= 12.500\nm2= 10.906410256410258 \n\nG1= 9.180e-09\nG2= 4.574e-09\nG3= 5.131e-08\nG4= 2.287e-09\nm1= 10.757692307692308 \n\nG5= 5.038e-09\nG6= 1.161e-10\nG7= 3.380e-09\nG8= 6.991e-09\n\nGb4= 1.080e-07\n\nRb4= 9.258e+06\n\nRb2= 9.258e+06\n\nR_ms 1.852e+07\n\nZe_min= 3345.93 \nlsr=187.42\n\nRa_r=1390.22\nRa_im=3043.45\nI= 1.92e-02\nj<=2..2.5 j= 6.10e-01\nU= 6.41e+01\n\n\n\n\n\n\ndZe=9.953066e+02\nS=2.488267e+03\nk1=0.997651\nw_new=13424.540402\n\n\n\n\n\n\nX_= 15.0\nX_/δ0max= 18.75\nZb_δmax= 14.423076923076923\nZb= 18.028846153846153\nZ_a= 7\nZb_δmax= 14.423076923076923\nx__δmax= 18.750\nm2= 16.114423076923075 \n\nG1= 1.019e-08\nG2= 4.574e-09\nG3= 7.697e-08\nG4= 2.287e-09\nm1= 16.386538461538464 \n\nG5= 5.339e-09\nG6= 7.741e-11\nG7= 5.148e-09\nG8= 1.045e-08\n\nGb4= 1.460e-07\n\nRb4= 6.851e+06\n\nRb2= 6.851e+06\n\nR_ms 1.370e+07\n\nZe_max= 4423.79 \nlsr=212.39\n\nRa_r=1579.25\nRa_im=4132.30\nI= 1.41e-02\nj<=2..2.5 j= 4.50e-01\nU= 6.26e+01\nX_= 15.0\nX_/δ0max= 12.5\nZb_δmax= 9.615384615384615\nZb= 8.012820512820513\nZ_a= 7\nZb_δmax= 9.615384615384615\nx__δmax= 12.500\nm2= 10.906410256410258 \n\nG1= 9.180e-09\nG2= 4.574e-09\nG3= 5.131e-08\nG4= 2.287e-09\nm1= 10.757692307692308 \n\nG5= 5.038e-09\nG6= 1.161e-10\nG7= 3.380e-09\nG8= 6.991e-09\n\nGb4= 1.080e-07\n\nRb4= 9.258e+06\n\nRb2= 9.258e+06\n\nR_ms 1.852e+07\n\nZe_min= 3441.72 \nlsr=212.39\n\nRa_r=1579.25\nRa_im=3058.01\nI= 1.91e-02\nj<=2..2.5 j= 6.08e-01\nU= 6.58e+01\n\n\n\n\n\n\ndZe=9.820702e+02\nS=2.455176e+03\nk1=0.990995\nw_new=13546.996672\n\n\n\n\n\n\nX_= 15.0\nX_/δ0max= 18.75\nZb_δmax= 14.423076923076923\nZb= 18.028846153846153\nZ_a= 7\nZb_δmax= 14.423076923076923\nx__δmax= 18.750\nm2= 16.114423076923075 \n\nG1= 1.019e-08\nG2= 4.574e-09\nG3= 7.697e-08\nG4= 2.287e-09\nm1= 16.386538461538464 \n\nG5= 5.339e-09\nG6= 7.741e-11\nG7= 5.148e-09\nG8= 1.045e-08\n\nGb4= 1.460e-07\n\nRb4= 6.851e+06\n\nRb2= 6.851e+06\n\nR_ms 1.370e+07\n\nZe_max= 4502.38 \nlsr=213.51\n\nRa_r=1601.98\nRa_im=4207.74\nI= 1.40e-02\nj<=2..2.5 j= 4.46e-01\nU= 6.31e+01\nX_= 15.0\nX_/δ0max= 12.5\nZb_δmax= 9.615384615384615\nZb= 8.012820512820513\nZ_a= 7\nZb_δmax= 9.615384615384615\nx__δmax= 12.500\nm2= 10.906410256410258 \n\nG1= 9.180e-09\nG2= 4.574e-09\nG3= 5.131e-08\nG4= 2.287e-09\nm1= 10.757692307692308 \n\nG5= 5.038e-09\nG6= 1.161e-10\nG7= 3.380e-09\nG8= 6.991e-09\n\nGb4= 1.080e-07\n\nRb4= 9.258e+06\n\nRb2= 9.258e+06\n\nR_ms 1.852e+07\n\nZe_min= 3501.76 \nlsr=213.51\n\nRa_r=1601.98\nRa_im=3113.84\nI= 1.89e-02\nj<=2..2.5 j= 6.03e-01\nU= 6.63e+01\n\n\n\n\n\n\ndZe=1.000621e+03\nS=2.501552e+03\nk1=1.000310\nw_new=13542.796052\n\n\n\n\n\n\nX_= 15.0\nX_/δ0max= 18.75\nZb_δmax= 14.423076923076923\nZb= 18.028846153846153\nZ_a= 7\nZb_δmax= 14.423076923076923\nx__δmax= 18.750\nm2= 16.114423076923075 \n\nG1= 1.019e-08\nG2= 4.574e-09\nG3= 7.697e-08\nG4= 2.287e-09\nm1= 16.386538461538464 \n\nG5= 5.339e-09\nG6= 7.741e-11\nG7= 5.148e-09\nG8= 1.045e-08\n\nGb4= 1.460e-07\n\nRb4= 6.851e+06\n\nRb2= 6.851e+06\n\nR_ms 1.370e+07\n\nZe_max= 4495.74 \nlsr=211.95\n\nRa_r=1589.81\nRa_im=4205.26\nI= 1.40e-02\nj<=2..2.5 j= 4.46e-01\nU= 6.30e+01\nX_= 15.0\nX_/δ0max= 12.5\nZb_δmax= 9.615384615384615\nZb= 8.012820512820513\nZ_a= 7\nZb_δmax= 9.615384615384615\nx__δmax= 12.500\nm2= 10.906410256410258 \n\nG1= 9.180e-09\nG2= 4.574e-09\nG3= 5.131e-08\nG4= 2.287e-09\nm1= 10.757692307692308 \n\nG5= 5.038e-09\nG6= 1.161e-10\nG7= 3.380e-09\nG8= 6.991e-09\n\nGb4= 1.080e-07\n\nRb4= 9.258e+06\n\nRb2= 9.258e+06\n\nR_ms 1.852e+07\n\nZe_min= 3494.57 \nlsr=211.95\n\nRa_r=1589.81\nRa_im=3112.00\nI= 1.89e-02\nj<=2..2.5 j= 6.03e-01\nU= 6.62e+01\n\n\n\n\n\n\ndZe=1.001170e+03\nS=2.502924e+03\nk1=1.000585\nw_new=13535.086158\n\n\n\n\n\n\nX_= 15.0\nX_/δ0max= 18.75\nZb_δmax= 14.423076923076923\nZb= 18.028846153846153\nZ_a= 7\nZb_δmax= 14.423076923076923\nx__δmax= 18.750\nm2= 16.114423076923075 \n\nG1= 1.019e-08\nG2= 4.574e-09\nG3= 7.697e-08\nG4= 2.287e-09\nm1= 16.386538461538464 \n\nG5= 5.339e-09\nG6= 7.741e-11\nG7= 5.148e-09\nG8= 1.045e-08\n\nGb4= 1.460e-07\n\nRb4= 6.851e+06\n\nRb2= 6.851e+06\n\nR_ms 1.370e+07\n\nZe_max= 4490.64 \nlsr=211.90\n\nRa_r=1588.53\nRa_im=4200.29\nI= 1.40e-02\nj<=2..2.5 j= 4.47e-01\nU= 6.30e+01\nX_= 15.0\nX_/δ0max= 12.5\nZb_δmax= 9.615384615384615\nZb= 8.012820512820513\nZ_a= 7\nZb_δmax= 9.615384615384615\nx__δmax= 12.500\nm2= 10.906410256410258 \n\nG1= 9.180e-09\nG2= 4.574e-09\nG3= 5.131e-08\nG4= 2.287e-09\nm1= 10.757692307692308 \n\nG5= 5.038e-09\nG6= 1.161e-10\nG7= 3.380e-09\nG8= 6.991e-09\n\nGb4= 1.080e-07\n\nRb4= 9.258e+06\n\nRb2= 9.258e+06\n\nR_ms 1.852e+07\n\nZe_min= 3490.72 \nlsr=211.90\n\nRa_r=1588.53\nRa_im=3108.33\nI= 1.90e-02\nj<=2..2.5 j= 6.03e-01\nU= 6.62e+01\n\n\n\n\n\n\ndZe=9.999267e+02\nS=2.499817e+03\nk1=0.999963\nw_new=13535.495924\n\n\n\n\n\n\nz=5\nw_new=13535.000000\n"
     ]
    }
   ],
   "source": [
    "z=0\n",
    "while m.fabs(S-S0)>1:\n",
    "    z=z+1\n",
    "    w_new=round(w_new)\n",
    "    x_δ2 (δ0min,w_new)\n",
    "    x_δ2 (δ0max,w_new)\n",
    "    print('\\n\\n\\n\\n\\n')\n",
    "    dZe=Ze_max-Ze_min\n",
    "    print('dZe=%e'%dZe)\n",
    "    S=dZe/(2*dδ)\n",
    "    print('S=%e'%S)\n",
    "    k1=(S/S0)**0.5\n",
    "    print('k1=%f'%k1)\n",
    "    w_new=w_new/k1\n",
    "    print('w_new=%f'%w_new)\n",
    "    print('\\n\\n\\n\\n\\n')\n",
    "print('z=%d'%z)   \n",
    "m.fabs(S-S0)\n",
    "print('w_new=%f'%round(w_new))"
   ]
  },
  {
   "cell_type": "code",
   "execution_count": 21,
   "metadata": {},
   "outputs": [
    {
     "output_type": "execute_result",
     "data": {
      "text/plain": [
       "0.183190523331632"
      ]
     },
     "metadata": {},
     "execution_count": 21
    }
   ],
   "source": [
    "m.fabs(S-S0)"
   ]
  },
  {
   "cell_type": "code",
   "execution_count": 22,
   "metadata": {},
   "outputs": [
    {
     "output_type": "stream",
     "name": "stdout",
     "text": [
      "Fsum=3.80\nFizm=10.00\nFizm>Fsum*5..10\n10.00>19.02..38.03\n"
     ]
    }
   ],
   "source": [
    "w_new=round(w_new)\n",
    "#4.1.3.7. Определение измерительного усилия\n",
    "Iδmin=3.01e-02\n",
    "Gb4_max= 1.675e-07\n",
    "Gb4_min= 2.306e-07\n",
    "Iδmax=4.15e-02\n",
    "Fsum=w_new**2*(Iδmin**2*Gb4_min/(δ0min*1e-3)-Iδmax**2*Gb4_max/(δ0max*1e-3))\n",
    "print('Fsum=%.2f'%Fsum)\n",
    "print('Fizm=%.2f'%Fizm)\n",
    "print('Fizm>Fsum*5..10')\n",
    "print('%.2f>%.2f..%.2f'%(Fizm,Fsum*5,Fsum*10))\n"
   ]
  },
  {
   "cell_type": "code",
   "execution_count": null,
   "metadata": {},
   "outputs": [],
   "source": []
  }
 ]
}