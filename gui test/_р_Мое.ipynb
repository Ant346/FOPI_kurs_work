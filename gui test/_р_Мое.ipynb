{
 "metadata": {
  "language_info": {
   "codemirror_mode": {
    "name": "ipython",
    "version": 3
   },
   "file_extension": ".py",
   "mimetype": "text/x-python",
   "name": "python",
   "nbconvert_exporter": "python",
   "pygments_lexer": "ipython3",
   "version": "3.9.2"
  },
  "orig_nbformat": 2,
  "kernelspec": {
   "name": "python392jvsc74a57bd0d20511710d0ef1b8f61e9561ea7a1dacb95f86736785c369355f9020fcd31a57",
   "display_name": "Python 3.9.2 64-bit"
  },
  "metadata": {
   "interpreter": {
    "hash": "d20511710d0ef1b8f61e9561ea7a1dacb95f86736785c369355f9020fcd31a57"
   }
  }
 },
 "nbformat": 4,
 "nbformat_minor": 2,
 "cells": [
  {
   "cell_type": "code",
   "execution_count": 1,
   "metadata": {},
   "outputs": [],
   "source": [
    "import PySimpleGUI as sg\n",
    "import math as m"
   ]
  },
  {
   "cell_type": "code",
   "execution_count": 2,
   "metadata": {},
   "outputs": [],
   "source": [
    "def part_1():\n",
    "    global Sm,Sδ,Sm_Sδ,Bm,Hm,Bm_Hm,Lm,Dm,Bδ,Dδ,h,k,δ\n",
    "    #///условия////\n",
    "    a=float(values['a'])\n",
    "    δ=float(values['δ'])\n",
    "    Dδ=float(values['Dδ'])\n",
    "    h=float(values['h'])\n",
    "    Bδ=float(values['Bδ'])\n",
    "    Dm=Dδ-a\n",
    "    k=0.3\n",
    "    μ0=m.pi*4*1e-7\n",
    "    #///условия////\n",
    "    \n",
    "    ###3.2.1\n",
    "    Sm=m.pi*Dm**2/4\n",
    "    Sδ=h*m.pi*Dδ\n",
    "    Sm_Sδ=Sm/Sδ\n",
    "    Bm=Bδ*1/Sm_Sδ*(1+k)\n",
    "    print(' Sm= %.3e\\n' %Sm,'Sδ= %.3e\\n' %Sδ,'Sm/Sδ= %.3e\\n' %Sm_Sδ,'Bm= %.3e\\n' %Bm)\n",
    "    Hm=float(values['Hm'])\n",
    "    Bm_Hm=Bm/Hm\n",
    "    print(' Bm_Hm= %.3e\\n' %Bm_Hm)\n",
    "    Lm=Bm_Hm*(δ/(μ0*(1+k)))*Sm_Sδ\n",
    "    print(' Lm= %.3e\\n' %Lm,'Dm= %.3e\\n' %Dm)"
   ]
  },
  {
   "cell_type": "code",
   "execution_count": 3,
   "metadata": {},
   "outputs": [],
   "source": [
    "def part_1_per():\n",
    "    #Если не сошлось\n",
    "    global Lm,Dm,Sm_Sδ,Bδ\n",
    "    k=0.3\n",
    "    μ0=m.pi*4*1e-7\n",
    "    Bm=float(values['Bm']) #вводим желаемое значение исходя из рабочей точки графика\n",
    "    Hm=float(values['Hm']) #эквивалентное ей значение напряженности\n",
    "    Dm=m.sqrt((Bδ*4*Dδ*h*(1+k))/(Bm))\n",
    "    Sm=m.pi*Dm**2/4\n",
    "    Sm_Sδ=Sm/Sδ\n",
    "    Bm_Hm=Bm/Hm\n",
    "    Lm=Bm_Hm*(δ/(μ0*(1+k)))*Sm_Sδ\n",
    "    print(' Lm= %.3e\\n' %Lm,'Dm= %.3e\\n' %Dm,'Sm_Sδ= %.3e\\n' %Sm_Sδ)"
   ]
  },
  {
   "cell_type": "code",
   "execution_count": 4,
   "metadata": {},
   "outputs": [],
   "source": [
    "def GUI_Window_4():\n",
    "    global event,window\n",
    "    if event == 'Ok':\n",
    "        part_1_per()\n",
    "        window.close()\n",
    "        layout_4 = [  [sg.Text('Результаты:')],\n",
    "                    [sg.Text('Sm/Sδ= %.3e\\n' %Sm_Sδ)],\n",
    "                    [sg.Text(' Lm= %.3e\\n' %Lm)],\n",
    "                    [sg.Text(' Dm= %.3e\\n' %Dm)],\n",
    "                    [sg.Button('Ok',size=(5, 1))]]\n",
    "        window = sg.Window('Project FOPI Kurs_work', layout_4)\n",
    "        while True:\n",
    "            event, values = window.read()\n",
    "            if event == sg.WIN_CLOSED:\n",
    "                break"
   ]
  },
  {
   "cell_type": "code",
   "execution_count": 5,
   "metadata": {},
   "outputs": [],
   "source": [
    "def GUI_Window_3():\n",
    "    global event,window,values\n",
    "    if event == 'Пересчет':\n",
    "        window.close()\n",
    "        layout_3 = [  [sg.Text('/////////////////////')],\n",
    "            [sg.Text('Вводим желаемое значение исходя из рабочей точки графика ')],\n",
    "            [sg.Text('Bm=',size=(5, 1),),  sg.InputText(key='Bm',size=(15, 1))],\n",
    "            [sg.Text('Hm=',size=(5, 1)),  sg.InputText(key='Hm',size=(15, 1))],\n",
    "            [sg.Button('Ok',size=(5, 1)), sg.Button('Cancel')] ]\n",
    "        window = sg.Window('Project FOPI Kurs_work', layout_3)\n",
    "        while True:\n",
    "            event, values = window.read()\n",
    "            if event == sg.WIN_CLOSED:\n",
    "                break\n",
    "            GUI_Window_4()"
   ]
  },
  {
   "cell_type": "code",
   "execution_count": 6,
   "metadata": {},
   "outputs": [],
   "source": [
    "def GUI_Window_2():\n",
    "    global event,window\n",
    "    if event == 'Ok':\n",
    "        part_1()\n",
    "        window.close()\n",
    "        layout_2 = [  [sg.Text('Результаты:')],\n",
    "                    [sg.Text('Sm= %.3e\\n' %Sm)],\n",
    "                    [sg.Text('Sδ= %.3e\\n' %Sδ)],\n",
    "                    [sg.Text('Sm/Sδ= %.3e\\n' %Sm_Sδ)],\n",
    "                    [sg.Text('Bm= %.3e\\n' %Bm)],\n",
    "                    [sg.Text(' Bm_Hm= %.3e\\n' %Bm_Hm)],\n",
    "                    [sg.Text(' Lm= %.3e\\n' %Lm)],\n",
    "                    [sg.Text(' Dm= %.3e\\n' %Dm)],\n",
    "                    [sg.Button('Пересчет')]]\n",
    "        # Create the Window\n",
    "        window = sg.Window('Project FOPI Kurs_work', layout_2)\n",
    "        # Event Loop to process \"events\" and get the \"values\" of the inputs\n",
    "        while True:\n",
    "            event, values = window.read()\n",
    "            if event == sg.WIN_CLOSED:# if user closes window \n",
    "                break\n",
    "            GUI_Window_3()\n",
    "    \n",
    "        "
   ]
  },
  {
   "cell_type": "code",
   "execution_count": 7,
   "metadata": {},
   "outputs": [
    {
     "output_type": "stream",
     "name": "stdout",
     "text": [
      " Sm= 4.155e+02\n",
      " Sδ= 4.712e+02\n",
      " Sm/Sδ= 8.817e-01\n",
      " Bm= 5.898e-01\n",
      "\n",
      " Bm_Hm= 1.072e-05\n",
      "\n",
      " Lm= 8.681e+00\n",
      " Dm= 2.300e+01\n",
      "\n",
      " Lm= 1.364e+01\n",
      " Dm= 1.812e+01\n",
      " Sm_Sδ= 5.474e-01\n",
      "\n"
     ]
    }
   ],
   "source": [
    "import PySimpleGUI as sg\n",
    "import math as m\n",
    "sg.set_options(auto_size_buttons=True)\n",
    "sg.theme('DefaultNoMoreNagging')   # Add a touch of color\n",
    "# All the stuff inside your window.\n",
    "layout = [  [sg.Text('Введите начальные значения для расчета')],\n",
    "            [sg.Text('длины и диаметра сердечника ')],\n",
    "            [sg.Text('a=',size=(5, 1),),  sg.InputText(key='a',size=(15, 1))],\n",
    "            [sg.Text('δ=',size=(5, 1)),  sg.InputText(key='δ',size=(15, 1))],\n",
    "            [sg.Text('Dδ=',size=(5, 1)), sg.InputText(key='Dδ',size=(15, 1))],\n",
    "            [sg.Text('h=',size=(5, 1)),  sg.InputText(key='h',size=(15, 1))],\n",
    "            [sg.Text('Bδ=',size=(5, 1)), sg.InputText(key='Bδ',size=(15, 1))],\n",
    "            [sg.Text('Hm=',size=(5, 1)), sg.InputText(key='Hm',size=(15, 1))],\n",
    "            [sg.Button('Ok',size=(5, 1)), sg.Button('Cancel')] ]\n",
    "\n",
    "# Create the Window\n",
    "window = sg.Window('Project FOPI Kurs_work', layout)\n",
    "# Event Loop to process \"events\" and get the \"values\" of the inputs\n",
    "while True:\n",
    "    event, values = window.read()\n",
    "    if event == sg.WIN_CLOSED or event == 'Cancel': # if user closes window or clicks cancel\n",
    "        break\n",
    "    GUI_Window_2()\n",
    "    \n",
    "            \n",
    "    \n",
    "window.close()\n"
   ]
  },
  {
   "cell_type": "code",
   "execution_count": 8,
   "metadata": {},
   "outputs": [
    {
     "output_type": "error",
     "ename": "TypeError",
     "evalue": "'NoneType' object is not subscriptable",
     "traceback": [
      "\u001b[1;31m---------------------------------------------------------------------------\u001b[0m",
      "\u001b[1;31mTypeError\u001b[0m                                 Traceback (most recent call last)",
      "\u001b[1;32m<ipython-input-8-6775aaa05627>\u001b[0m in \u001b[0;36m<module>\u001b[1;34m\u001b[0m\n\u001b[1;32m----> 1\u001b[1;33m \u001b[0mint\u001b[0m\u001b[1;33m(\u001b[0m\u001b[0mvalues\u001b[0m\u001b[1;33m[\u001b[0m\u001b[1;34m'a'\u001b[0m\u001b[1;33m]\u001b[0m\u001b[1;33m)\u001b[0m\u001b[1;33m\u001b[0m\u001b[1;33m\u001b[0m\u001b[0m\n\u001b[0m",
      "\u001b[1;31mTypeError\u001b[0m: 'NoneType' object is not subscriptable"
     ]
    }
   ],
   "source": [
    "int(values['a'])"
   ]
  },
  {
   "cell_type": "code",
   "execution_count": 1,
   "metadata": {},
   "outputs": [
    {
     "output_type": "stream",
     "name": "stdout",
     "text": [
      " Sm= 4.155e-04\n Sδ= 4.712e-04\n Sm/Sδ= 8.817e-01\n Bm= 5.898e-01\n\n Bm_Hm= 1.072e-05\n\n Lm= 8.681e-03\n Dm= 2.300e-02\n\n"
     ]
    }
   ],
   "source": [
    "\n",
    "###3.1.1\n",
    "#///условия////\n",
    "\n"
   ]
  },
  {
   "cell_type": "code",
   "execution_count": 4,
   "metadata": {},
   "outputs": [
    {
     "output_type": "stream",
     "name": "stdout",
     "text": [
      " Φm= 2.417e-04\n Φδ= 1.885e-04\n Bδ= 4.000e-01\n\n"
     ]
    }
   ],
   "source": [
    "###3.2.2 проверка \n",
    "Bm_Hm=μ0*(1+k)*Sδ/Sm*Lm/δ\n",
    "Hm2=20*1e3 #указываем значение точки по y через которую будем проводить прямую\n",
    "Bm2=Bm_Hm*Hm2\n",
    "#проводим прямую и смотрим значения пересечения\n",
    "Bm_izm=0.97\n",
    "Hm_izm=31*1e3\n",
    "Φm=Bm*Sm # ищем потоки и сравниваем с условием индукцию зазора\n",
    "Φδ=Bδ*Sδ\n",
    "Bδ=Φδ/Sδ\n",
    "print(' Φm= %.3e\\n' %Φm,'Φδ= %.3e\\n' %Φδ,'Bδ= %.3e\\n' %Bδ)\n"
   ]
  },
  {
   "cell_type": "code",
   "execution_count": 5,
   "metadata": {},
   "outputs": [],
   "source": [
    "import math as m\n",
    "###4.1.1\n",
    "#///условия////\n",
    "a=10 \n",
    "b=10\n",
    "c=20\n",
    "dδ=0.2\n",
    "h=50\n",
    "S0=1500\n",
    "Fizm=20\n",
    "f=a\n",
    "#///условия////\n",
    "d0=0.2\n",
    "d1=0.22\n",
    "lamb=1.5\n",
    "eps=3\n",
    "μ0=m.pi*4*1e-7"
   ]
  },
  {
   "source": [
    "f0_list=[0.6,0.55,0.5]\n",
    "f0=f0_list[0] # Выбираем сечение провода(у всех дефолтное)\n",
    "w=m.ceil(4*f0*(c-eps-2*lamb)*(h-lamb-f)/(m.pi*d1**2)) #считаем количесвто витков, округляем до целого\n",
    "print('w= ','%.0f'%w)"
   ],
   "cell_type": "code",
   "metadata": {},
   "execution_count": 6,
   "outputs": [
    {
     "output_type": "stream",
     "name": "stdout",
     "text": [
      "w=  8508\n"
     ]
    }
   ]
  },
  {
   "cell_type": "code",
   "execution_count": 7,
   "metadata": {},
   "outputs": [
    {
     "output_type": "stream",
     "name": "stdout",
     "text": [
      "δ0min1= 1.0 \nδ0max1= 1.333\n\nδ0min2= 1.0 \nδ0max2= 2.0\n"
     ]
    }
   ],
   "source": [
    "δ0max1=dδ/0.15 #определяем границы начального зазора 1 соотношение\n",
    "δ0min1=dδ/0.2\n",
    "print('δ0min1=',δ0min1,'\\nδ0max1=','%.3f'%δ0max1)\n",
    "\n",
    "δ0min2=a*0.1 #определяем границы начального зазора 2  соотношение\n",
    "δ0max2=a*0.2\n",
    "print('\\nδ0min2=',δ0min2,'\\nδ0max2=',δ0max2)"
   ]
  },
  {
   "cell_type": "code",
   "execution_count": 15,
   "metadata": {},
   "outputs": [
    {
     "output_type": "stream",
     "name": "stdout",
     "text": [
      "δ0= 1.0\nПри несовпадении значений точности следует уменьшить зазор δ0, что собственно вручную и сделано\nδ0= 0.9\n"
     ]
    }
   ],
   "source": [
    "#Выбрать наименьшее значение, которые находится сразу в обоих множествах\n",
    "min = 1e10\n",
    "if δ0min1<δ0min2: \n",
    "    δ0=round(δ0min2,2)\n",
    "else:\n",
    "    δ0=round(δ0min1,2)\n",
    "print('δ0=',δ0)\n",
    "print('При несовпадении значений точности следует уменьшить зазор δ0, что собственно вручную и сделано')\n",
    "δ0=0.9\n",
    "print('δ0=',δ0)"
   ]
  },
  {
   "cell_type": "code",
   "execution_count": 16,
   "metadata": {},
   "outputs": [
    {
     "output_type": "stream",
     "name": "stdout",
     "text": [
      "δ0max= 1.1 \nδ0min= 0.7\n"
     ]
    }
   ],
   "source": [
    "δ0max=δ0+dδ # добавляем ход\n",
    "δ0min=δ0-dδ\n",
    "print('δ0max=',δ0max,'\\nδ0min=',δ0min)"
   ]
  },
  {
   "cell_type": "code",
   "execution_count": 17,
   "metadata": {},
   "outputs": [],
   "source": [
    "def x_δ (δ0,δ0max=δ0max,w=w,k1=1):\n",
    "    global Ze_max,Ze_min\n",
    "    global Iδmin,Gb4_max,Gb4_min,Iδmax\n",
    "    #4.1.3.2.\n",
    "    #Для расчета имеем п-образный сердечник. Для него следует выбирать      индукцию B=0.2\n",
    "    B=0.2 #0,3 для Ш-образного\n",
    "    #Построили схему замещения\n",
    "    #Определение магнитного сопротивления примаксимальном воздушном         зазоре\n",
    "    X_=c/2\n",
    "    print('X_=',X_)\n",
    "    #по рис. 7 по известной X'/δmax определяем Zb/δmax\n",
    "    print('δ0=',δ0) \n",
    "    print('X_/δ0=',X_/δ0) \n",
    "\n",
    "    #По графику ищем соответствие (для значений  <35 коэффициент 1.3)\n",
    "    Zb_δmax=X_/δ0 /1.3\n",
    "    print('Zb_δmax=',Zb_δmax) \n",
    "    Zb=Zb_δmax*δ0\n",
    "    print('Zb=',Zb)\n",
    "    Z_a=a\n",
    "    print('Z_a=',Z_a)\n",
    "    Z__b=Z_a\n",
    "    print('Z__b=',Z__b)\n",
    "    x__δmax= Z__b/δ0*1.3\n",
    "    x__=x__δmax*δ0\n",
    "    print('x__=','%.3f'%x__)\n",
    "    # НОВЫЙ ШАГ\n",
    "    m1=(Z__b+(x__-δ0/2))/2\n",
    "    m2=(Zb+(X_-δ0))/2\n",
    "    print('m1=%f'%m1,'\\nm2=%f'%m2)\n",
    "    \n",
    "    G1=μ0*((2*b*1e-3)/(m.pi*((δ/m2)+0.5)))\n",
    "    print('\\n\\nG1=','%.3f e-9'%(G1*1e9))\n",
    "\n",
    "    G2=μ0*0.52*b*1e-3\n",
    "    G3=μ0*(a*b*1e-3/δ0)\n",
    "    G4=μ0*0.26*b*1e-3\n",
    "    print('G2=','%.3f e-9'%(G2*1e9))\n",
    "    print('G3=','%.3f e-9'%(G3*1e9))\n",
    "    print('G4=','%.3f e-9'%(G4*1e9))\n",
    "\n",
    "    \n",
    "    G5=μ0*((2*b*1e-3)/(m.pi*((δ0/m1)+1)))\n",
    "    print('m1=',m1,'\\n\\nG5=','%.3fe-9'%(G5*1e9))\n",
    "    #до зазора δ2\n",
    "\n",
    "    G6=μ0*0.077*δ0*1e-3\n",
    "    G7=μ0*m1*1e-3/4\n",
    "    G8=2*G6+2*G7\n",
    "    print('G6=','%.3f e-9'%(G6*1e9))\n",
    "    print('G7=','%.3f e-9'%(G7*1e9))\n",
    "    print('G8=','%.3f e-9'%(G8*1e9))\n",
    "\n",
    "    Gb4=G1+G2+G3+3*(G4+G5)+2*(G6+G7+G8)\n",
    "    print('\\nGb4=','%.3f e-9'%(Gb4*1e9))\n",
    "\n",
    "    Rb4=1/Gb4\n",
    "    print('\\nRb4=','%.3f e6'%(Rb4*1e-6))\n",
    "\n",
    "    Gb2=G1+G2+G3+2*(G4+G5+G8)\n",
    "    print('\\nGb2=','%.3f e-9'%(Gb2*1e9))\n",
    "    Rb2=1/Gb2\n",
    "    print('\\nRb2=','%.3f e6'%(Rb2*1e-6))\n",
    "\n",
    "    R_ms=Rb4*2\n",
    "\n",
    "    print('\\nR_ms','%.3f e6'%(R_ms*1e-6))\n",
    "    #4.1.3.3.\n",
    "    ro=0.0174\n",
    "    \n",
    "    #lsr=2*(2*(c-eps-lamb)/k1+3*a+2*eps+4*lamb) #для Ш-образного\n",
    "    lsr=4*(h+lamb)/k1+2*eps  # Для П-образного\n",
    "\n",
    "    q=m.pi*d0**2/4\n",
    "    ow=2*m.pi*50\n",
    "    Ra_r=ro*lsr*1e-3*w/q\n",
    "    Ra_im=ow*w**2/R_ms\n",
    "    Ze=(Ra_r**2+Ra_im**2)**0.5\n",
    "    if δ0==δ0max:\n",
    "        Ze_min=(Ra_r**2+Ra_im**2)**0.5\n",
    "        print('\\nZe_min= %.2f e3 '%(Ze_min*1e-3))\n",
    "    else:\n",
    "        Ze_max=(Ra_r**2+Ra_im**2)**0.5\n",
    "        print('\\nZe_max= %.2f e3 '%(Ze_max*1e-3))\n",
    "    print('lsr=%.2f'%lsr)\n",
    "\n",
    "    print('\\nRa_r=%.2f'%Ra_r)\n",
    "    print('Ra_im=%.2f'%Ra_im)\n",
    "\n",
    "    \n",
    "    #4.1.3.4.\n",
    "    I=(B*2*a*b*R_ms*10**(-6))/(w*(2**0.5))\n",
    "    print('I= %f'%I)\n",
    "    j=I/q\n",
    "    print('j<=2..2.5 j= %.2f'%j)\n",
    "    U=I*Ze\n",
    "    print('U= %.2f'%U)\n",
    "    if δ0==δ0max:\n",
    "        Iδmax=I\n",
    "        Gb4_max=Gb4\n",
    "    else:\n",
    "        Iδmin=I\n",
    "        Gb4_min=Gb4\n",
    "\n",
    "    "
   ]
  },
  {
   "cell_type": "code",
   "execution_count": 18,
   "metadata": {},
   "outputs": [
    {
     "output_type": "stream",
     "name": "stdout",
     "text": [
      "X_= 10.0\nδ0= 1.1\nX_/δ0= 9.09090909090909\nZb_δmax= 6.9930069930069925\nZb= 7.6923076923076925\nZ_a= 10\nZ__b= 10\nx__= 13.000\nm1=11.225000 \nm2=8.296154\n\n\nG1= 15.994 e-9\nG2= 6.535 e-9\nG3= 114.240 e-9\nG4= 3.267 e-9\nm1= 11.225 \n\nG5= 7.286e-9\nG6= 0.106 e-9\nG7= 3.526 e-9\nG8= 7.266 e-9\n\nGb4= 190.225 e-9\n\nRb4= 5.257 e6\n\nGb2= 172.406 e-9\n\nRb2= 5.800 e6\n\nR_ms 10.514 e6\n\nZe_min= 2.38 e3 \nlsr=212.00\n\nRa_r=998.99\nRa_im=2162.94\nI= 0.034953\nj<=2..2.5 j= 1.11\nU= 83.27\n\n\n\n\n\n\nX_= 10.0\nδ0= 0.7\nX_/δ0= 14.285714285714286\nZb_δmax= 10.989010989010989\nZb= 7.692307692307692\nZ_a= 10\nZ__b= 10\nx__= 13.000\nm1=11.325000 \nm2=8.496154\n\n\nG1= 15.994 e-9\nG2= 6.535 e-9\nG3= 179.520 e-9\nG4= 3.267 e-9\nm1= 11.325 \n\nG5= 7.534e-9\nG6= 0.068 e-9\nG7= 3.558 e-9\nG8= 7.251 e-9\n\nGb4= 256.207 e-9\n\nRb4= 3.903 e6\n\nGb2= 238.154 e-9\n\nRb2= 4.199 e6\n\nR_ms 7.806 e6\n\nZe_max= 3.08 e3 \nlsr=212.00\n\nRa_r=998.99\nRa_im=2913.17\nI= 0.025951\nj<=2..2.5 j= 0.83\nU= 79.92\ndZe=6.97e+02\n"
     ]
    }
   ],
   "source": [
    "x_δ (δ0=δ0max)\n",
    "print('\\n\\n\\n\\n\\n')\n",
    "x_δ (δ0=δ0min)\n",
    "print('dZe=%.2e'%(Ze_max-Ze_min))"
   ]
  },
  {
   "cell_type": "code",
   "execution_count": 19,
   "metadata": {},
   "outputs": [
    {
     "output_type": "stream",
     "name": "stdout",
     "text": [
      "dZe=6.972014e+02\nS=1.743003e+03\nS0=1.500000e+03\nk1=1.077962\nw_new=7892.670671\n"
     ]
    }
   ],
   "source": [
    "\n",
    "\n",
    "dZe=Ze_max-Ze_min\n",
    "print('dZe=%e'%dZe)\n",
    "S=dZe/(2*dδ)\n",
    "print('S=%e'%S)\n",
    "print('S0=%e'%S0)\n",
    "k1=(S/S0)**0.5\n",
    "print('k1=%f'%k1)\n",
    "w_new=w/k1\n",
    "print('w_new=%f'%w_new)"
   ]
  },
  {
   "cell_type": "code",
   "execution_count": 20,
   "metadata": {},
   "outputs": [
    {
     "output_type": "execute_result",
     "data": {
      "text/plain": [
       "615.3293291226164"
      ]
     },
     "metadata": {},
     "execution_count": 20
    }
   ],
   "source": [
    "w-w_new"
   ]
  },
  {
   "cell_type": "code",
   "execution_count": 21,
   "metadata": {},
   "outputs": [
    {
     "output_type": "stream",
     "name": "stdout",
     "text": [
      "δ0min= 0.7\nδ0max= 1.1\nX_= 10.0\nδ0= 0.7\nX_/δ0= 14.285714285714286\nZb_δmax= 10.989010989010989\nZb= 7.692307692307692\nZ_a= 10\nZ__b= 10\nx__= 13.000\nm1=11.325000 \nm2=8.496154\n\n\nG1= 15.994 e-9\nG2= 6.535 e-9\nG3= 179.520 e-9\nG4= 3.267 e-9\nm1= 11.325 \n\nG5= 7.534e-9\nG6= 0.068 e-9\nG7= 3.558 e-9\nG8= 7.251 e-9\n\nGb4= 256.207 e-9\n\nRb4= 3.903 e6\n\nGb2= 238.154 e-9\n\nRb2= 4.199 e6\n\nR_ms 7.806 e6\n\nZe_max= 2.67 e3 \nlsr=212.00\n\nRa_r=926.78\nRa_im=2507.23\nI= 0.027973\nj<=2..2.5 j= 0.89\nU= 74.77\nX_= 10.0\nδ0= 1.1\nX_/δ0= 9.09090909090909\nZb_δmax= 6.9930069930069925\nZb= 7.6923076923076925\nZ_a= 10\nZ__b= 10\nx__= 13.000\nm1=11.225000 \nm2=8.296154\n\n\nG1= 15.994 e-9\nG2= 6.535 e-9\nG3= 114.240 e-9\nG4= 3.267 e-9\nm1= 11.225 \n\nG5= 7.286e-9\nG6= 0.106 e-9\nG7= 3.526 e-9\nG8= 7.266 e-9\n\nGb4= 190.225 e-9\n\nRb4= 5.257 e6\n\nGb2= 172.406 e-9\n\nRb2= 5.800 e6\n\nR_ms 10.514 e6\n\nZe_min= 2.08 e3 \nlsr=212.00\n\nRa_r=926.78\nRa_im=1861.54\nI= 0.037676\nj<=2..2.5 j= 1.20\nU= 78.35\n\n\n\n\n\n\ndZe=5.935525e+02\nS=1.483881e+03\nk1=0.994613\nw_new=7935.753266\n\n\n\n\n\n\nδ0min= 0.7\nδ0max= 1.1\nX_= 10.0\nδ0= 0.7\nX_/δ0= 14.285714285714286\nZb_δmax= 10.989010989010989\nZb= 7.692307692307692\nZ_a= 10\nZ__b= 10\nx__= 13.000\nm1=11.325000 \nm2=8.496154\n\n\nG1= 15.994 e-9\nG2= 6.535 e-9\nG3= 179.520 e-9\nG4= 3.267 e-9\nm1= 11.325 \n\nG5= 7.534e-9\nG6= 0.068 e-9\nG7= 3.558 e-9\nG8= 7.251 e-9\n\nGb4= 256.207 e-9\n\nRb4= 3.903 e6\n\nGb2= 238.154 e-9\n\nRb2= 4.199 e6\n\nR_ms 7.806 e6\n\nZe_max= 2.70 e3 \nlsr=212.00\n\nRa_r=931.83\nRa_im=2534.62\nI= 0.027822\nj<=2..2.5 j= 0.89\nU= 75.13\nX_= 10.0\nδ0= 1.1\nX_/δ0= 9.09090909090909\nZb_δmax= 6.9930069930069925\nZb= 7.6923076923076925\nZ_a= 10\nZ__b= 10\nx__= 13.000\nm1=11.225000 \nm2=8.296154\n\n\nG1= 15.994 e-9\nG2= 6.535 e-9\nG3= 114.240 e-9\nG4= 3.267 e-9\nm1= 11.225 \n\nG5= 7.286e-9\nG6= 0.106 e-9\nG7= 3.526 e-9\nG8= 7.266 e-9\n\nGb4= 190.225 e-9\n\nRb4= 5.257 e6\n\nGb2= 172.406 e-9\n\nRb2= 5.800 e6\n\nR_ms 10.514 e6\n\nZe_min= 2.10 e3 \nlsr=212.00\n\nRa_r=931.83\nRa_im=1881.88\nI= 0.037472\nj<=2..2.5 j= 1.19\nU= 78.69\n\n\n\n\n\n\ndZe=6.005390e+02\nS=1.501347e+03\nk1=1.000449\nw_new=7932.437958\n\n\n\n\n\n\nδ0min= 0.7\nδ0max= 1.1\nX_= 10.0\nδ0= 0.7\nX_/δ0= 14.285714285714286\nZb_δmax= 10.989010989010989\nZb= 7.692307692307692\nZ_a= 10\nZ__b= 10\nx__= 13.000\nm1=11.325000 \nm2=8.496154\n\n\nG1= 15.994 e-9\nG2= 6.535 e-9\nG3= 179.520 e-9\nG4= 3.267 e-9\nm1= 11.325 \n\nG5= 7.534e-9\nG6= 0.068 e-9\nG7= 3.558 e-9\nG8= 7.251 e-9\n\nGb4= 256.207 e-9\n\nRb4= 3.903 e6\n\nGb2= 238.154 e-9\n\nRb2= 4.199 e6\n\nR_ms 7.806 e6\n\nZe_max= 2.70 e3 \nlsr=212.00\n\nRa_r=931.36\nRa_im=2532.07\nI= 0.027836\nj<=2..2.5 j= 0.89\nU= 75.10\nX_= 10.0\nδ0= 1.1\nX_/δ0= 9.09090909090909\nZb_δmax= 6.9930069930069925\nZb= 7.6923076923076925\nZ_a= 10\nZ__b= 10\nx__= 13.000\nm1=11.225000 \nm2=8.296154\n\n\nG1= 15.994 e-9\nG2= 6.535 e-9\nG3= 114.240 e-9\nG4= 3.267 e-9\nm1= 11.225 \n\nG5= 7.286e-9\nG6= 0.106 e-9\nG7= 3.526 e-9\nG8= 7.266 e-9\n\nGb4= 190.225 e-9\n\nRb4= 5.257 e6\n\nGb2= 172.406 e-9\n\nRb2= 5.800 e6\n\nR_ms 10.514 e6\n\nZe_min= 2.10 e3 \nlsr=212.00\n\nRa_r=931.36\nRa_im=1879.98\nI= 0.037491\nj<=2..2.5 j= 1.19\nU= 78.66\n\n\n\n\n\n\ndZe=5.998874e+02\nS=1.499719e+03\nk1=0.999906\nw_new=7932.744267\n\n\n\n\n\n\nz=3\nw_new=7933.000000\n"
     ]
    }
   ],
   "source": [
    "z=0\n",
    "while m.fabs(S-S0)>1:\n",
    "    print('δ0min=',δ0min)\n",
    "    print('δ0max=',δ0max)\n",
    "    z=z+1\n",
    "    w_new=round(w_new)\n",
    "    x_δ (δ0=δ0min,w=w_new)\n",
    "    x_δ (δ0=δ0max,w=w_new)\n",
    "    print('\\n\\n\\n\\n\\n')\n",
    "    dZe=Ze_max-Ze_min\n",
    "    print('dZe=%e'%dZe)\n",
    "    S=dZe/(2*dδ)\n",
    "    print('S=%e'%S)\n",
    "    k1=(S/S0)**0.5\n",
    "    print('k1=%f'%k1)\n",
    "    w_new=w_new/k1\n",
    "    print('w_new=%f'%w_new)\n",
    "    print('\\n\\n\\n\\n\\n')\n",
    "print('z=%d'%z)   \n",
    "m.fabs(S-S0)\n",
    "print('w_new=%f'%round(w_new))"
   ]
  },
  {
   "cell_type": "code",
   "execution_count": 22,
   "metadata": {},
   "outputs": [
    {
     "output_type": "execute_result",
     "data": {
      "text/plain": [
       "0.28145322291948105"
      ]
     },
     "metadata": {},
     "execution_count": 22
    }
   ],
   "source": [
    "m.fabs(S-S0)"
   ]
  },
  {
   "cell_type": "code",
   "execution_count": 23,
   "metadata": {},
   "outputs": [
    {
     "output_type": "stream",
     "name": "stdout",
     "text": [
      "Fsum=2.55\nFizm=20.00\nFizm>Fsum*5..10\n20.00>12.75..25.51\n"
     ]
    }
   ],
   "source": [
    "w_new=round(w_new)\n",
    "#4.1.3.7. Определение измерительного усилия\n",
    "Fsum=w_new**2*(Iδmin**2*Gb4_min/(δ0min*1e-3)-Iδmax**2*Gb4_max/(δ0max*1e-3))\n",
    "print('Fsum=%.2f'%Fsum)\n",
    "print('Fizm=%.2f'%Fizm)\n",
    "print('Fizm>Fsum*5..10')\n",
    "print('%.2f>%.2f..%.2f'%(Fizm,Fsum*5,Fsum*10))\n"
   ]
  },
  {
   "cell_type": "code",
   "execution_count": null,
   "metadata": {},
   "outputs": [],
   "source": []
  }
 ]
}