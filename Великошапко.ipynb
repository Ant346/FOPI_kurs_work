{
 "metadata": {
  "language_info": {
   "codemirror_mode": {
    "name": "ipython",
    "version": 3
   },
   "file_extension": ".py",
   "mimetype": "text/x-python",
   "name": "python",
   "nbconvert_exporter": "python",
   "pygments_lexer": "ipython3",
   "version": "3.9.2"
  },
  "orig_nbformat": 2,
  "kernelspec": {
   "name": "python392jvsc74a57bd0d20511710d0ef1b8f61e9561ea7a1dacb95f86736785c369355f9020fcd31a57",
   "display_name": "Python 3.9.2 64-bit"
  },
  "metadata": {
   "interpreter": {
    "hash": "d20511710d0ef1b8f61e9561ea7a1dacb95f86736785c369355f9020fcd31a57"
   }
  }
 },
 "nbformat": 4,
 "nbformat_minor": 2,
 "cells": [
  {
   "cell_type": "code",
   "execution_count": 1,
   "metadata": {},
   "outputs": [
    {
     "output_type": "stream",
     "name": "stdout",
     "text": [
      " Sm= 6.605e-04\n Sδ= 9.425e-04\n Sm/Sδ= 7.008e-01\n Bm= 9.275e-01\n\n Bm_Hm= 1.686e-05\n\n Lm= 1.230e-02\n Dm= 2.900e-02\n\n"
     ]
    }
   ],
   "source": [
    "import math as m\n",
    "###3.1.1\n",
    "#///условия////\n",
    "a=1*1e-3\n",
    "δ=1.7*1e-3\n",
    "Dδ=30*1e-3\n",
    "h=10*1e-3\n",
    "Bδ=0.5\n",
    "Dm=Dδ-a\n",
    "k=0.3\n",
    "μ0=m.pi*4*1e-7\n",
    "#///условия////\n",
    "\n",
    "###3.2.1\n",
    "\n",
    "Sm=m.pi*Dm**2/4\n",
    "Sδ=h*m.pi*Dδ\n",
    "Sm_Sδ=Sm/Sδ\n",
    "Bm=Bδ*1/Sm_Sδ*(1+k)\n",
    "print(' Sm= %.3e\\n' %Sm,'Sδ= %.3e\\n' %Sδ,'Sm/Sδ= %.3e\\n' %Sm_Sδ,'Bm= %.3e\\n' %Bm)\n",
    "\n",
    "Hm=55*1e3\n",
    "Bm_Hm=Bm/Hm\n",
    "print(' Bm_Hm= %.3e\\n' %Bm_Hm)\n",
    "Lm=Bm_Hm*(δ/(μ0*(1+k)))*Sm_Sδ\n",
    "\n",
    "print(' Lm= %.3e\\n' %Lm,'Dm= %.3e\\n' %Dm)\n"
   ]
  },
  {
   "cell_type": "code",
   "execution_count": 2,
   "metadata": {},
   "outputs": [
    {
     "output_type": "stream",
     "name": "stdout",
     "text": [
      " Lm= 1.472e-02\n Dm= 1.800e-02\n Sm_Sδ= 5.400e-01\n\n"
     ]
    }
   ],
   "source": [
    "#Если не сошлось\n",
    "Bm=0.95 #вводим желаемое значение исходя из рабочей точки графика\n",
    "Hm=32*1e3 #эквивалентное ей значение напряженности\n",
    "Dm=m.sqrt((Bδ*4*Dδ*h*(1+k))/(Bm))\n",
    "Dm=18*1e-3 # округляем\n",
    "Sm=m.pi*Dm**2/4\n",
    "Sm_Sδ=Sm/Sδ\n",
    "Bm_Hm=Bm/Hm\n",
    "Lm=Bm_Hm*(δ/(μ0*(1+k)))*Sm_Sδ\n",
    "print(' Lm= %.3e\\n' %Lm,'Dm= %.3e\\n' %Dm,'Sm_Sδ= %.3e\\n' %Sm_Sδ)"
   ]
  },
  {
   "cell_type": "code",
   "execution_count": 4,
   "metadata": {},
   "outputs": [
    {
     "output_type": "stream",
     "name": "stdout",
     "text": [
      " Φm= 2.417e-04\n Φδ= 1.885e-04\n Bδ= 4.000e-01\n\n"
     ]
    }
   ],
   "source": [
    "###3.2.2 проверка \n",
    "Bm_Hm=μ0*(1+k)*Sδ/Sm*Lm/δ\n",
    "Hm2=20*1e3 #указываем значение точки по y через которую будем проводить прямую\n",
    "Bm2=Bm_Hm*Hm2\n",
    "#проводим прямую и смотрим значения пересечения\n",
    "Bm_izm=0.97\n",
    "Hm_izm=31*1e3\n",
    "Φm=Bm*Sm # ищем потоки и сравниваем с условием индукцию зазора\n",
    "Φδ=Bδ*Sδ\n",
    "Bδ=Φδ/Sδ\n",
    "print(' Φm= %.3e\\n' %Φm,'Φδ= %.3e\\n' %Φδ,'Bδ= %.3e\\n' %Bδ)\n"
   ]
  },
  {
   "cell_type": "code",
   "execution_count": 1,
   "metadata": {},
   "outputs": [],
   "source": [
    "import math as m\n",
    "###4.1.1\n",
    "#///условия////\n",
    "a=10\n",
    "b=10\n",
    "c=23\n",
    "dδ=0.25\n",
    "h=60\n",
    "S0=1500\n",
    "Fizm=16\n",
    "f=a\n",
    "#///условия////\n",
    "d0=0.2\n",
    "d1=0.22\n",
    "lamb=1.5\n",
    "eps=3\n",
    "μ0=m.pi*4*1e-7"
   ]
  },
  {
   "source": [
    "f0_list=[0.6,0.55,0.5]\n",
    "f0=f0_list[0] # Выбираем сечение провода(у всех дефолтное)\n",
    "w=m.ceil(4*f0*(c-eps-2*lamb)*(h-lamb-f)/(m.pi*d1**2)) #считаем количесвто витков, округляем до целого\n",
    "print('w= ','%.0f'%w)"
   ],
   "cell_type": "code",
   "metadata": {},
   "execution_count": 2,
   "outputs": [
    {
     "output_type": "stream",
     "name": "stdout",
     "text": [
      "w=  13014\n"
     ]
    }
   ]
  },
  {
   "cell_type": "code",
   "execution_count": 3,
   "metadata": {},
   "outputs": [
    {
     "output_type": "stream",
     "name": "stdout",
     "text": [
      "δ0min1= 1.25 \nδ0max1= 1.667\n\nδ0min2= 1.0 \nδ0max2= 2.0\n"
     ]
    }
   ],
   "source": [
    "δ0max1=dδ/0.15 #определяем границы начального зазора 1 соотношение\n",
    "δ0min1=dδ/0.2\n",
    "print('δ0min1=',δ0min1,'\\nδ0max1=','%.3f'%δ0max1)\n",
    "\n",
    "δ0min2=a*0.1 #определяем границы начального зазора 2  соотношение\n",
    "δ0max2=a*0.2\n",
    "print('\\nδ0min2=',δ0min2,'\\nδ0max2=',δ0max2)"
   ]
  },
  {
   "cell_type": "code",
   "execution_count": 9,
   "metadata": {},
   "outputs": [
    {
     "output_type": "stream",
     "name": "stdout",
     "text": [
      "δ0= 1.25\nПри несовпадении значений точности следует уменьшить зазор δ0, что собственно вручную и сделано\nδ0= 1.25\n"
     ]
    }
   ],
   "source": [
    "#Выбрать наименьшее значение, которые находится сразу в обоих множествах\n",
    "min = 1e10\n",
    "if δ0min1<δ0min2: \n",
    "    δ0=round(δ0min2,2)\n",
    "else:\n",
    "    δ0=round(δ0min1,2)\n",
    "print('δ0=',δ0)\n",
    "print('При несовпадении значений точности следует уменьшить зазор δ0, что собственно вручную и сделано')\n",
    "#δ0=0.5\n",
    "print('δ0=',δ0)"
   ]
  },
  {
   "cell_type": "code",
   "execution_count": 10,
   "metadata": {},
   "outputs": [
    {
     "output_type": "stream",
     "name": "stdout",
     "text": [
      "δ0max= 1.5 \nδ0min= 1.0\n"
     ]
    }
   ],
   "source": [
    "δ0max=δ0+dδ # добавляем ход\n",
    "δ0min=δ0-dδ\n",
    "print('δ0max=',δ0max,'\\nδ0min=',δ0min)"
   ]
  },
  {
   "cell_type": "code",
   "execution_count": 13,
   "metadata": {},
   "outputs": [],
   "source": [
    "def x_δ (δ0,δ0max=δ0max,w=w,k1=1):\n",
    "    global Ze_max,Ze_min\n",
    "    global Iδmin,Gb4_max,Gb4_min,Iδmax\n",
    "    #4.1.3.2.\n",
    "    #Для расчета имеем п-образный сердечник. Для него следует выбирать      индукцию B=0.2\n",
    "    B=0.2 #0,3 для Ш-образного\n",
    "    #Построили схему замещения\n",
    "    #Определение магнитного сопротивления примаксимальном воздушном         зазоре\n",
    "    X_=c/2\n",
    "    print('X_=',X_)\n",
    "    #по рис. 7 по известной X'/δmax определяем Zb/δmax\n",
    "    print('δ0=',δ0) \n",
    "    print('X_/δ0=',X_/δ0) \n",
    "\n",
    "    #По графику ищем соответствие (для значений  <35 коэффициент 1.3)\n",
    "    Zb_δmax=X_/δ0 /1.3\n",
    "    print('Zb_δmax=',Zb_δmax) \n",
    "    Zb=Zb_δmax*δ0\n",
    "    print('Zb=',Zb)\n",
    "    Z_a=a\n",
    "    print('Z_a=',Z_a)\n",
    "    Z__b=Z_a\n",
    "    print('Z__b=',Z__b)\n",
    "    x__δmax= Z__b/δ0*1.3\n",
    "    x__=x__δmax*δ0\n",
    "    print('x__=','%.3f'%x__)\n",
    "    # НОВЫЙ ШАГ\n",
    "    m1=(Z__b+(x__-δ0/2))/2\n",
    "    m2=(Zb+(X_-δ0))/2\n",
    "    print('m1=%f'%m1,'\\nm2=%f'%m2)\n",
    "    \n",
    "    G1=μ0*((2*b*1e-3)/(m.pi*((δ0/m2)+0.5)))\n",
    "    print('\\n\\nG1=','%.3f e-9'%(G1*1e9))\n",
    "\n",
    "    G2=μ0*0.52*b*1e-3\n",
    "    G3=μ0*(a*b*1e-3/δ0)\n",
    "    G4=μ0*0.26*b*1e-3\n",
    "    print('G2=','%.3f e-9'%(G2*1e9))\n",
    "    print('G3=','%.3f e-9'%(G3*1e9))\n",
    "    print('G4=','%.3f e-9'%(G4*1e9))\n",
    "\n",
    "    \n",
    "    G5=μ0*((2*b*1e-3)/(m.pi*((δ0/m1)+1)))\n",
    "    print('m1=',m1,'\\n\\nG5=','%.3fe-9'%(G5*1e9))\n",
    "    #до зазора δ2\n",
    "\n",
    "    G6=μ0*0.077*δ0*1e-3\n",
    "    G7=μ0*m1*1e-3/4\n",
    "    G8=2*G6+2*G7\n",
    "    print('G6=','%.3f e-9'%(G6*1e9))\n",
    "    print('G7=','%.3f e-9'%(G7*1e9))\n",
    "    print('G8=','%.3f e-9'%(G8*1e9))\n",
    "\n",
    "    Gb4=G1+G2+G3+3*(G4+G5)+2*(G6+G7+G8)\n",
    "    print('\\nGb4=','%.3f e-9'%(Gb4*1e9))\n",
    "\n",
    "    Rb4=1/Gb4\n",
    "    print('\\nRb4=','%.3f e6'%(Rb4*1e-6))\n",
    "\n",
    "    Gb2=G1+G2+G3+2*(G4+G5+G8)\n",
    "    print('\\nGb2=','%.3f e-9'%(Gb2*1e9))\n",
    "    Rb2=1/Gb2\n",
    "    print('\\nRb2=','%.3f e6'%(Rb2*1e-6))\n",
    "\n",
    "    R_ms=Rb4*2\n",
    "\n",
    "    print('\\nR_ms','%.3f e6'%(R_ms*1e-6))\n",
    "    #4.1.3.3.\n",
    "    ro=0.0174\n",
    "    \n",
    "    #lsr=2*(2*(c-eps-lamb)/k1+3*a+2*eps+4*lamb) #для Ш-образного\n",
    "    lsr=4*(h+lamb)/k1+2*eps  # Для П-образного\n",
    "\n",
    "    q=m.pi*d0**2/4\n",
    "    ow=2*m.pi*50\n",
    "    Ra_r=ro*lsr*1e-3*w/q\n",
    "    Ra_im=ow*w**2/R_ms\n",
    "    Ze=(Ra_r**2+Ra_im**2)**0.5\n",
    "    if δ0==δ0max:\n",
    "        Ze_min=(Ra_r**2+Ra_im**2)**0.5\n",
    "        print('\\nZe_min= %.2f e3 '%(Ze_min*1e-3))\n",
    "    else:\n",
    "        Ze_max=(Ra_r**2+Ra_im**2)**0.5\n",
    "        print('\\nZe_max= %.2f e3 '%(Ze_max*1e-3))\n",
    "    print('lsr=%.2f'%lsr)\n",
    "\n",
    "    print('\\nRa_r=%.2f'%Ra_r)\n",
    "    print('Ra_im=%.2f'%Ra_im)\n",
    "\n",
    "    \n",
    "    #4.1.3.4.\n",
    "    I=(B*2*a*b*R_ms*10**(-6))/(w*(2**0.5))\n",
    "    print('I= %f'%I)\n",
    "    j=I/q\n",
    "    print('j<=2..2.5 j= %.2f'%j)\n",
    "    U=I*Ze\n",
    "    print('U= %.2f'%U)\n",
    "    if δ0==δ0max:\n",
    "        Iδmax=I\n",
    "        Gb4_max=Gb4\n",
    "    else:\n",
    "        Iδmin=I\n",
    "        Gb4_min=Gb4\n",
    "\n",
    "    "
   ]
  },
  {
   "cell_type": "code",
   "execution_count": 14,
   "metadata": {},
   "outputs": [
    {
     "output_type": "stream",
     "name": "stdout",
     "text": [
      "X_= 11.5\nδ0= 1.5\nX_/δ0= 7.666666666666667\nZb_δmax= 5.897435897435898\nZb= 8.846153846153847\nZ_a= 10\nZ__b= 10\nx__= 13.000\nm1=11.125000 \nm2=9.423077\n\n\nG1= 12.136 e-9\nG2= 6.535 e-9\nG3= 83.776 e-9\nG4= 3.267 e-9\nm1= 11.125 \n\nG5= 7.050e-9\nG6= 0.145 e-9\nG7= 3.495 e-9\nG8= 7.280 e-9\n\nGb4= 155.238 e-9\n\nRb4= 6.442 e6\n\nGb2= 137.641 e-9\n\nRb2= 7.265 e6\n\nR_ms 12.883 e6\n\nZe_min= 4.51 e3 \nlsr=252.00\n\nRa_r=1816.40\nRa_im=4129.89\nI= 0.028001\nj<=2..2.5 j= 0.89\nU= 126.33\n\n\n\n\n\n\nX_= 11.5\nδ0= 1.0\nX_/δ0= 11.5\nZb_δmax= 8.846153846153847\nZb= 8.846153846153847\nZ_a= 10\nZ__b= 10\nx__= 13.000\nm1=11.250000 \nm2=9.673077\n\n\nG1= 13.259 e-9\nG2= 6.535 e-9\nG3= 125.664 e-9\nG4= 3.267 e-9\nm1= 11.25 \n\nG5= 7.347e-9\nG6= 0.097 e-9\nG7= 3.534 e-9\nG8= 7.262 e-9\n\nGb4= 199.086 e-9\n\nRb4= 5.023 e6\n\nGb2= 181.209 e-9\n\nRb2= 5.518 e6\n\nR_ms 10.046 e6\n\nZe_max= 5.60 e3 \nlsr=252.00\n\nRa_r=1816.40\nRa_im=5296.41\nI= 0.021834\nj<=2..2.5 j= 0.69\nU= 122.25\ndZe=1.09e+03\n"
     ]
    }
   ],
   "source": [
    "x_δ (δ0=δ0max)\n",
    "print('\\n\\n\\n\\n\\n')\n",
    "x_δ (δ0=δ0min)\n",
    "print('dZe=%.2e'%(Ze_max-Ze_min))"
   ]
  },
  {
   "cell_type": "code",
   "execution_count": 15,
   "metadata": {},
   "outputs": [
    {
     "output_type": "stream",
     "name": "stdout",
     "text": [
      "dZe=1.087533e+03\nS=2.175065e+03\nS0=1.500000e+03\nk1=1.204178\nw_new=10807.376639\n"
     ]
    }
   ],
   "source": [
    "\n",
    "\n",
    "dZe=Ze_max-Ze_min\n",
    "print('dZe=%e'%dZe)\n",
    "S=dZe/(2*dδ)\n",
    "print('S=%e'%S)\n",
    "print('S0=%e'%S0)\n",
    "k1=(S/S0)**0.5\n",
    "print('k1=%f'%k1)\n",
    "w_new=w/k1\n",
    "print('w_new=%f'%w_new)"
   ]
  },
  {
   "cell_type": "code",
   "execution_count": 11,
   "metadata": {},
   "outputs": [
    {
     "output_type": "execute_result",
     "data": {
      "text/plain": [
       "25.402475264779696"
      ]
     },
     "metadata": {},
     "execution_count": 11
    }
   ],
   "source": [
    "w-w_new"
   ]
  },
  {
   "cell_type": "code",
   "execution_count": 12,
   "metadata": {},
   "outputs": [
    {
     "output_type": "stream",
     "name": "stdout",
     "text": [
      "δ0min= 0.4\nδ0max= 0.6\nX_= 7.5\nδ0= 0.4\nX_/δ0= 18.75\nZb_δmax= 14.423076923076923\nZb= 5.76923076923077\nZ_a= 5\nZ__b= 5\nx__= 6.500\nm1=5.650000 \nm2=6.434615\n\n\nG1= 7.996 e-9\nG2= 3.267 e-9\nG3= 78.540 e-9\nG4= 1.634 e-9\nm1= 5.65 \n\nG5= 3.736e-9\nG6= 0.039 e-9\nG7= 1.775 e-9\nG8= 3.627 e-9\n\nGb4= 116.793 e-9\n\nRb4= 8.562 e6\n\nGb2= 107.796 e-9\n\nRb2= 9.277 e6\n\nR_ms 17.124 e6\n\nZe_max= 0.20 e3 \nlsr=112.00\n\nRa_r=161.53\nRa_im=124.40\nI= 0.046501\nj<=2..2.5 j= 1.48\nU= 9.48\nX_= 7.5\nδ0= 0.6\nX_/δ0= 12.5\nZb_δmax= 9.615384615384615\nZb= 5.769230769230769\nZ_a= 5\nZ__b= 5\nx__= 6.500\nm1=5.600000 \nm2=6.334615\n\n\nG1= 7.996 e-9\nG2= 3.267 e-9\nG3= 52.360 e-9\nG4= 1.634 e-9\nm1= 5.6 \n\nG5= 3.613e-9\nG6= 0.058 e-9\nG7= 1.759 e-9\nG8= 3.635 e-9\n\nGb4= 90.267 e-9\n\nRb4= 11.078 e6\n\nGb2= 81.385 e-9\n\nRb2= 12.287 e6\n\nR_ms 22.157 e6\n\nZe_min= 0.19 e3 \nlsr=112.00\n\nRa_r=161.53\nRa_im=96.15\nI= 0.060165\nj<=2..2.5 j= 1.92\nU= 11.31\n\n\n\n\n\n\ndZe=1.590149e+01\nS=7.950743e+01\nk1=0.996917\nw_new=2612.053771\n\n\n\n\n\n\nz=1\nw_new=2612.000000\n"
     ]
    }
   ],
   "source": [
    "z=0\n",
    "while m.fabs(S-S0)>1:\n",
    "    print('δ0min=',δ0min)\n",
    "    print('δ0max=',δ0max)\n",
    "    z=z+1\n",
    "    w_new=round(w_new)\n",
    "    x_δ (δ0=δ0min,w=w_new)\n",
    "    x_δ (δ0=δ0max,w=w_new)\n",
    "    print('\\n\\n\\n\\n\\n')\n",
    "    dZe=Ze_max-Ze_min\n",
    "    print('dZe=%e'%dZe)\n",
    "    S=dZe/(2*dδ)\n",
    "    print('S=%e'%S)\n",
    "    k1=(S/S0)**0.5\n",
    "    print('k1=%f'%k1)\n",
    "    w_new=w_new/k1\n",
    "    print('w_new=%f'%w_new)\n",
    "    print('\\n\\n\\n\\n\\n')\n",
    "print('z=%d'%z)   \n",
    "m.fabs(S-S0)\n",
    "print('w_new=%f'%round(w_new))"
   ]
  },
  {
   "cell_type": "code",
   "execution_count": 13,
   "metadata": {},
   "outputs": [
    {
     "output_type": "execute_result",
     "data": {
      "text/plain": [
       "0.49256902222126087"
      ]
     },
     "metadata": {},
     "execution_count": 13
    }
   ],
   "source": [
    "m.fabs(S-S0)"
   ]
  },
  {
   "cell_type": "code",
   "execution_count": 14,
   "metadata": {},
   "outputs": [
    {
     "output_type": "stream",
     "name": "stdout",
     "text": [
      "Fsum=0.59\nFizm=15.00\nFizm>Fsum*5..10\n15.00>2.96..5.92\n"
     ]
    }
   ],
   "source": [
    "w_new=round(w_new)\n",
    "#4.1.3.7. Определение измерительного усилия\n",
    "Fsum=w_new**2*(Iδmin**2*Gb4_min/(δ0min*1e-3)-Iδmax**2*Gb4_max/(δ0max*1e-3))\n",
    "print('Fsum=%.2f'%Fsum)\n",
    "print('Fizm=%.2f'%Fizm)\n",
    "print('Fizm>Fsum*5..10')\n",
    "print('%.2f>%.2f..%.2f'%(Fizm,Fsum*5,Fsum*10))\n"
   ]
  },
  {
   "cell_type": "code",
   "execution_count": null,
   "metadata": {},
   "outputs": [],
   "source": []
  }
 ]
}