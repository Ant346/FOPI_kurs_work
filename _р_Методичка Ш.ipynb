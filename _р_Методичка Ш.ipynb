{
 "metadata": {
  "language_info": {
   "codemirror_mode": {
    "name": "ipython",
    "version": 3
   },
   "file_extension": ".py",
   "mimetype": "text/x-python",
   "name": "python",
   "nbconvert_exporter": "python",
   "pygments_lexer": "ipython3",
   "version": "3.9.2"
  },
  "orig_nbformat": 2,
  "kernelspec": {
   "name": "python392jvsc74a57bd0d20511710d0ef1b8f61e9561ea7a1dacb95f86736785c369355f9020fcd31a57",
   "display_name": "Python 3.9.2 64-bit"
  },
  "metadata": {
   "interpreter": {
    "hash": "d20511710d0ef1b8f61e9561ea7a1dacb95f86736785c369355f9020fcd31a57"
   }
  }
 },
 "nbformat": 4,
 "nbformat_minor": 2,
 "cells": [
  {
   "cell_type": "code",
   "execution_count": 5,
   "metadata": {},
   "outputs": [
    {
     "output_type": "stream",
     "name": "stdout",
     "text": [
      " Sm= 4.155e-04\n Sδ= 6.283e-04\n Sm/Sδ= 6.612e-01\n Bm= 9.830e-01\n\n Bm_Hm= 3.072e-05\n\n Lm= 1.865e-02\n Dm= 2.300e-02\n\n"
     ]
    }
   ],
   "source": [
    "import math as m\n",
    "###3.1.1\n",
    "#///условия////\n",
    "a=2*1e-3\n",
    "δ=1.5*1e-3\n",
    "Dδ=25*1e-3\n",
    "h=8*1e-3\n",
    "Bδ=0.5\n",
    "Dm=Dδ-a\n",
    "k=0.3\n",
    "μ0=m.pi*4*1e-7\n",
    "#///условия////\n",
    "\n",
    "###3.2.1\n",
    "\n",
    "Sm=m.pi*Dm**2/4\n",
    "Sδ=h*m.pi*Dδ\n",
    "Sm_Sδ=Sm/Sδ\n",
    "Bm=Bδ*1/Sm_Sδ*(1+k)\n",
    "print(' Sm= %.3e\\n' %Sm,'Sδ= %.3e\\n' %Sδ,'Sm/Sδ= %.3e\\n' %Sm_Sδ,'Bm= %.3e\\n' %Bm)\n",
    "\n",
    "Hm=32*1e3\n",
    "Bm_Hm=Bm/Hm\n",
    "print(' Bm_Hm= %.3e\\n' %Bm_Hm)\n",
    "Lm=Bm_Hm*(δ/(μ0*(1+k)))*Sm_Sδ\n",
    "#Lm=1.866*1e-2\n",
    "\n",
    "print(' Lm= %.3e\\n' %Lm,'Dm= %.3e\\n' %Dm)\n"
   ]
  },
  {
   "cell_type": "code",
   "execution_count": 6,
   "metadata": {},
   "outputs": [
    {
     "output_type": "stream",
     "name": "stdout",
     "text": [
      " Lm= 1.900e-02\n Dm= 2.300e-02\n Sm_Sδ= 6.612e-01\n\n"
     ]
    }
   ],
   "source": [
    "#Если не сошлось\n",
    "Bm=0.99 #вводим желаемое значение исходя из рабочей точки графика\n",
    "Hm=31e3 #эквивалентное ей значение напряженности\n",
    "Dm=m.sqrt((Bδ*4*Dδ*h*(1+k))/(Bm))\n",
    "Dm=round(Dm,3) # округляем\n",
    "Sm=m.pi*Dm**2/4\n",
    "Sm_Sδ=Sm/Sδ\n",
    "Bm_Hm=Bm/Hm\n",
    "Lm=round(Bm_Hm*(δ/(μ0*(1+k)))*Sm_Sδ,3)\n",
    "print(' Lm= %.3e\\n' %Lm,'Dm= %.3e\\n' %Dm,'Sm_Sδ= %.3e\\n' %Sm_Sδ)"
   ]
  },
  {
   "cell_type": "code",
   "execution_count": 7,
   "metadata": {},
   "outputs": [
    {
     "output_type": "stream",
     "name": "stdout",
     "text": [
      " Φm= 4.113e-04\n Φδ= 3.142e-04\n Bδ= 5.000e-01\n\n"
     ]
    }
   ],
   "source": [
    "###3.2.2 проверка \n",
    "Bm_Hm=μ0*(1+k)*Sδ/Sm*Lm/δ\n",
    "Hm2=31*1e3 #указываем значение точки по y через которую будем проводить прямую\n",
    "Bm2=Bm_Hm*Hm2\n",
    "#проводим прямую и смотрим значения пересечения\n",
    "Bm_izm=0.99\n",
    "Hm_izm=31*1e3\n",
    "Φm=Bm*Sm # ищем потоки и сравниваем с условием индукцию зазора\n",
    "Φδ=Bδ*Sδ\n",
    "Bδ=Φδ/Sδ\n",
    "print(' Φm= %.3e\\n' %Φm,'Φδ= %.3e\\n' %Φδ,'Bδ= %.3e\\n' %Bδ)\n"
   ]
  },
  {
   "cell_type": "code",
   "execution_count": 8,
   "metadata": {},
   "outputs": [],
   "source": [
    "import math as m\n",
    "###4.1.1\n",
    "#///условия////\n",
    "a=10\n",
    "b=10\n",
    "c=40\n",
    "dδ=0.3\n",
    "h=50\n",
    "S0=5000\n",
    "Fizm=15\n",
    "f=a\n",
    "#///условия////\n",
    "d0=0.2\n",
    "d1=0.22\n",
    "lamb=1.5\n",
    "eps=3\n",
    "μ0=m.pi*4*1e-7"
   ]
  },
  {
   "source": [
    "f0_list=[0.6,0.55,0.5]\n",
    "f0=f0_list[0] # Выбираем сечение провода(у всех дефолтное)\n",
    "w=m.ceil(4*f0*(c-eps-lamb)*(h-2*lamb-f)/(m.pi*d1**2)) #считаем количесвто витков, округляем до целого\n",
    "print('w= ','%.0f'%w)"
   ],
   "cell_type": "code",
   "metadata": {},
   "execution_count": 9,
   "outputs": [
    {
     "output_type": "stream",
     "name": "stdout",
     "text": [
      "w=  20733\n"
     ]
    }
   ]
  },
  {
   "cell_type": "code",
   "execution_count": 10,
   "metadata": {},
   "outputs": [
    {
     "output_type": "stream",
     "name": "stdout",
     "text": [
      "δ0min1= 1.4999999999999998 \nδ0max1= 2.000\n\nδ0min2= 1.0 \nδ0max2= 2.0\n"
     ]
    }
   ],
   "source": [
    "δ0max1=dδ/0.15 #определяем границы начального зазора 1 соотношение\n",
    "δ0min1=dδ/0.2\n",
    "print('δ0min1=',δ0min1,'\\nδ0max1=','%.3f'%δ0max1)\n",
    "\n",
    "δ0min2=a*0.1 #определяем границы начального зазора 2  соотношение\n",
    "δ0max2=a*0.2\n",
    "print('\\nδ0min2=',δ0min2,'\\nδ0max2=',δ0max2)"
   ]
  },
  {
   "cell_type": "code",
   "execution_count": 11,
   "metadata": {},
   "outputs": [
    {
     "output_type": "stream",
     "name": "stdout",
     "text": [
      "δ0= 1.5\nПри несовпадении значений точности следует уменьшить зазор δ0, что собственно вручную и сделано\nδ0= 1.7\n"
     ]
    }
   ],
   "source": [
    "#Выбрать наименьшее значение, которые находится сразу в обоих множествах\n",
    "min = 1e10\n",
    "if δ0min1<δ0min2: \n",
    "    δ0=round(δ0min2,2)\n",
    "else:\n",
    "    δ0=round(δ0min1,2)\n",
    "    \n",
    "print('δ0=',δ0)\n",
    "print('При несовпадении значений точности следует уменьшить зазор δ0, что собственно вручную и сделано')\n",
    "δ0=1.7\n",
    "print('δ0=',δ0)"
   ]
  },
  {
   "cell_type": "code",
   "execution_count": 12,
   "metadata": {},
   "outputs": [
    {
     "output_type": "stream",
     "name": "stdout",
     "text": [
      "δ0max= 2.0 \nδ0min= 1.4\n"
     ]
    }
   ],
   "source": [
    "δ0max=δ0+dδ # добавляем ход\n",
    "δ0min=δ0-dδ\n",
    "print('δ0max=',δ0max,'\\nδ0min=',δ0min)"
   ]
  },
  {
   "cell_type": "code",
   "execution_count": 54,
   "metadata": {},
   "outputs": [],
   "source": [
    "def x_δ (δ0max,m1=m1,m2=m2,w=w,k1=1):\n",
    "    global Ze_max,Ze_min\n",
    "    #4.1.3.2.\n",
    "    #Для расчета имеем п-образный сердечник. Для него следует выбирать      индукцию B=0.2\n",
    "    B=0.3 #0,3 для Ш-образного\n",
    "    #Построили схему замещения\n",
    "    #Определение магнитного сопротивления примаксимальном воздушном         зазоре\n",
    "    X_=c/2\n",
    "    print('X_=',X_)\n",
    "    #по рис. 7 по известной X'/δmax определяем Zb/δmax\n",
    "    print('X_/δ0max=',X_/δ0max) \n",
    "    #По графику ищем соответствие (для значений  <35 коэффициент 1.3)\n",
    "    Zb_δmax=X_/δ0max /1.3\n",
    "    print('Zb_δmax=',Zb_δmax) \n",
    "    Zb=Zb_δmax*δ0max\n",
    "    print('Zb=',Zb)\n",
    "    Z_a=a\n",
    "    print('Z_a=',Z_a)\n",
    "    Z__b=Z_a\n",
    "    print('Z__b=',Z__b)\n",
    "    x__δmax= Z__b/δ0max*1.3\n",
    "    x__=x__δmax*δ0max\n",
    "    print('x__=','%.3f'%x__)\n",
    "    # НОВЫЙ ШАГ\n",
    "    m1=(Z__b+(x__-δ0max/2))/2\n",
    "    m2=(Zb+(X_-δ0max))/2\n",
    "    print('m1=%.2f'%m1,'\\nm2=%.2f'%m2)\n",
    "    \n",
    "    G1=μ0*((2*b*1e-3)/(m.pi*((δ0max/m2)+0.5)))\n",
    "    print('m2=',m2,'\\n\\nG1=','%.3f e-9'%(G1*1e9))\n",
    "\n",
    "    G2=μ0*0.52*b*1e-3\n",
    "    G3=μ0*(a*b*1e-3/δ0max)\n",
    "    G4=μ0*0.26*b*1e-3\n",
    "    print('G2=','%.3f e-9'%(G2*1e9))\n",
    "    print('G3=','%.3f e-9'%(G3*1e9))\n",
    "    print('G4=','%.3f e-9'%(G4*1e9))\n",
    "\n",
    "    \n",
    "    G5=μ0*((2*b*1e-3)/(m.pi*((δ0max/m1)+1)))\n",
    "    print('m1=',m1,'\\n\\nG5=','%.3fe-9'%(G5*1e9))\n",
    "    #до зазора δ2\n",
    "\n",
    "    G6=μ0*0.077*δ0max*1e-3\n",
    "    G7=μ0*m1*1e-3/4\n",
    "    G8=2*G6+2*G7\n",
    "    print('G6=','%.3f e-9'%(G6*1e9))\n",
    "    print('G7=','%.3f e-9'%(G7*1e9))\n",
    "    print('G8=','%.3f e-9'%(G8*1e9))\n",
    "\n",
    "    Gb4=G1+G2+G3+3*(G4+G5)+2*(G6+G7+G8)\n",
    "    print('\\nGb4=','%.3f e-9'%(Gb4*1e9))\n",
    "\n",
    "    Rb4=1/Gb4\n",
    "    print('\\nRb4=','%.3f e6'%(Rb4*1e-6))\n",
    "\n",
    "    Gb2=G1+G2+G3+2*(G4+G5+G8)\n",
    "    print('\\nGb2=','%.3f e-9'%(Gb2*1e9))\n",
    "    Rb2=1/Gb2\n",
    "    print('\\nRb2=','%.3f e6'%(Rb2*1e-6))\n",
    "\n",
    "    R_ms=(Rb2+Rb4)/2\n",
    "\n",
    "    print('\\nR_ms','%.3f e6'%(R_ms*1e-6))\n",
    "    #4.1.3.3.\n",
    "    ro=0.0174\n",
    "    \n",
    "    lsr=2*(2*(c-eps-lamb)/k1+3*a+2*eps+4*lamb) #для Ш-образного\n",
    "    #lsr=4*(h+lamb)+2*eps  # Для П-образного\n",
    "\n",
    "    q=m.pi*d0**2/4\n",
    "    ow=2*m.pi*50\n",
    "    Ra_r=ro*lsr*1e-3*w/q\n",
    "    Ra_im=ow*w**2/R_ms\n",
    "    Ze=(Ra_r**2+Ra_im**2)**0.5\n",
    "    if δ0max==2:\n",
    "        Ze_min=(Ra_r**2+Ra_im**2)**0.5\n",
    "        print('\\nZe_min= %.2f e3 '%(Ze_min*1e-3))\n",
    "    else:\n",
    "        Ze_max=(Ra_r**2+Ra_im**2)**0.5\n",
    "        print('\\nZe_max= %.2f e3 '%(Ze_max*1e-3))\n",
    "    print('lsr=%.2f'%lsr)\n",
    "\n",
    "    print('\\nRa_r=%.2f'%Ra_r)\n",
    "    print('Ra_im=%.2f'%Ra_im)\n",
    "\n",
    "    \n",
    "    #4.1.3.4.\n",
    "    I=(B*2*a*b*R_ms*10**(-6))/(w*(2**0.5))\n",
    "    print('I= %.2f'%I)\n",
    "    j=I/q\n",
    "    print('j<=2..2.5 j= %.2f'%j)\n",
    "    U=I*Ze\n",
    "    print('U= %.2f'%U)\n",
    "    "
   ]
  },
  {
   "cell_type": "code",
   "execution_count": 36,
   "metadata": {},
   "outputs": [],
   "source": [
    "def x_δ (δ0,δ0max=δ0max,w=w,k1=1):\n",
    "    global Ze_max,Ze_min\n",
    "    global Iδmin,Gb4_max,Gb4_min,Iδmax,Gb2_max,Gb2_min\n",
    "    #4.1.3.2.\n",
    "    #Для расчета имеем п-образный сердечник. Для него следует выбирать      индукцию B=0.2\n",
    "    B=0.3 #0,3 для Ш-образного\n",
    "    #Построили схему замещения\n",
    "    #Определение магнитного сопротивления примаксимальном воздушном         зазоре\n",
    "    X_=c/2\n",
    "    print('X_=',X_)\n",
    "    #по рис. 7 по известной X'/δmax определяем Zb/δmax\n",
    "    print('δ0=',δ0) \n",
    "    print('X_/δ0=',X_/δ0) \n",
    "\n",
    "    #По графику ищем соответствие (для значений  <35 коэффициент 1.3)\n",
    "    Zb_δmax=X_/δ0 /1.3\n",
    "    print('Zb_δmax=',Zb_δmax) \n",
    "    Zb=Zb_δmax*δ0\n",
    "    print('Zb=',Zb)\n",
    "    Z_a=a\n",
    "    print('Z_a=',Z_a)\n",
    "    Z__b=Z_a\n",
    "    print('Z__b=',Z__b)\n",
    "    x__δmax= Z__b/δ0*1.3\n",
    "    x__=x__δmax*δ0\n",
    "    print('x__=','%.3f'%x__)\n",
    "    # НОВЫЙ ШАГ\n",
    "    m1=(Z__b+(x__-δ0/2))/2\n",
    "    m2=(Zb+(X_-δ0))/2\n",
    "    print('m1=%f'%m1,'\\nm2=%f'%m2)\n",
    "    \n",
    "    G1=μ0*((2*b*1e-3)/(m.pi*((δ/m2)+0.5)))\n",
    "    print('\\n\\nG1=','%.3f e-9'%(G1*1e9))\n",
    "\n",
    "    G2=μ0*0.52*b*1e-3\n",
    "    G3=μ0*(a*b*1e-3/δ0)\n",
    "    G4=μ0*0.26*b*1e-3\n",
    "    print('G2=','%.3f e-9'%(G2*1e9))\n",
    "    print('G3=','%.3f e-9'%(G3*1e9))\n",
    "    print('G4=','%.3f e-9'%(G4*1e9))\n",
    "\n",
    "    \n",
    "    G5=μ0*((2*b*1e-3)/(m.pi*((δ0/m1)+1)))\n",
    "    print('m1=',m1,'\\n\\nG5=','%.3fe-9'%(G5*1e9))\n",
    "    #до зазора δ2\n",
    "\n",
    "    G6=μ0*0.077*δ0*1e-3\n",
    "    G7=μ0*m1*1e-3/4\n",
    "    G8=2*G6+2*G7\n",
    "    print('G6=','%.3f e-9'%(G6*1e9))\n",
    "    print('G7=','%.3f e-9'%(G7*1e9))\n",
    "    print('G8=','%.3f e-9'%(G8*1e9))\n",
    "\n",
    "    Gb4=G1+G2+G3+3*(G4+G5)+2*(G6+G7+G8)\n",
    "    print('\\nGb4=','%.3f e-9'%(Gb4*1e9))\n",
    "\n",
    "    Rb4=1/Gb4\n",
    "    print('\\nRb4=','%.3f e6'%(Rb4*1e-6))\n",
    "\n",
    "    Gb2=G1+G2+G3+2*(G4+G5+G8)\n",
    "    print('\\nGb2=','%.3f e-9'%(Gb2*1e9))\n",
    "    Rb2=1/Gb2\n",
    "    print('\\nRb2=','%.3f e6'%(Rb2*1e-6))\n",
    "\n",
    "    R_ms=(Rb2+Rb4)/2\n",
    "\n",
    "    print('\\nR_ms','%.3f e6'%(R_ms*1e-6))\n",
    "    #4.1.3.3.\n",
    "    ro=0.0174\n",
    "    \n",
    "    lsr=2*(2*(c-eps-lamb)/k1+3*a+2*eps+4*lamb) #для Ш-образного\n",
    "    #lsr=4*(h+lamb)/k1+2*eps  # Для П-образного\n",
    "\n",
    "    q=m.pi*d0**2/4\n",
    "    ow=2*m.pi*50\n",
    "    Ra_r=ro*lsr*1e-3*w/q\n",
    "    Ra_im=ow*w**2/R_ms\n",
    "    Ze=(Ra_r**2+Ra_im**2)**0.5\n",
    "    if δ0==δ0max:\n",
    "        Ze_min=(Ra_r**2+Ra_im**2)**0.5\n",
    "        print('\\nZe_min= %.2f e3 '%(Ze_min*1e-3))\n",
    "    else:\n",
    "        Ze_max=(Ra_r**2+Ra_im**2)**0.5\n",
    "        print('\\nZe_max= %.2f e3 '%(Ze_max*1e-3))\n",
    "    print('lsr=%.2f'%lsr)\n",
    "\n",
    "    print('\\nRa_r=%.2f'%Ra_r)\n",
    "    print('Ra_im=%.2f'%Ra_im)\n",
    "\n",
    "    \n",
    "    #4.1.3.4.\n",
    "    I=(B*2*a*b*R_ms*10**(-6))/(w*(2**0.5))\n",
    "    print('I= %f'%I)\n",
    "    j=I/q\n",
    "    print('j<=2..2.5 j= %.2f'%j)\n",
    "    U=I*Ze\n",
    "    print('U= %.2f'%U)\n",
    "    if δ0==δ0max:\n",
    "        Iδmax=I\n",
    "        Gb4_max=Gb4\n",
    "        Gb2_max=Gb2\n",
    "    else:\n",
    "        Iδmin=I\n",
    "        Gb4_min=Gb4\n",
    "        Gb2_min=Gb2"
   ]
  },
  {
   "cell_type": "code",
   "execution_count": 37,
   "metadata": {},
   "outputs": [
    {
     "output_type": "stream",
     "name": "stdout",
     "text": [
      "X_= 20.0\nδ0= 2.0\nX_/δ0= 10.0\nZb_δmax= 7.692307692307692\nZb= 15.384615384615383\nZ_a= 10\nZ__b= 10\nx__= 13.000\nm1=11.000000 \nm2=16.692308\n\n\nG1= 15.997 e-9\nG2= 6.535 e-9\nG3= 62.832 e-9\nG4= 3.267 e-9\nm1= 11.0 \n\nG5= 6.769e-9\nG6= 0.194 e-9\nG7= 3.456 e-9\nG8= 7.299 e-9\n\nGb4= 137.369 e-9\n\nRb4= 7.280 e6\n\nGb2= 120.034 e-9\n\nRb2= 8.331 e6\n\nR_ms 7.805 e6\n\nZe_min= 17.49 e3 \nlsr=226.00\n\nRa_r=2595.19\nRa_im=17301.44\nI= 0.015972\nj<=2..2.5 j= 0.51\nU= 279.43\n\n\n\n\n\n\nX_= 20.0\nδ0= 1.4\nX_/δ0= 14.285714285714286\nZb_δmax= 10.989010989010989\nZb= 15.384615384615383\nZ_a= 10\nZ__b= 10\nx__= 13.000\nm1=11.150000 \nm2=16.992308\n\n\nG1= 15.997 e-9\nG2= 6.535 e-9\nG3= 89.760 e-9\nG4= 3.267 e-9\nm1= 11.15 \n\nG5= 7.108e-9\nG6= 0.135 e-9\nG7= 3.503 e-9\nG8= 7.277 e-9\n\nGb4= 165.246 e-9\n\nRb4= 6.052 e6\n\nGb2= 147.594 e-9\n\nRb2= 6.775 e6\n\nR_ms 6.413 e6\n\nZe_max= 21.22 e3 \nlsr=226.00\n\nRa_r=2595.19\nRa_im=21056.31\nI= 0.013124\nj<=2..2.5 j= 0.42\nU= 278.43\ndZe=3.72e+03\n"
     ]
    }
   ],
   "source": [
    "x_δ (δ0=δ0max)\n",
    "print('\\n\\n\\n\\n\\n')\n",
    "x_δ (δ0=δ0min)\n",
    "print('dZe=%.2e'%(Ze_max-Ze_min))"
   ]
  },
  {
   "cell_type": "code",
   "execution_count": 38,
   "metadata": {},
   "outputs": [
    {
     "output_type": "stream",
     "name": "stdout",
     "text": [
      "dZe=3.720648e+03\nS=6.201081e+03\nS0=5.000000e+03\nk1=1.113650\nw_new=18617.161284\n"
     ]
    }
   ],
   "source": [
    "dZe=m.fabs(Ze_max-Ze_min)\n",
    "print('dZe=%e'%dZe)\n",
    "S=dZe/(2*dδ)\n",
    "print('S=%e'%S)\n",
    "print('S0=%e'%S0)\n",
    "k1=(S/S0)**0.5\n",
    "print('k1=%f'%k1)\n",
    "w_new=w/k1\n",
    "print('w_new=%f'%w_new)"
   ]
  },
  {
   "cell_type": "code",
   "execution_count": 39,
   "metadata": {},
   "outputs": [
    {
     "output_type": "execute_result",
     "data": {
      "text/plain": [
       "20733"
      ]
     },
     "metadata": {},
     "execution_count": 39
    }
   ],
   "source": [
    "w"
   ]
  },
  {
   "cell_type": "code",
   "execution_count": 40,
   "metadata": {},
   "outputs": [
    {
     "output_type": "stream",
     "name": "stdout",
     "text": [
      "X_= 20.0\nδ0= 1.4\nX_/δ0= 14.285714285714286\nZb_δmax= 10.989010989010989\nZb= 15.384615384615383\nZ_a= 10\nZ__b= 10\nx__= 13.000\nm1=11.150000 \nm2=16.992308\n\n\nG1= 15.997 e-9\nG2= 6.535 e-9\nG3= 89.760 e-9\nG4= 3.267 e-9\nm1= 11.15 \n\nG5= 7.108e-9\nG6= 0.135 e-9\nG7= 3.503 e-9\nG8= 7.277 e-9\n\nGb4= 165.246 e-9\n\nRb4= 6.052 e6\n\nGb2= 147.594 e-9\n\nRb2= 6.775 e6\n\nR_ms 6.413 e6\n\nZe_max= 17.12 e3 \nlsr=211.51\n\nRa_r=2180.91\nRa_im=16977.64\nI= 0.014616\nj<=2..2.5 j= 0.47\nU= 250.18\nX_= 20.0\nδ0= 2.0\nX_/δ0= 10.0\nZb_δmax= 7.692307692307692\nZb= 15.384615384615383\nZ_a= 10\nZ__b= 10\nx__= 13.000\nm1=11.000000 \nm2=16.692308\n\n\nG1= 15.997 e-9\nG2= 6.535 e-9\nG3= 62.832 e-9\nG4= 3.267 e-9\nm1= 11.0 \n\nG5= 6.769e-9\nG6= 0.194 e-9\nG7= 3.456 e-9\nG8= 7.299 e-9\n\nGb4= 137.369 e-9\n\nRb4= 7.280 e6\n\nGb2= 120.034 e-9\n\nRb2= 8.331 e6\n\nR_ms 7.805 e6\n\nZe_min= 14.12 e3 \nlsr=211.51\n\nRa_r=2180.91\nRa_im=13950.10\nI= 0.017788\nj<=2..2.5 j= 0.57\nU= 251.15\n\n\n\n\n\n\ndZe=2.997602e+03\nS=4.996004e+03\nk1=0.999600\nw_new=18624.444182\n\n\n\n\n\n\nX_= 20.0\nδ0= 1.4\nX_/δ0= 14.285714285714286\nZb_δmax= 10.989010989010989\nZb= 15.384615384615383\nZ_a= 10\nZ__b= 10\nx__= 13.000\nm1=11.150000 \nm2=16.992308\n\n\nG1= 15.997 e-9\nG2= 6.535 e-9\nG3= 89.760 e-9\nG4= 3.267 e-9\nm1= 11.15 \n\nG5= 7.108e-9\nG6= 0.135 e-9\nG7= 3.503 e-9\nG8= 7.277 e-9\n\nGb4= 165.246 e-9\n\nRb4= 6.052 e6\n\nGb2= 147.594 e-9\n\nRb2= 6.775 e6\n\nR_ms 6.413 e6\n\nZe_max= 17.15 e3 \nlsr=226.06\n\nRa_r=2331.79\nRa_im=16990.41\nI= 0.014610\nj<=2..2.5 j= 0.47\nU= 250.56\nX_= 20.0\nδ0= 2.0\nX_/δ0= 10.0\nZb_δmax= 7.692307692307692\nZb= 15.384615384615383\nZ_a= 10\nZ__b= 10\nx__= 13.000\nm1=11.000000 \nm2=16.692308\n\n\nG1= 15.997 e-9\nG2= 6.535 e-9\nG3= 62.832 e-9\nG4= 3.267 e-9\nm1= 11.0 \n\nG5= 6.769e-9\nG6= 0.194 e-9\nG7= 3.456 e-9\nG8= 7.299 e-9\n\nGb4= 137.369 e-9\n\nRb4= 7.280 e6\n\nGb2= 120.034 e-9\n\nRb2= 8.331 e6\n\nR_ms 7.805 e6\n\nZe_min= 14.15 e3 \nlsr=226.06\n\nRa_r=2331.79\nRa_im=13960.59\nI= 0.017781\nj<=2..2.5 j= 0.57\nU= 251.67\n\n\n\n\n\n\ndZe=2.995691e+03\nS=4.992818e+03\nk1=0.999282\nw_new=18637.390529\n\n\n\n\n\n\nX_= 20.0\nδ0= 1.4\nX_/δ0= 14.285714285714286\nZb_δmax= 10.989010989010989\nZb= 15.384615384615383\nZ_a= 10\nZ__b= 10\nx__= 13.000\nm1=11.150000 \nm2=16.992308\n\n\nG1= 15.997 e-9\nG2= 6.535 e-9\nG3= 89.760 e-9\nG4= 3.267 e-9\nm1= 11.15 \n\nG5= 7.108e-9\nG6= 0.135 e-9\nG7= 3.503 e-9\nG8= 7.277 e-9\n\nGb4= 165.246 e-9\n\nRb4= 6.052 e6\n\nGb2= 147.594 e-9\n\nRb2= 6.775 e6\n\nR_ms 6.413 e6\n\nZe_max= 17.17 e3 \nlsr=226.10\n\nRa_r=2333.89\nRa_im=17014.14\nI= 0.014600\nj<=2..2.5 j= 0.46\nU= 250.73\nX_= 20.0\nδ0= 2.0\nX_/δ0= 10.0\nZb_δmax= 7.692307692307692\nZb= 15.384615384615383\nZ_a= 10\nZ__b= 10\nx__= 13.000\nm1=11.000000 \nm2=16.692308\n\n\nG1= 15.997 e-9\nG2= 6.535 e-9\nG3= 62.832 e-9\nG4= 3.267 e-9\nm1= 11.0 \n\nG5= 6.769e-9\nG6= 0.194 e-9\nG7= 3.456 e-9\nG8= 7.299 e-9\n\nGb4= 137.369 e-9\n\nRb4= 7.280 e6\n\nGb2= 120.034 e-9\n\nRb2= 8.331 e6\n\nR_ms 7.805 e6\n\nZe_min= 14.17 e3 \nlsr=226.10\n\nRa_r=2333.89\nRa_im=13980.09\nI= 0.017769\nj<=2..2.5 j= 0.57\nU= 251.84\n\n\n\n\n\n\ndZe=2.999908e+03\nS=4.999846e+03\nk1=0.999985\nw_new=18637.286768\n\n\n\n\n\n\nz=3\nw_new=18637.000000\n"
     ]
    }
   ],
   "source": [
    "z=0\n",
    "while m.fabs(S-S0)>1:\n",
    "    z=z+1\n",
    "    w_new=round(w_new)\n",
    "    x_δ (δ0=δ0min,w=w_new,k1=k1)\n",
    "    x_δ (δ0=δ0max,w=w_new,k1=k1)\n",
    "    print('\\n\\n\\n\\n\\n')\n",
    "    dZe=m.fabs(Ze_max-Ze_min)\n",
    "    print('dZe=%e'%dZe)\n",
    "    S=dZe/(2*dδ)\n",
    "    print('S=%e'%S)\n",
    "    k1=(S/S0)**0.5\n",
    "    print('k1=%f'%k1)\n",
    "    w_new=w_new/k1\n",
    "    print('w_new=%f'%w_new)\n",
    "    print('\\n\\n\\n\\n\\n')\n",
    "print('z=%d'%z)   \n",
    "m.fabs(S-S0)\n",
    "print('w_new=%f'%round(w_new))"
   ]
  },
  {
   "cell_type": "code",
   "execution_count": 41,
   "metadata": {},
   "outputs": [
    {
     "output_type": "stream",
     "name": "stdout",
     "text": [
      "Fsum=2.43\nFizm=15.00\nFizm>Fsum*5..10\n15.00>12.15..24.31\n"
     ]
    }
   ],
   "source": [
    "w_new=round(w_new)\n",
    "#4.1.3.7. Определение измерительного усилия\n",
    "\n",
    "Fsum=w_new**2*(Iδmin**2*(Gb4_min+Gb2_min)/(δ0min*1e-3)-Iδmax**2*(Gb4_max+Gb2_max)/(δ0max*1e-3))\n",
    "print('Fsum=%.2f'%Fsum)\n",
    "print('Fizm=%.2f'%Fizm)\n",
    "print('Fizm>Fsum*5..10')\n",
    "print('%.2f>%.2f..%.2f'%(Fizm,Fsum*5,Fsum*10))\n"
   ]
  },
  {
   "cell_type": "code",
   "execution_count": null,
   "metadata": {},
   "outputs": [],
   "source": []
  }
 ]
}