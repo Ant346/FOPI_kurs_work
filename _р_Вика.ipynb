{
 "metadata": {
  "language_info": {
   "codemirror_mode": {
    "name": "ipython",
    "version": 3
   },
   "file_extension": ".py",
   "mimetype": "text/x-python",
   "name": "python",
   "nbconvert_exporter": "python",
   "pygments_lexer": "ipython3",
   "version": "3.9.2"
  },
  "orig_nbformat": 2,
  "kernelspec": {
   "name": "python392jvsc74a57bd0d20511710d0ef1b8f61e9561ea7a1dacb95f86736785c369355f9020fcd31a57",
   "display_name": "Python 3.9.2 64-bit"
  },
  "metadata": {
   "interpreter": {
    "hash": "d20511710d0ef1b8f61e9561ea7a1dacb95f86736785c369355f9020fcd31a57"
   }
  }
 },
 "nbformat": 4,
 "nbformat_minor": 2,
 "cells": [
  {
   "cell_type": "code",
   "execution_count": 107,
   "metadata": {},
   "outputs": [
    {
     "output_type": "stream",
     "name": "stdout",
     "text": [
      " Sm= 6.158e-04\n Sδ= 9.425e-04\n Sm/Sδ= 6.533e-01\n Bm= 9.949e-01\n\n Bm_Hm= 3.109e-05\n\n Lm= 2.200e-02\n Dm= 2.800e-02\n\n"
     ]
    }
   ],
   "source": [
    "import math as m\n",
    "###3.1.1\n",
    "#///условия////\n",
    "a=2*1e-3\n",
    "δ=1.7*1e-3\n",
    "Dδ=30*1e-3\n",
    "h=10*1e-3\n",
    "Bδ=0.5\n",
    "Dm=Dδ-a\n",
    "k=0.3\n",
    "μ0=m.pi*4*1e-7\n",
    "#///условия////\n",
    "\n",
    "###3.2.1\n",
    "\n",
    "Sm=m.pi*Dm**2/4\n",
    "Sδ=h*m.pi*Dδ\n",
    "Sm_Sδ=Sm/Sδ\n",
    "Bm=Bδ*1/Sm_Sδ*(1+k)\n",
    "print(' Sm= %.3e\\n' %Sm,'Sδ= %.3e\\n' %Sδ,'Sm/Sδ= %.3e\\n' %Sm_Sδ,'Bm= %.3e\\n' %Bm)\n",
    "\n",
    "Hm=32*1e3\n",
    "Bm_Hm=Bm/Hm\n",
    "print(' Bm_Hm= %.3e\\n' %Bm_Hm)\n",
    "Lm=round((Bm_Hm*(δ/(μ0*(1+k)))*Sm_Sδ)+0.001,3)\n",
    "\n",
    "print(' Lm= %.3e\\n' %Lm,'Dm= %.3e\\n' %Dm)\n"
   ]
  },
  {
   "cell_type": "code",
   "execution_count": 108,
   "metadata": {},
   "outputs": [],
   "source": [
    "#Если не сошлось\n",
    "if 0:\n",
    "    Bm=0.95 #вводим желаемое значение исходя из рабочей точки графика\n",
    "    Hm=32*1e3 #эквивалентное ей значение напряженности\n",
    "    Dm=m.sqrt((Bδ*4*Dδ*h*(1+k))/(Bm))\n",
    "    Dm=round(Dm) # округляем\n",
    "    Sm=m.pi*Dm**2/4\n",
    "    Sm_Sδ=Sm/Sδ\n",
    "    Bm_Hm=Bm/Hm\n",
    "    Lm=Bm_Hm*(δ/(μ0*(1+k)))*Sm_Sδ\n",
    "    print(' Lm= %.3e\\n' %Lm,'Dm= %.3e\\n' %Dm,'Sm_Sδ= %.3e\\n' %Sm_Sδ)"
   ]
  },
  {
   "cell_type": "code",
   "execution_count": 109,
   "metadata": {},
   "outputs": [
    {
     "output_type": "stream",
     "name": "stdout",
     "text": [
      " Φm= 6.126e-04\n Φδ= 4.712e-04\n Bδ= 5.000e-01\n\n"
     ]
    }
   ],
   "source": [
    "###3.2.2 проверка \n",
    "Bm_Hm=μ0*(1+k)*Sδ/Sm*Lm/δ\n",
    "Hm2=20*1e3 #указываем значение точки по y через которую будем проводить прямую\n",
    "Bm2=Bm_Hm*Hm2\n",
    "#проводим прямую и смотрим значения пересечения\n",
    "Bm_izm=0.97\n",
    "Hm_izm=31*1e3\n",
    "Φm=Bm*Sm # ищем потоки и сравниваем с условием индукцию зазора\n",
    "Φδ=Bδ*Sδ\n",
    "Bδ=Φδ/Sδ\n",
    "print(' Φm= %.3e\\n' %Φm,'Φδ= %.3e\\n' %Φδ,'Bδ= %.3e\\n' %Bδ)\n"
   ]
  },
  {
   "cell_type": "code",
   "execution_count": 110,
   "metadata": {},
   "outputs": [],
   "source": [
    "import math as m\n",
    "###4.1.1\n",
    "#///условия////\n",
    "a=7 \n",
    "b=7\n",
    "c=30\n",
    "dδ=0.2\n",
    "h=50\n",
    "S0=2500\n",
    "Fizm=10\n",
    "f=a\n",
    "#///условия////\n",
    "d0=0.2\n",
    "d1=0.22\n",
    "lamb=1.5\n",
    "eps=3\n",
    "μ0=m.pi*4*1e-7"
   ]
  },
  {
   "source": [
    "f0_list=[0.6,0.55,0.5]\n",
    "f0=f0_list[0] # Выбираем сечение провода(у всех дефолтное)\n",
    "w=m.ceil(4*f0*(c-eps-2*lamb)*(h-lamb-f)/(m.pi*d1**2)) #считаем количесвто витков, округляем до целого\n",
    "print('w= ','%.0f'%w)"
   ],
   "cell_type": "code",
   "metadata": {},
   "execution_count": 111,
   "outputs": [
    {
     "output_type": "stream",
     "name": "stdout",
     "text": [
      "w=  15721\n"
     ]
    }
   ]
  },
  {
   "cell_type": "code",
   "execution_count": 112,
   "metadata": {},
   "outputs": [
    {
     "output_type": "stream",
     "name": "stdout",
     "text": [
      "δ0min1= 1.0 \nδ0max1= 1.333\n\nδ0min2= 0.7000000000000001 \nδ0max2= 1.4000000000000001\n"
     ]
    }
   ],
   "source": [
    "δ0max1=dδ/0.15 #определяем границы начального зазора 1 соотношение\n",
    "δ0min1=dδ/0.2\n",
    "print('δ0min1=',δ0min1,'\\nδ0max1=','%.3f'%δ0max1)\n",
    "\n",
    "δ0min2=a*0.1 #определяем границы начального зазора 2  соотношение\n",
    "δ0max2=a*0.2\n",
    "print('\\nδ0min2=',δ0min2,'\\nδ0max2=',δ0max2)"
   ]
  },
  {
   "cell_type": "code",
   "execution_count": 119,
   "metadata": {},
   "outputs": [
    {
     "output_type": "stream",
     "name": "stdout",
     "text": [
      "δ0= 1.0\nПри несовпадении значений точности следует уменьшить зазор δ0, что собственно вручную и сделано\nδ0= 0.9\n"
     ]
    }
   ],
   "source": [
    "#Выбрать наименьшее значение, которые находится сразу в обоих множествах\n",
    "min = 1e10\n",
    "if δ0min1<δ0min2: \n",
    "    δ0=round(δ0min2,2)\n",
    "else:\n",
    "    δ0=round(δ0min1,2)\n",
    "print('δ0=',δ0)\n",
    "print('При несовпадении значений точности следует уменьшить зазор δ0, что собственно вручную и сделано')\n",
    "δ0=0.9\n",
    "print('δ0=',δ0)"
   ]
  },
  {
   "cell_type": "code",
   "execution_count": 120,
   "metadata": {},
   "outputs": [
    {
     "output_type": "stream",
     "name": "stdout",
     "text": [
      "δ0max= 1.1 \nδ0min= 0.7\n"
     ]
    }
   ],
   "source": [
    "δ0max=δ0+dδ # добавляем ход\n",
    "δ0min=δ0-dδ\n",
    "print('δ0max=',δ0max,'\\nδ0min=',δ0min)"
   ]
  },
  {
   "cell_type": "code",
   "execution_count": 121,
   "metadata": {},
   "outputs": [],
   "source": [
    "def x_δ (δ0,δ0max=δ0max,w=w,k1=1):\n",
    "    global Ze_max,Ze_min\n",
    "    global Iδmin,Gb4_max,Gb4_min,Iδmax\n",
    "    #4.1.3.2.\n",
    "    #Для расчета имеем п-образный сердечник. Для него следует выбирать      индукцию B=0.2\n",
    "    B=0.2 #0,3 для Ш-образного\n",
    "    #Построили схему замещения\n",
    "    #Определение магнитного сопротивления примаксимальном воздушном         зазоре\n",
    "    X_=c/2\n",
    "    print('X_=',X_)\n",
    "    #по рис. 7 по известной X'/δmax определяем Zb/δmax\n",
    "    print('δ0=',δ0) \n",
    "    print('X_/δ0=',X_/δ0) \n",
    "\n",
    "    #По графику ищем соответствие (для значений  <35 коэффициент 1.3)\n",
    "    Zb_δmax=X_/δ0 /1.3\n",
    "    print('Zb_δmax=',Zb_δmax) \n",
    "    Zb=Zb_δmax*δ0\n",
    "    print('Zb=',Zb)\n",
    "    Z_a=a\n",
    "    print('Z_a=',Z_a)\n",
    "    Z__b=Z_a\n",
    "    print('Z__b=',Z__b)\n",
    "    x__δmax= Z__b/δ0*1.3\n",
    "    x__=x__δmax*δ0\n",
    "    print('x__=','%.3f'%x__)\n",
    "    # НОВЫЙ ШАГ\n",
    "    m1=(Z__b+(x__-δ0/2))/2\n",
    "    m2=(Zb+(X_-δ0))/2\n",
    "    print('m1=%f'%m1,'\\nm2=%f'%m2)\n",
    "    \n",
    "    G1=μ0*((2*b*1e-3)/(m.pi*((δ/m2)+0.5)))\n",
    "    print('\\n\\nG1=','%.3f e-9'%(G1*1e9))\n",
    "\n",
    "    G2=μ0*0.52*b*1e-3\n",
    "    G3=μ0*(a*b*1e-3/δ0)\n",
    "    G4=μ0*0.26*b*1e-3\n",
    "    print('G2=','%.3f e-9'%(G2*1e9))\n",
    "    print('G3=','%.3f e-9'%(G3*1e9))\n",
    "    print('G4=','%.3f e-9'%(G4*1e9))\n",
    "\n",
    "    \n",
    "    G5=μ0*((2*b*1e-3)/(m.pi*((δ0/m1)+1)))\n",
    "    print('m1=',m1,'\\n\\nG5=','%.3fe-9'%(G5*1e9))\n",
    "    #до зазора δ2\n",
    "\n",
    "    G6=μ0*0.077*δ0*1e-3\n",
    "    G7=μ0*m1*1e-3/4\n",
    "    G8=2*G6+2*G7\n",
    "    print('G6=','%.3f e-9'%(G6*1e9))\n",
    "    print('G7=','%.3f e-9'%(G7*1e9))\n",
    "    print('G8=','%.3f e-9'%(G8*1e9))\n",
    "\n",
    "    Gb4=G1+G2+G3+3*(G4+G5)+2*(G6+G7+G8)\n",
    "    print('\\nGb4=','%.3f e-9'%(Gb4*1e9))\n",
    "\n",
    "    Rb4=1/Gb4\n",
    "    print('\\nRb4=','%.3f e6'%(Rb4*1e-6))\n",
    "\n",
    "    Gb2=G1+G2+G3+2*(G4+G5+G8)\n",
    "    print('\\nGb2=','%.3f e-9'%(Gb2*1e9))\n",
    "    Rb2=1/Gb2\n",
    "    print('\\nRb2=','%.3f e6'%(Rb2*1e-6))\n",
    "\n",
    "    R_ms=Rb4*2\n",
    "\n",
    "    print('\\nR_ms','%.3f e6'%(R_ms*1e-6))\n",
    "    #4.1.3.3.\n",
    "    ro=0.0174\n",
    "    \n",
    "    #lsr=2*(2*(c-eps-lamb)/k1+3*a+2*eps+4*lamb) #для Ш-образного\n",
    "    lsr=4*(h+lamb)/k1+2*eps  # Для П-образного\n",
    "\n",
    "    q=m.pi*d0**2/4\n",
    "    ow=2*m.pi*50\n",
    "    Ra_r=ro*lsr*1e-3*w/q\n",
    "    Ra_im=ow*w**2/R_ms\n",
    "    Ze=(Ra_r**2+Ra_im**2)**0.5\n",
    "    if δ0==δ0max:\n",
    "        Ze_min=(Ra_r**2+Ra_im**2)**0.5\n",
    "        print('\\nZe_min= %.2f e3 '%(Ze_min*1e-3))\n",
    "    else:\n",
    "        Ze_max=(Ra_r**2+Ra_im**2)**0.5\n",
    "        print('\\nZe_max= %.2f e3 '%(Ze_max*1e-3))\n",
    "    print('lsr=%.2f'%lsr)\n",
    "\n",
    "    print('\\nRa_r=%.2f'%Ra_r)\n",
    "    print('Ra_im=%.2f'%Ra_im)\n",
    "\n",
    "    \n",
    "    #4.1.3.4.\n",
    "    I=(B*2*a*b*R_ms*10**(-6))/(w*(2**0.5))\n",
    "    print('I= %f'%I)\n",
    "    j=I/q\n",
    "    print('j<=2..2.5 j= %.2f'%j)\n",
    "    U=I*Ze\n",
    "    print('U= %.2f'%U)\n",
    "    if δ0==δ0max:\n",
    "        Iδmax=I\n",
    "        Gb4_max=Gb4\n",
    "    else:\n",
    "        Iδmin=I\n",
    "        Gb4_min=Gb4\n",
    "\n",
    "    "
   ]
  },
  {
   "cell_type": "code",
   "execution_count": 122,
   "metadata": {},
   "outputs": [
    {
     "output_type": "stream",
     "name": "stdout",
     "text": [
      "X_= 15.0\nδ0= 1.1\nX_/δ0= 13.636363636363635\nZb_δmax= 10.489510489510488\nZb= 11.538461538461538\nZ_a= 7\nZ__b= 7\nx__= 9.100\nm1=7.775000 \nm2=12.719231\n\n\nG1= 11.197 e-9\nG2= 4.574 e-9\nG3= 55.977 e-9\nG4= 2.287 e-9\nm1= 7.775 \n\nG5= 4.906e-9\nG6= 0.106 e-9\nG7= 2.443 e-9\nG8= 5.098 e-9\n\nGb4= 108.622 e-9\n\nRb4= 9.206 e6\n\nGb2= 96.331 e-9\n\nRb2= 10.381 e6\n\nR_ms 18.413 e6\n\nZe_min= 4.60 e3 \nlsr=212.00\n\nRa_r=1845.93\nRa_im=4216.94\nI= 0.016232\nj<=2..2.5 j= 0.52\nU= 74.72\n\n\n\n\n\n\nX_= 15.0\nδ0= 0.7\nX_/δ0= 21.42857142857143\nZb_δmax= 16.483516483516485\nZb= 11.538461538461538\nZ_a= 7\nZ__b= 7\nx__= 9.100\nm1=7.875000 \nm2=12.919231\n\n\nG1= 11.197 e-9\nG2= 4.574 e-9\nG3= 87.965 e-9\nG4= 2.287 e-9\nm1= 7.875 \n\nG5= 5.143e-9\nG6= 0.068 e-9\nG7= 2.474 e-9\nG8= 5.083 e-9\n\nGb4= 141.276 e-9\n\nRb4= 7.078 e6\n\nGb2= 128.763 e-9\n\nRb2= 7.766 e6\n\nR_ms 14.157 e6\n\nZe_max= 5.79 e3 \nlsr=212.00\n\nRa_r=1845.93\nRa_im=5484.65\nI= 0.012480\nj<=2..2.5 j= 0.40\nU= 72.22\ndZe=1.18e+03\n"
     ]
    }
   ],
   "source": [
    "x_δ (δ0=δ0max)\n",
    "print('\\n\\n\\n\\n\\n')\n",
    "x_δ (δ0=δ0min)\n",
    "print('dZe=%.2e'%(Ze_max-Ze_min))"
   ]
  },
  {
   "cell_type": "code",
   "execution_count": 123,
   "metadata": {},
   "outputs": [
    {
     "output_type": "stream",
     "name": "stdout",
     "text": [
      "dZe=1.183691e+03\nS=2.959227e+03\nS0=2.500000e+03\nk1=1.087976\nw_new=14449.772695\n"
     ]
    }
   ],
   "source": [
    "\n",
    "\n",
    "dZe=Ze_max-Ze_min\n",
    "print('dZe=%e'%dZe)\n",
    "S=dZe/(2*dδ)\n",
    "print('S=%e'%S)\n",
    "print('S0=%e'%S0)\n",
    "k1=(S/S0)**0.5\n",
    "print('k1=%f'%k1)\n",
    "w_new=w/k1\n",
    "print('w_new=%f'%w_new)"
   ]
  },
  {
   "cell_type": "code",
   "execution_count": 124,
   "metadata": {},
   "outputs": [
    {
     "output_type": "execute_result",
     "data": {
      "text/plain": [
       "1271.227305175953"
      ]
     },
     "metadata": {},
     "execution_count": 124
    }
   ],
   "source": [
    "w-w_new"
   ]
  },
  {
   "cell_type": "code",
   "execution_count": 125,
   "metadata": {},
   "outputs": [
    {
     "output_type": "stream",
     "name": "stdout",
     "text": [
      "δ0min= 0.7\nδ0max= 1.1\nX_= 15.0\nδ0= 0.7\nX_/δ0= 21.42857142857143\nZb_δmax= 16.483516483516485\nZb= 11.538461538461538\nZ_a= 7\nZ__b= 7\nx__= 9.100\nm1=7.875000 \nm2=12.919231\n\n\nG1= 11.197 e-9\nG2= 4.574 e-9\nG3= 87.965 e-9\nG4= 2.287 e-9\nm1= 7.875 \n\nG5= 5.143e-9\nG6= 0.068 e-9\nG7= 2.474 e-9\nG8= 5.083 e-9\n\nGb4= 141.276 e-9\n\nRb4= 7.078 e6\n\nGb2= 128.763 e-9\n\nRb2= 7.766 e6\n\nR_ms 14.157 e6\n\nZe_max= 4.93 e3 \nlsr=212.00\n\nRa_r=1696.69\nRa_im=4633.66\nI= 0.013578\nj<=2..2.5 j= 0.43\nU= 67.00\nX_= 15.0\nδ0= 1.1\nX_/δ0= 13.636363636363635\nZb_δmax= 10.489510489510488\nZb= 11.538461538461538\nZ_a= 7\nZ__b= 7\nx__= 9.100\nm1=7.775000 \nm2=12.719231\n\n\nG1= 11.197 e-9\nG2= 4.574 e-9\nG3= 55.977 e-9\nG4= 2.287 e-9\nm1= 7.775 \n\nG5= 4.906e-9\nG6= 0.106 e-9\nG7= 2.443 e-9\nG8= 5.098 e-9\n\nGb4= 108.622 e-9\n\nRb4= 9.206 e6\n\nGb2= 96.331 e-9\n\nRb2= 10.381 e6\n\nR_ms 18.413 e6\n\nZe_min= 3.95 e3 \nlsr=212.00\n\nRa_r=1696.69\nRa_im=3562.64\nI= 0.017660\nj<=2..2.5 j= 0.56\nU= 69.69\n\n\n\n\n\n\ndZe=9.884916e+02\nS=2.471229e+03\nk1=0.994229\nw_new=14533.872536\n\n\n\n\n\n\nδ0min= 0.7\nδ0max= 1.1\nX_= 15.0\nδ0= 0.7\nX_/δ0= 21.42857142857143\nZb_δmax= 16.483516483516485\nZb= 11.538461538461538\nZ_a= 7\nZ__b= 7\nx__= 9.100\nm1=7.875000 \nm2=12.919231\n\n\nG1= 11.197 e-9\nG2= 4.574 e-9\nG3= 87.965 e-9\nG4= 2.287 e-9\nm1= 7.875 \n\nG5= 5.143e-9\nG6= 0.068 e-9\nG7= 2.474 e-9\nG8= 5.083 e-9\n\nGb4= 141.276 e-9\n\nRb4= 7.078 e6\n\nGb2= 128.763 e-9\n\nRb2= 7.766 e6\n\nR_ms 14.157 e6\n\nZe_max= 4.99 e3 \nlsr=212.00\n\nRa_r=1706.56\nRa_im=4687.69\nI= 0.013499\nj<=2..2.5 j= 0.43\nU= 67.34\nX_= 15.0\nδ0= 1.1\nX_/δ0= 13.636363636363635\nZb_δmax= 10.489510489510488\nZb= 11.538461538461538\nZ_a= 7\nZ__b= 7\nx__= 9.100\nm1=7.775000 \nm2=12.719231\n\n\nG1= 11.197 e-9\nG2= 4.574 e-9\nG3= 55.977 e-9\nG4= 2.287 e-9\nm1= 7.775 \n\nG5= 4.906e-9\nG6= 0.106 e-9\nG7= 2.443 e-9\nG8= 5.098 e-9\n\nGb4= 108.622 e-9\n\nRb4= 9.206 e6\n\nGb2= 96.331 e-9\n\nRb2= 10.381 e6\n\nR_ms 18.413 e6\n\nZe_min= 3.99 e3 \nlsr=212.00\n\nRa_r=1706.56\nRa_im=3604.18\nI= 0.017558\nj<=2..2.5 j= 0.56\nU= 70.02\n\n\n\n\n\n\ndZe=1.000871e+03\nS=2.502177e+03\nk1=1.000435\nw_new=14527.677053\n\n\n\n\n\n\nδ0min= 0.7\nδ0max= 1.1\nX_= 15.0\nδ0= 0.7\nX_/δ0= 21.42857142857143\nZb_δmax= 16.483516483516485\nZb= 11.538461538461538\nZ_a= 7\nZ__b= 7\nx__= 9.100\nm1=7.875000 \nm2=12.919231\n\n\nG1= 11.197 e-9\nG2= 4.574 e-9\nG3= 87.965 e-9\nG4= 2.287 e-9\nm1= 7.875 \n\nG5= 5.143e-9\nG6= 0.068 e-9\nG7= 2.474 e-9\nG8= 5.083 e-9\n\nGb4= 141.276 e-9\n\nRb4= 7.078 e6\n\nGb2= 128.763 e-9\n\nRb2= 7.766 e6\n\nR_ms 14.157 e6\n\nZe_max= 4.98 e3 \nlsr=212.00\n\nRa_r=1705.85\nRa_im=4683.82\nI= 0.013505\nj<=2..2.5 j= 0.43\nU= 67.32\nX_= 15.0\nδ0= 1.1\nX_/δ0= 13.636363636363635\nZb_δmax= 10.489510489510488\nZb= 11.538461538461538\nZ_a= 7\nZ__b= 7\nx__= 9.100\nm1=7.775000 \nm2=12.719231\n\n\nG1= 11.197 e-9\nG2= 4.574 e-9\nG3= 55.977 e-9\nG4= 2.287 e-9\nm1= 7.775 \n\nG5= 4.906e-9\nG6= 0.106 e-9\nG7= 2.443 e-9\nG8= 5.098 e-9\n\nGb4= 108.622 e-9\n\nRb4= 9.206 e6\n\nGb2= 96.331 e-9\n\nRb2= 10.381 e6\n\nR_ms 18.413 e6\n\nZe_min= 3.98 e3 \nlsr=212.00\n\nRa_r=1705.85\nRa_im=3601.21\nI= 0.017565\nj<=2..2.5 j= 0.56\nU= 69.99\n\n\n\n\n\n\ndZe=9.999840e+02\nS=2.499960e+03\nk1=0.999992\nw_new=14528.116296\n\n\n\n\n\n\nz=3\nw_new=14528.000000\n"
     ]
    }
   ],
   "source": [
    "z=0\n",
    "while m.fabs(S-S0)>1:\n",
    "    print('δ0min=',δ0min)\n",
    "    print('δ0max=',δ0max)\n",
    "    z=z+1\n",
    "    w_new=round(w_new)\n",
    "    x_δ (δ0=δ0min,w=w_new)\n",
    "    x_δ (δ0=δ0max,w=w_new)\n",
    "    print('\\n\\n\\n\\n\\n')\n",
    "    dZe=Ze_max-Ze_min\n",
    "    print('dZe=%e'%dZe)\n",
    "    S=dZe/(2*dδ)\n",
    "    print('S=%e'%S)\n",
    "    k1=(S/S0)**0.5\n",
    "    print('k1=%f'%k1)\n",
    "    w_new=w_new/k1\n",
    "    print('w_new=%f'%w_new)\n",
    "    print('\\n\\n\\n\\n\\n')\n",
    "print('z=%d'%z)   \n",
    "m.fabs(S-S0)\n",
    "print('w_new=%f'%round(w_new))"
   ]
  },
  {
   "cell_type": "code",
   "execution_count": 126,
   "metadata": {},
   "outputs": [
    {
     "output_type": "execute_result",
     "data": {
      "text/plain": [
       "0.04002425237104035"
      ]
     },
     "metadata": {},
     "execution_count": 126
    }
   ],
   "source": [
    "m.fabs(S-S0)"
   ]
  },
  {
   "cell_type": "code",
   "execution_count": 127,
   "metadata": {},
   "outputs": [
    {
     "output_type": "stream",
     "name": "stdout",
     "text": [
      "Fsum=1.34\nFizm=10.00\nFizm>Fsum*5..10\n10.00>6.69..13.39\n"
     ]
    }
   ],
   "source": [
    "w_new=round(w_new)\n",
    "#4.1.3.7. Определение измерительного усилия\n",
    "Fsum=w_new**2*(Iδmin**2*Gb4_min/(δ0min*1e-3)-Iδmax**2*Gb4_max/(δ0max*1e-3))\n",
    "print('Fsum=%.2f'%Fsum)\n",
    "print('Fizm=%.2f'%Fizm)\n",
    "print('Fizm>Fsum*5..10')\n",
    "print('%.2f>%.2f..%.2f'%(Fizm,Fsum*5,Fsum*10))\n"
   ]
  },
  {
   "cell_type": "code",
   "execution_count": null,
   "metadata": {},
   "outputs": [],
   "source": []
  }
 ]
}